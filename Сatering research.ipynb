{
 "cells": [
  {
   "cell_type": "code",
   "execution_count": 1,
   "metadata": {},
   "outputs": [],
   "source": [
    "import pandas as pd\n",
    "import seaborn as sns\n",
    "import matplotlib.pyplot as plt\n",
    "data = pd.read_csv(\"/datasets/rest_data.csv\")"
   ]
  },
  {
   "cell_type": "code",
   "execution_count": 2,
   "metadata": {},
   "outputs": [
    {
     "data": {
      "text/html": [
       "<div>\n",
       "<style scoped>\n",
       "    .dataframe tbody tr th:only-of-type {\n",
       "        vertical-align: middle;\n",
       "    }\n",
       "\n",
       "    .dataframe tbody tr th {\n",
       "        vertical-align: top;\n",
       "    }\n",
       "\n",
       "    .dataframe thead th {\n",
       "        text-align: right;\n",
       "    }\n",
       "</style>\n",
       "<table border=\"1\" class=\"dataframe\">\n",
       "  <thead>\n",
       "    <tr style=\"text-align: right;\">\n",
       "      <th></th>\n",
       "      <th>id</th>\n",
       "      <th>object_name</th>\n",
       "      <th>chain</th>\n",
       "      <th>object_type</th>\n",
       "      <th>address</th>\n",
       "      <th>number</th>\n",
       "    </tr>\n",
       "  </thead>\n",
       "  <tbody>\n",
       "    <tr>\n",
       "      <td>0</td>\n",
       "      <td>151635</td>\n",
       "      <td>СМЕТАНА</td>\n",
       "      <td>нет</td>\n",
       "      <td>кафе</td>\n",
       "      <td>город Москва, улица Егора Абакумова, дом 9</td>\n",
       "      <td>48</td>\n",
       "    </tr>\n",
       "    <tr>\n",
       "      <td>1</td>\n",
       "      <td>77874</td>\n",
       "      <td>Родник</td>\n",
       "      <td>нет</td>\n",
       "      <td>кафе</td>\n",
       "      <td>город Москва, улица Талалихина, дом 2/1, корпус 1</td>\n",
       "      <td>35</td>\n",
       "    </tr>\n",
       "    <tr>\n",
       "      <td>2</td>\n",
       "      <td>24309</td>\n",
       "      <td>Кафе «Академия»</td>\n",
       "      <td>нет</td>\n",
       "      <td>кафе</td>\n",
       "      <td>город Москва, Абельмановская улица, дом 6</td>\n",
       "      <td>95</td>\n",
       "    </tr>\n",
       "    <tr>\n",
       "      <td>3</td>\n",
       "      <td>21894</td>\n",
       "      <td>ПИЦЦЕТОРИЯ</td>\n",
       "      <td>да</td>\n",
       "      <td>кафе</td>\n",
       "      <td>город Москва, Абрамцевская улица, дом 1</td>\n",
       "      <td>40</td>\n",
       "    </tr>\n",
       "    <tr>\n",
       "      <td>4</td>\n",
       "      <td>119365</td>\n",
       "      <td>Кафе «Вишневая метель»</td>\n",
       "      <td>нет</td>\n",
       "      <td>кафе</td>\n",
       "      <td>город Москва, Абрамцевская улица, дом 9, корпус 1</td>\n",
       "      <td>50</td>\n",
       "    </tr>\n",
       "  </tbody>\n",
       "</table>\n",
       "</div>"
      ],
      "text/plain": [
       "       id             object_name chain object_type  \\\n",
       "0  151635                 СМЕТАНА   нет        кафе   \n",
       "1   77874                  Родник   нет        кафе   \n",
       "2   24309         Кафе «Академия»   нет        кафе   \n",
       "3   21894              ПИЦЦЕТОРИЯ    да        кафе   \n",
       "4  119365  Кафе «Вишневая метель»   нет        кафе   \n",
       "\n",
       "                                             address  number  \n",
       "0         город Москва, улица Егора Абакумова, дом 9      48  \n",
       "1  город Москва, улица Талалихина, дом 2/1, корпус 1      35  \n",
       "2          город Москва, Абельмановская улица, дом 6      95  \n",
       "3            город Москва, Абрамцевская улица, дом 1      40  \n",
       "4  город Москва, Абрамцевская улица, дом 9, корпус 1      50  "
      ]
     },
     "execution_count": 2,
     "metadata": {},
     "output_type": "execute_result"
    }
   ],
   "source": [
    "# lets look at data\n",
    "data.head()"
   ]
  },
  {
   "cell_type": "code",
   "execution_count": 3,
   "metadata": {},
   "outputs": [
    {
     "data": {
      "text/plain": [
       "id             0\n",
       "object_name    0\n",
       "chain          0\n",
       "object_type    0\n",
       "address        0\n",
       "number         0\n",
       "dtype: int64"
      ]
     },
     "execution_count": 3,
     "metadata": {},
     "output_type": "execute_result"
    }
   ],
   "source": [
    "#see if there are missing values\n",
    "data.isna().sum()"
   ]
  },
  {
   "cell_type": "code",
   "execution_count": 4,
   "metadata": {},
   "outputs": [
    {
     "data": {
      "text/plain": [
       "0"
      ]
     },
     "execution_count": 4,
     "metadata": {},
     "output_type": "execute_result"
    }
   ],
   "source": [
    "# see if there are duplicates\n",
    "data.duplicated().sum()"
   ]
  },
  {
   "cell_type": "markdown",
   "metadata": {},
   "source": [
    "    \n",
    "<div class=\"alert alert-info\" style=\"background:#ffdbf1;color:#2e00ab\">\n",
    "<h3> </h3>\n",
    "    See, if there are duplicates without id\n",
    "</div>"
   ]
  },
  {
   "cell_type": "code",
   "execution_count": 5,
   "metadata": {},
   "outputs": [
    {
     "data": {
      "text/plain": [
       "82"
      ]
     },
     "execution_count": 5,
     "metadata": {},
     "output_type": "execute_result"
    }
   ],
   "source": [
    "data.duplicated(subset=['object_name','chain','object_type','address','number']).sum()"
   ]
  },
  {
   "cell_type": "code",
   "execution_count": 7,
   "metadata": {},
   "outputs": [],
   "source": [
    "data = data.drop_duplicates(subset=['object_name','chain','object_type','address','number']).reset_index(drop\n",
    "= True)\n"
   ]
  },
  {
   "cell_type": "code",
   "execution_count": 8,
   "metadata": {},
   "outputs": [
    {
     "data": {
      "text/plain": [
       "0"
      ]
     },
     "execution_count": 8,
     "metadata": {},
     "output_type": "execute_result"
    }
   ],
   "source": [
    "data.duplicated(subset=['object_name','chain','object_type','address','number']).sum()"
   ]
  },
  {
   "cell_type": "code",
   "execution_count": 9,
   "metadata": {},
   "outputs": [
    {
     "data": {
      "text/plain": [
       "0"
      ]
     },
     "execution_count": 9,
     "metadata": {},
     "output_type": "execute_result"
    }
   ],
   "source": [
    "\n",
    "\n",
    "data.duplicated(subset=['object_name','chain','object_type','address','number']).sum()\n"
   ]
  },
  {
   "cell_type": "markdown",
   "metadata": {},
   "source": [
    "# Data analysis"
   ]
  },
  {
   "cell_type": "markdown",
   "metadata": {},
   "source": [
    "<div class=\"alert alert-info\" style=\"background:#ffdbf1;color:#2e00ab\">\n",
    "<h3></h3>\n",
    "    Let's bring object_name to one register\n",
    "</div>"
   ]
  },
  {
   "cell_type": "code",
   "execution_count": 10,
   "metadata": {},
   "outputs": [],
   "source": [
    "data['object_name'] = data['object_name'].str.lower()"
   ]
  },
  {
   "cell_type": "code",
   "execution_count": 11,
   "metadata": {},
   "outputs": [
    {
     "data": {
      "text/html": [
       "<div>\n",
       "<style scoped>\n",
       "    .dataframe tbody tr th:only-of-type {\n",
       "        vertical-align: middle;\n",
       "    }\n",
       "\n",
       "    .dataframe tbody tr th {\n",
       "        vertical-align: top;\n",
       "    }\n",
       "\n",
       "    .dataframe thead th {\n",
       "        text-align: right;\n",
       "    }\n",
       "</style>\n",
       "<table border=\"1\" class=\"dataframe\">\n",
       "  <thead>\n",
       "    <tr style=\"text-align: right;\">\n",
       "      <th></th>\n",
       "      <th>id</th>\n",
       "      <th>object_name</th>\n",
       "      <th>chain</th>\n",
       "      <th>object_type</th>\n",
       "      <th>address</th>\n",
       "      <th>number</th>\n",
       "    </tr>\n",
       "  </thead>\n",
       "  <tbody>\n",
       "    <tr>\n",
       "      <td>0</td>\n",
       "      <td>151635</td>\n",
       "      <td>сметана</td>\n",
       "      <td>нет</td>\n",
       "      <td>кафе</td>\n",
       "      <td>город Москва, улица Егора Абакумова, дом 9</td>\n",
       "      <td>48</td>\n",
       "    </tr>\n",
       "    <tr>\n",
       "      <td>1</td>\n",
       "      <td>77874</td>\n",
       "      <td>родник</td>\n",
       "      <td>нет</td>\n",
       "      <td>кафе</td>\n",
       "      <td>город Москва, улица Талалихина, дом 2/1, корпус 1</td>\n",
       "      <td>35</td>\n",
       "    </tr>\n",
       "    <tr>\n",
       "      <td>2</td>\n",
       "      <td>24309</td>\n",
       "      <td>кафе «академия»</td>\n",
       "      <td>нет</td>\n",
       "      <td>кафе</td>\n",
       "      <td>город Москва, Абельмановская улица, дом 6</td>\n",
       "      <td>95</td>\n",
       "    </tr>\n",
       "    <tr>\n",
       "      <td>3</td>\n",
       "      <td>21894</td>\n",
       "      <td>пиццетория</td>\n",
       "      <td>да</td>\n",
       "      <td>кафе</td>\n",
       "      <td>город Москва, Абрамцевская улица, дом 1</td>\n",
       "      <td>40</td>\n",
       "    </tr>\n",
       "    <tr>\n",
       "      <td>4</td>\n",
       "      <td>119365</td>\n",
       "      <td>кафе «вишневая метель»</td>\n",
       "      <td>нет</td>\n",
       "      <td>кафе</td>\n",
       "      <td>город Москва, Абрамцевская улица, дом 9, корпус 1</td>\n",
       "      <td>50</td>\n",
       "    </tr>\n",
       "    <tr>\n",
       "      <td>...</td>\n",
       "      <td>...</td>\n",
       "      <td>...</td>\n",
       "      <td>...</td>\n",
       "      <td>...</td>\n",
       "      <td>...</td>\n",
       "      <td>...</td>\n",
       "    </tr>\n",
       "    <tr>\n",
       "      <td>15279</td>\n",
       "      <td>208537</td>\n",
       "      <td>шоколадница</td>\n",
       "      <td>да</td>\n",
       "      <td>кафе</td>\n",
       "      <td>город Москва, 3-й Крутицкий переулок, дом 18</td>\n",
       "      <td>50</td>\n",
       "    </tr>\n",
       "    <tr>\n",
       "      <td>15280</td>\n",
       "      <td>209264</td>\n",
       "      <td>шоколадница</td>\n",
       "      <td>да</td>\n",
       "      <td>кафе</td>\n",
       "      <td>город Москва, улица Земляной Вал, дом 33</td>\n",
       "      <td>10</td>\n",
       "    </tr>\n",
       "    <tr>\n",
       "      <td>15281</td>\n",
       "      <td>209186</td>\n",
       "      <td>шоколадница</td>\n",
       "      <td>да</td>\n",
       "      <td>кафе</td>\n",
       "      <td>город Москва, улица Земляной Вал, дом 33</td>\n",
       "      <td>20</td>\n",
       "    </tr>\n",
       "    <tr>\n",
       "      <td>15282</td>\n",
       "      <td>221900</td>\n",
       "      <td>шоколадница</td>\n",
       "      <td>да</td>\n",
       "      <td>кафе</td>\n",
       "      <td>город Москва, поселение Московский, Киевское ш...</td>\n",
       "      <td>36</td>\n",
       "    </tr>\n",
       "    <tr>\n",
       "      <td>15283</td>\n",
       "      <td>222535</td>\n",
       "      <td>шоколадница</td>\n",
       "      <td>да</td>\n",
       "      <td>кафе</td>\n",
       "      <td>город Москва, Ходынский бульвар, дом 4</td>\n",
       "      <td>10</td>\n",
       "    </tr>\n",
       "  </tbody>\n",
       "</table>\n",
       "<p>15284 rows × 6 columns</p>\n",
       "</div>"
      ],
      "text/plain": [
       "           id             object_name chain object_type  \\\n",
       "0      151635                 сметана   нет        кафе   \n",
       "1       77874                  родник   нет        кафе   \n",
       "2       24309         кафе «академия»   нет        кафе   \n",
       "3       21894              пиццетория    да        кафе   \n",
       "4      119365  кафе «вишневая метель»   нет        кафе   \n",
       "...       ...                     ...   ...         ...   \n",
       "15279  208537             шоколадница    да        кафе   \n",
       "15280  209264             шоколадница    да        кафе   \n",
       "15281  209186             шоколадница    да        кафе   \n",
       "15282  221900             шоколадница    да        кафе   \n",
       "15283  222535             шоколадница    да        кафе   \n",
       "\n",
       "                                                 address  number  \n",
       "0             город Москва, улица Егора Абакумова, дом 9      48  \n",
       "1      город Москва, улица Талалихина, дом 2/1, корпус 1      35  \n",
       "2              город Москва, Абельмановская улица, дом 6      95  \n",
       "3                город Москва, Абрамцевская улица, дом 1      40  \n",
       "4      город Москва, Абрамцевская улица, дом 9, корпус 1      50  \n",
       "...                                                  ...     ...  \n",
       "15279       город Москва, 3-й Крутицкий переулок, дом 18      50  \n",
       "15280           город Москва, улица Земляной Вал, дом 33      10  \n",
       "15281           город Москва, улица Земляной Вал, дом 33      20  \n",
       "15282  город Москва, поселение Московский, Киевское ш...      36  \n",
       "15283             город Москва, Ходынский бульвар, дом 4      10  \n",
       "\n",
       "[15284 rows x 6 columns]"
      ]
     },
     "execution_count": 11,
     "metadata": {},
     "output_type": "execute_result"
    }
   ],
   "source": [
    "data"
   ]
  },
  {
   "cell_type": "markdown",
   "metadata": {},
   "source": [
    "    \n",
    "<div class=\"alert alert-info\" style=\"background:#ffdbf1;color:#2e00ab\">\n",
    "<h3> </h3>\n",
    "    Let's turn object_name to object_type\n",
    "</div>"
   ]
  },
  {
   "cell_type": "code",
   "execution_count": 12,
   "metadata": {},
   "outputs": [
    {
     "name": "stdout",
     "output_type": "stream",
     "text": [
      "object_type\n",
      "кафе                                 6071\n",
      "столовая                             2584\n",
      "ресторан                             2282\n",
      "предприятие быстрого обслуживания    1898\n",
      "бар                                   855\n",
      "буфет                                 577\n",
      "кафетерий                             395\n",
      "закусочная                            349\n",
      "магазин (отдел кулинарии)             273\n",
      "Name: number, dtype: int64\n"
     ]
    }
   ],
   "source": [
    "#1. We investigate the ratio of types of public catering facilities by quantity. L\n",
    "#let's take the 10 largest establishments by number\n",
    "d = data.groupby('object_type')[\"number\"].count().sort_values(ascending=False)\n",
    "print(d)"
   ]
  },
  {
   "cell_type": "code",
   "execution_count": 13,
   "metadata": {},
   "outputs": [
    {
     "data": {
      "text/plain": [
       "<matplotlib.axes._subplots.AxesSubplot at 0x7f8283c59a50>"
      ]
     },
     "execution_count": 13,
     "metadata": {},
     "output_type": "execute_result"
    },
    {
     "data": {
      "image/png": "[encoded data removed]",
      "text/plain": [
       "<Figure size 432x288 with 1 Axes>"
      ]
     },
     "metadata": {
      "needs_background": "light"
     },
     "output_type": "display_data"
    }
   ],
   "source": [
    "# See the plot\n",
    "d.plot(kind='bar',color='green')"
   ]
  },
  {
   "cell_type": "markdown",
   "metadata": {},
   "source": [
    "Findings: We see that most of the establishments are cafes, followed by canteens."
   ]
  },
  {
   "cell_type": "code",
   "execution_count": 14,
   "metadata": {},
   "outputs": [
    {
     "data": {
      "image/png": "[encoded data removed]",
      "text/plain": [
       "<Figure size 432x288 with 1 Axes>"
      ]
     },
     "metadata": {
      "needs_background": "light"
     },
     "output_type": "display_data"
    }
   ],
   "source": [
    "#2.We investigate the ratio of chain and non-chain establishments by the number\n",
    "f = data.groupby('chain')[\"number\"].count().to_frame().reset_index()\n",
    "ax = sns.barplot(x='chain',y='number',data=f)\n",
    "ax.set_xlabel('Является ли сетью?')\n",
    "plt.show()\n"
   ]
  },
  {
   "cell_type": "code",
   "execution_count": 15,
   "metadata": {},
   "outputs": [
    {
     "data": {
      "image/png": "[encoded data removed]",
      "text/plain": [
       "<Figure size 432x288 with 1 Axes>"
      ]
     },
     "metadata": {
      "needs_background": "light"
     },
     "output_type": "display_data"
    }
   ],
   "source": [
    "columns = ['Не сетевые', 'Сетевые']\n",
    "сhain = [12398,2968]\n",
    "plt.bar(columns,сhain,color=['green','red'])\n",
    "plt.show()"
   ]
  },
  {
   "cell_type": "markdown",
   "metadata": {},
   "source": [
    "Findings: there are much more non-chain establishments than chain establishments."
   ]
  },
  {
   "cell_type": "code",
   "execution_count": null,
   "metadata": {},
   "outputs": [],
   "source": [
    "#3. What type of public catering facility is characterized by network distribution?\n",
    "d3 = data.copy()\n",
    "d3 = data[data['chain'] == 'да']\n",
    "chain_yes= d3.groupby('object_type')[\"number\"].count().to_frame().sort_values(ascending=False,by='number').reset_index()\n"
   ]
  },
  {
   "cell_type": "code",
   "execution_count": 17,
   "metadata": {},
   "outputs": [
    {
     "data": {
      "text/html": [
       "<div>\n",
       "<style scoped>\n",
       "    .dataframe tbody tr th:only-of-type {\n",
       "        vertical-align: middle;\n",
       "    }\n",
       "\n",
       "    .dataframe tbody tr th {\n",
       "        vertical-align: top;\n",
       "    }\n",
       "\n",
       "    .dataframe thead th {\n",
       "        text-align: right;\n",
       "    }\n",
       "</style>\n",
       "<table border=\"1\" class=\"dataframe\">\n",
       "  <thead>\n",
       "    <tr style=\"text-align: right;\">\n",
       "      <th></th>\n",
       "      <th>object_type</th>\n",
       "      <th>number</th>\n",
       "    </tr>\n",
       "  </thead>\n",
       "  <tbody>\n",
       "    <tr>\n",
       "      <td>0</td>\n",
       "      <td>кафе</td>\n",
       "      <td>6071</td>\n",
       "    </tr>\n",
       "    <tr>\n",
       "      <td>1</td>\n",
       "      <td>столовая</td>\n",
       "      <td>2584</td>\n",
       "    </tr>\n",
       "    <tr>\n",
       "      <td>2</td>\n",
       "      <td>ресторан</td>\n",
       "      <td>2282</td>\n",
       "    </tr>\n",
       "    <tr>\n",
       "      <td>3</td>\n",
       "      <td>предприятие быстрого обслуживания</td>\n",
       "      <td>1898</td>\n",
       "    </tr>\n",
       "    <tr>\n",
       "      <td>4</td>\n",
       "      <td>бар</td>\n",
       "      <td>855</td>\n",
       "    </tr>\n",
       "    <tr>\n",
       "      <td>5</td>\n",
       "      <td>буфет</td>\n",
       "      <td>577</td>\n",
       "    </tr>\n",
       "    <tr>\n",
       "      <td>6</td>\n",
       "      <td>кафетерий</td>\n",
       "      <td>395</td>\n",
       "    </tr>\n",
       "    <tr>\n",
       "      <td>7</td>\n",
       "      <td>закусочная</td>\n",
       "      <td>349</td>\n",
       "    </tr>\n",
       "    <tr>\n",
       "      <td>8</td>\n",
       "      <td>магазин (отдел кулинарии)</td>\n",
       "      <td>273</td>\n",
       "    </tr>\n",
       "  </tbody>\n",
       "</table>\n",
       "</div>"
      ],
      "text/plain": [
       "                         object_type  number\n",
       "0                               кафе    6071\n",
       "1                           столовая    2584\n",
       "2                           ресторан    2282\n",
       "3  предприятие быстрого обслуживания    1898\n",
       "4                                бар     855\n",
       "5                              буфет     577\n",
       "6                          кафетерий     395\n",
       "7                         закусочная     349\n",
       "8          магазин (отдел кулинарии)     273"
      ]
     },
     "execution_count": 17,
     "metadata": {},
     "output_type": "execute_result"
    }
   ],
   "source": [
    "chain_all= data.groupby('object_type')[\"number\"].count().to_frame().sort_values(ascending=False,by='number').reset_index()\n",
    "chain_all"
   ]
  },
  {
   "cell_type": "code",
   "execution_count": 18,
   "metadata": {},
   "outputs": [
    {
     "data": {
      "text/html": [
       "<div>\n",
       "<style scoped>\n",
       "    .dataframe tbody tr th:only-of-type {\n",
       "        vertical-align: middle;\n",
       "    }\n",
       "\n",
       "    .dataframe tbody tr th {\n",
       "        vertical-align: top;\n",
       "    }\n",
       "\n",
       "    .dataframe thead th {\n",
       "        text-align: right;\n",
       "    }\n",
       "</style>\n",
       "<table border=\"1\" class=\"dataframe\">\n",
       "  <thead>\n",
       "    <tr style=\"text-align: right;\">\n",
       "      <th></th>\n",
       "      <th>object_type</th>\n",
       "      <th>number_x</th>\n",
       "      <th>number_y</th>\n",
       "      <th>share</th>\n",
       "    </tr>\n",
       "  </thead>\n",
       "  <tbody>\n",
       "    <tr>\n",
       "      <td>0</td>\n",
       "      <td>кафе</td>\n",
       "      <td>1396</td>\n",
       "      <td>6071</td>\n",
       "      <td>0.229946</td>\n",
       "    </tr>\n",
       "    <tr>\n",
       "      <td>1</td>\n",
       "      <td>предприятие быстрого обслуживания</td>\n",
       "      <td>788</td>\n",
       "      <td>1898</td>\n",
       "      <td>0.415174</td>\n",
       "    </tr>\n",
       "    <tr>\n",
       "      <td>2</td>\n",
       "      <td>ресторан</td>\n",
       "      <td>543</td>\n",
       "      <td>2282</td>\n",
       "      <td>0.237949</td>\n",
       "    </tr>\n",
       "    <tr>\n",
       "      <td>3</td>\n",
       "      <td>магазин (отдел кулинарии)</td>\n",
       "      <td>78</td>\n",
       "      <td>273</td>\n",
       "      <td>0.285714</td>\n",
       "    </tr>\n",
       "    <tr>\n",
       "      <td>4</td>\n",
       "      <td>закусочная</td>\n",
       "      <td>56</td>\n",
       "      <td>349</td>\n",
       "      <td>0.160458</td>\n",
       "    </tr>\n",
       "    <tr>\n",
       "      <td>5</td>\n",
       "      <td>кафетерий</td>\n",
       "      <td>52</td>\n",
       "      <td>395</td>\n",
       "      <td>0.131646</td>\n",
       "    </tr>\n",
       "    <tr>\n",
       "      <td>6</td>\n",
       "      <td>бар</td>\n",
       "      <td>37</td>\n",
       "      <td>855</td>\n",
       "      <td>0.043275</td>\n",
       "    </tr>\n",
       "    <tr>\n",
       "      <td>7</td>\n",
       "      <td>буфет</td>\n",
       "      <td>11</td>\n",
       "      <td>577</td>\n",
       "      <td>0.019064</td>\n",
       "    </tr>\n",
       "    <tr>\n",
       "      <td>8</td>\n",
       "      <td>столовая</td>\n",
       "      <td>3</td>\n",
       "      <td>2584</td>\n",
       "      <td>0.001161</td>\n",
       "    </tr>\n",
       "  </tbody>\n",
       "</table>\n",
       "</div>"
      ],
      "text/plain": [
       "                         object_type  number_x  number_y     share\n",
       "0                               кафе      1396      6071  0.229946\n",
       "1  предприятие быстрого обслуживания       788      1898  0.415174\n",
       "2                           ресторан       543      2282  0.237949\n",
       "3          магазин (отдел кулинарии)        78       273  0.285714\n",
       "4                         закусочная        56       349  0.160458\n",
       "5                          кафетерий        52       395  0.131646\n",
       "6                                бар        37       855  0.043275\n",
       "7                              буфет        11       577  0.019064\n",
       "8                           столовая         3      2584  0.001161"
      ]
     },
     "execution_count": 18,
     "metadata": {},
     "output_type": "execute_result"
    }
   ],
   "source": [
    "chain_df = chain_yes.merge(chain_all,on='object_type')\n",
    "chain_df[\"share\"] = chain_df[\"number_x\"]/chain_df[\"number_y\"]\n",
    "chain_df"
   ]
  },
  {
   "cell_type": "markdown",
   "metadata": {},
   "source": [
    "Conclusion: We have 791 PSPs that are network based, and a total of 1923. Accordingly, it is the PSP that is characterized by network propagation."
   ]
  },
  {
   "cell_type": "code",
   "execution_count": 19,
   "metadata": {},
   "outputs": [],
   "source": [
    "#4. What is typical for chain establishments: many establishments\n",
    "#with a small number of seats in each or few establishments with a large number of seats?\n",
    "data2 = data.copy()\n",
    "data2 = data2[data2['chain']=='да']"
   ]
  },
  {
   "cell_type": "code",
   "execution_count": 20,
   "metadata": {},
   "outputs": [],
   "source": [
    "data_plotly = data2.groupby('object_name').agg(число_заведений=('number','count'), число_мест=('number','mean')).reset_index()"
   ]
  },
  {
   "cell_type": "markdown",
   "metadata": {},
   "source": [
    "# Conclusion: \n",
    "we see that there are few networks with a large number of seats in network establishments. As a rule, there are no more than 125 of them."
   ]
  },
  {
   "cell_type": "code",
   "execution_count": 24,
   "metadata": {},
   "outputs": [
    {
     "data": {
      "image/png": "[encoded data removed]",
      "text/plain": [
       "<Figure size 1008x288 with 1 Axes>"
      ]
     },
     "metadata": {
      "needs_background": "light"
     },
     "output_type": "display_data"
    }
   ],
   "source": [
    "#5.For each kind of catering facility, let's describe the average number of seats.\n",
    "#Which species provides the highest number of seats on average? Build charts.\n",
    "\n",
    "plt.figure(figsize=(14,4))\n",
    "\n",
    "avg_number = data.groupby('object_type')[\"number\"].median().plot(kind='bar',color='black')\n",
    "\n",
    "# Код ревьюера\n",
    "old_ticks, old_labels = plt.xticks()\n",
    "\n",
    "plt.xticks(old_ticks, ['\\n'.join(label.get_text().split()) for label in old_labels], rotation=0)\n",
    "plt.show()"
   ]
  },
  {
   "cell_type": "markdown",
   "metadata": {},
   "source": [
    "Conclusion: we see that the canteen provides the most seats - as many as 130 seats. Next comes the restaurant."
   ]
  },
  {
   "cell_type": "code",
   "execution_count": 26,
   "metadata": {},
   "outputs": [],
   "source": [
    "#7.Plot a graph of the top 10 streets by the number of catering facilities.\n",
    "#Use external information and answer the question - in what districts of Moscow are these streets located?\n"
   ]
  },
  {
   "cell_type": "code",
   "execution_count": 27,
   "metadata": {},
   "outputs": [
    {
     "data": {
      "text/html": [
       "<div>\n",
       "<style scoped>\n",
       "    .dataframe tbody tr th:only-of-type {\n",
       "        vertical-align: middle;\n",
       "    }\n",
       "\n",
       "    .dataframe tbody tr th {\n",
       "        vertical-align: top;\n",
       "    }\n",
       "\n",
       "    .dataframe thead th {\n",
       "        text-align: right;\n",
       "    }\n",
       "</style>\n",
       "<table border=\"1\" class=\"dataframe\">\n",
       "  <thead>\n",
       "    <tr style=\"text-align: right;\">\n",
       "      <th></th>\n",
       "      <th>street</th>\n",
       "      <th>object_name</th>\n",
       "    </tr>\n",
       "  </thead>\n",
       "  <tbody>\n",
       "    <tr>\n",
       "      <td>0</td>\n",
       "      <td>проспект Мира</td>\n",
       "      <td>204</td>\n",
       "    </tr>\n",
       "    <tr>\n",
       "      <td>1</td>\n",
       "      <td>Профсоюзная улица</td>\n",
       "      <td>181</td>\n",
       "    </tr>\n",
       "    <tr>\n",
       "      <td>2</td>\n",
       "      <td>Ленинградский проспект</td>\n",
       "      <td>170</td>\n",
       "    </tr>\n",
       "    <tr>\n",
       "      <td>3</td>\n",
       "      <td>Пресненская набережная</td>\n",
       "      <td>167</td>\n",
       "    </tr>\n",
       "    <tr>\n",
       "      <td>4</td>\n",
       "      <td>Варшавское шоссе</td>\n",
       "      <td>164</td>\n",
       "    </tr>\n",
       "    <tr>\n",
       "      <td>5</td>\n",
       "      <td>Ленинский проспект</td>\n",
       "      <td>147</td>\n",
       "    </tr>\n",
       "    <tr>\n",
       "      <td>6</td>\n",
       "      <td>проспект Вернадского</td>\n",
       "      <td>128</td>\n",
       "    </tr>\n",
       "    <tr>\n",
       "      <td>7</td>\n",
       "      <td>Кутузовский проспект</td>\n",
       "      <td>114</td>\n",
       "    </tr>\n",
       "    <tr>\n",
       "      <td>8</td>\n",
       "      <td>Каширское шоссе</td>\n",
       "      <td>111</td>\n",
       "    </tr>\n",
       "    <tr>\n",
       "      <td>9</td>\n",
       "      <td>Кировоградская улица</td>\n",
       "      <td>108</td>\n",
       "    </tr>\n",
       "  </tbody>\n",
       "</table>\n",
       "</div>"
      ],
      "text/plain": [
       "                   street  object_name\n",
       "0           проспект Мира          204\n",
       "1       Профсоюзная улица          181\n",
       "2  Ленинградский проспект          170\n",
       "3  Пресненская набережная          167\n",
       "4        Варшавское шоссе          164\n",
       "5      Ленинский проспект          147\n",
       "6    проспект Вернадского          128\n",
       "7    Кутузовский проспект          114\n",
       "8         Каширское шоссе          111\n",
       "9    Кировоградская улица          108"
      ]
     },
     "execution_count": 27,
     "metadata": {},
     "output_type": "execute_result"
    }
   ],
   "source": [
    "top10_streets = data.groupby('street')[\"object_name\"].count().to_frame().sort_values(ascending=False,by=\"object_name\").head(10).reset_index()\n",
    "top10_streets"
   ]
  },
  {
   "cell_type": "code",
   "execution_count": 28,
   "metadata": {},
   "outputs": [
    {
     "data": {
      "application/vnd.plotly.v1+json": {
       "config": {
        "plotlyServerURL": "https://plot.ly"
       },
       "data": [
        {
         "alignmentgroup": "True",
         "hoverlabel": {
          "namelength": 0
         },
         "hovertemplate": "street=%{x}<br>object_name=%{text}",
         "legendgroup": "street=проспект Мира",
         "marker": {
          "color": "#636efa"
         },
         "name": "street=проспект Мира",
         "offsetgroup": "street=проспект Мира",
         "orientation": "v",
         "showlegend": true,
         "text": [
          204
         ],
         "textposition": "auto",
         "type": "bar",
         "x": [
          "проспект Мира"
         ],
         "xaxis": "x",
         "y": [
          204
         ],
         "yaxis": "y"
        },
        {
         "alignmentgroup": "True",
         "hoverlabel": {
          "namelength": 0
         },
         "hovertemplate": "street=%{x}<br>object_name=%{text}",
         "legendgroup": "street=Профсоюзная улица",
         "marker": {
          "color": "#EF553B"
         },
         "name": "street=Профсоюзная улица",
         "offsetgroup": "street=Профсоюзная улица",
         "orientation": "v",
         "showlegend": true,
         "text": [
          181
         ],
         "textposition": "auto",
         "type": "bar",
         "x": [
          "Профсоюзная улица"
         ],
         "xaxis": "x",
         "y": [
          181
         ],
         "yaxis": "y"
        },
        {
         "alignmentgroup": "True",
         "hoverlabel": {
          "namelength": 0
         },
         "hovertemplate": "street=%{x}<br>object_name=%{text}",
         "legendgroup": "street=Ленинградский проспект",
         "marker": {
          "color": "#00cc96"
         },
         "name": "street=Ленинградский проспект",
         "offsetgroup": "street=Ленинградский проспект",
         "orientation": "v",
         "showlegend": true,
         "text": [
          170
         ],
         "textposition": "auto",
         "type": "bar",
         "x": [
          "Ленинградский проспект"
         ],
         "xaxis": "x",
         "y": [
          170
         ],
         "yaxis": "y"
        },
        {
         "alignmentgroup": "True",
         "hoverlabel": {
          "namelength": 0
         },
         "hovertemplate": "street=%{x}<br>object_name=%{text}",
         "legendgroup": "street=Пресненская набережная",
         "marker": {
          "color": "#ab63fa"
         },
         "name": "street=Пресненская набережная",
         "offsetgroup": "street=Пресненская набережная",
         "orientation": "v",
         "showlegend": true,
         "text": [
          167
         ],
         "textposition": "auto",
         "type": "bar",
         "x": [
          "Пресненская набережная"
         ],
         "xaxis": "x",
         "y": [
          167
         ],
         "yaxis": "y"
        },
        {
         "alignmentgroup": "True",
         "hoverlabel": {
          "namelength": 0
         },
         "hovertemplate": "street=%{x}<br>object_name=%{text}",
         "legendgroup": "street=Варшавское шоссе",
         "marker": {
          "color": "#FFA15A"
         },
         "name": "street=Варшавское шоссе",
         "offsetgroup": "street=Варшавское шоссе",
         "orientation": "v",
         "showlegend": true,
         "text": [
          164
         ],
         "textposition": "auto",
         "type": "bar",
         "x": [
          "Варшавское шоссе"
         ],
         "xaxis": "x",
         "y": [
          164
         ],
         "yaxis": "y"
        },
        {
         "alignmentgroup": "True",
         "hoverlabel": {
          "namelength": 0
         },
         "hovertemplate": "street=%{x}<br>object_name=%{text}",
         "legendgroup": "street=Ленинский проспект",
         "marker": {
          "color": "#19d3f3"
         },
         "name": "street=Ленинский проспект",
         "offsetgroup": "street=Ленинский проспект",
         "orientation": "v",
         "showlegend": true,
         "text": [
          147
         ],
         "textposition": "auto",
         "type": "bar",
         "x": [
          "Ленинский проспект"
         ],
         "xaxis": "x",
         "y": [
          147
         ],
         "yaxis": "y"
        },
        {
         "alignmentgroup": "True",
         "hoverlabel": {
          "namelength": 0
         },
         "hovertemplate": "street=%{x}<br>object_name=%{text}",
         "legendgroup": "street=проспект Вернадского",
         "marker": {
          "color": "#FF6692"
         },
         "name": "street=проспект Вернадского",
         "offsetgroup": "street=проспект Вернадского",
         "orientation": "v",
         "showlegend": true,
         "text": [
          128
         ],
         "textposition": "auto",
         "type": "bar",
         "x": [
          "проспект Вернадского"
         ],
         "xaxis": "x",
         "y": [
          128
         ],
         "yaxis": "y"
        },
        {
         "alignmentgroup": "True",
         "hoverlabel": {
          "namelength": 0
         },
         "hovertemplate": "street=%{x}<br>object_name=%{text}",
         "legendgroup": "street=Кутузовский проспект",
         "marker": {
          "color": "#B6E880"
         },
         "name": "street=Кутузовский проспект",
         "offsetgroup": "street=Кутузовский проспект",
         "orientation": "v",
         "showlegend": true,
         "text": [
          114
         ],
         "textposition": "auto",
         "type": "bar",
         "x": [
          "Кутузовский проспект"
         ],
         "xaxis": "x",
         "y": [
          114
         ],
         "yaxis": "y"
        },
        {
         "alignmentgroup": "True",
         "hoverlabel": {
          "namelength": 0
         },
         "hovertemplate": "street=%{x}<br>object_name=%{text}",
         "legendgroup": "street=Каширское шоссе",
         "marker": {
          "color": "#FF97FF"
         },
         "name": "street=Каширское шоссе",
         "offsetgroup": "street=Каширское шоссе",
         "orientation": "v",
         "showlegend": true,
         "text": [
          111
         ],
         "textposition": "auto",
         "type": "bar",
         "x": [
          "Каширское шоссе"
         ],
         "xaxis": "x",
         "y": [
          111
         ],
         "yaxis": "y"
        },
        {
         "alignmentgroup": "True",
         "hoverlabel": {
          "namelength": 0
         },
         "hovertemplate": "street=%{x}<br>object_name=%{text}",
         "legendgroup": "street=Кировоградская улица",
         "marker": {
          "color": "#FECB52"
         },
         "name": "street=Кировоградская улица",
         "offsetgroup": "street=Кировоградская улица",
         "orientation": "v",
         "showlegend": true,
         "text": [
          108
         ],
         "textposition": "auto",
         "type": "bar",
         "x": [
          "Кировоградская улица"
         ],
         "xaxis": "x",
         "y": [
          108
         ],
         "yaxis": "y"
        }
       ],
       "layout": {
        "barmode": "relative",
        "height": 600,
        "legend": {
         "tracegroupgap": 0
        },
        "margin": {
         "t": 60
        },
        "template": {
         "data": {
          "bar": [
           {
            "error_x": {
             "color": "#2a3f5f"
            },
            "error_y": {
             "color": "#2a3f5f"
            },
            "marker": {
             "line": {
              "color": "#E5ECF6",
              "width": 0.5
             }
            },
            "type": "bar"
           }
          ],
          "barpolar": [
           {
            "marker": {
             "line": {
              "color": "#E5ECF6",
              "width": 0.5
             }
            },
            "type": "barpolar"
           }
          ],
          "carpet": [
           {
            "aaxis": {
             "endlinecolor": "#2a3f5f",
             "gridcolor": "white",
             "linecolor": "white",
             "minorgridcolor": "white",
             "startlinecolor": "#2a3f5f"
            },
            "baxis": {
             "endlinecolor": "#2a3f5f",
             "gridcolor": "white",
             "linecolor": "white",
             "minorgridcolor": "white",
             "startlinecolor": "#2a3f5f"
            },
            "type": "carpet"
           }
          ],
          "choropleth": [
           {
            "colorbar": {
             "outlinewidth": 0,
             "ticks": ""
            },
            "type": "choropleth"
           }
          ],
          "contour": [
           {
            "colorbar": {
             "outlinewidth": 0,
             "ticks": ""
            },
            "colorscale": [
             [
              0,
              "#0d0887"
             ],
             [
              0.1111111111111111,
              "#46039f"
             ],
             [
              0.2222222222222222,
              "#7201a8"
             ],
             [
              0.3333333333333333,
              "#9c179e"
             ],
             [
              0.4444444444444444,
              "#bd3786"
             ],
             [
              0.5555555555555556,
              "#d8576b"
             ],
             [
              0.6666666666666666,
              "#ed7953"
             ],
             [
              0.7777777777777778,
              "#fb9f3a"
             ],
             [
              0.8888888888888888,
              "#fdca26"
             ],
             [
              1,
              "#f0f921"
             ]
            ],
            "type": "contour"
           }
          ],
          "contourcarpet": [
           {
            "colorbar": {
             "outlinewidth": 0,
             "ticks": ""
            },
            "type": "contourcarpet"
           }
          ],
          "heatmap": [
           {
            "colorbar": {
             "outlinewidth": 0,
             "ticks": ""
            },
            "colorscale": [
             [
              0,
              "#0d0887"
             ],
             [
              0.1111111111111111,
              "#46039f"
             ],
             [
              0.2222222222222222,
              "#7201a8"
             ],
             [
              0.3333333333333333,
              "#9c179e"
             ],
             [
              0.4444444444444444,
              "#bd3786"
             ],
             [
              0.5555555555555556,
              "#d8576b"
             ],
             [
              0.6666666666666666,
              "#ed7953"
             ],
             [
              0.7777777777777778,
              "#fb9f3a"
             ],
             [
              0.8888888888888888,
              "#fdca26"
             ],
             [
              1,
              "#f0f921"
             ]
            ],
            "type": "heatmap"
           }
          ],
          "heatmapgl": [
           {
            "colorbar": {
             "outlinewidth": 0,
             "ticks": ""
            },
            "colorscale": [
             [
              0,
              "#0d0887"
             ],
             [
              0.1111111111111111,
              "#46039f"
             ],
             [
              0.2222222222222222,
              "#7201a8"
             ],
             [
              0.3333333333333333,
              "#9c179e"
             ],
             [
              0.4444444444444444,
              "#bd3786"
             ],
             [
              0.5555555555555556,
              "#d8576b"
             ],
             [
              0.6666666666666666,
              "#ed7953"
             ],
             [
              0.7777777777777778,
              "#fb9f3a"
             ],
             [
              0.8888888888888888,
              "#fdca26"
             ],
             [
              1,
              "#f0f921"
             ]
            ],
            "type": "heatmapgl"
           }
          ],
          "histogram": [
           {
            "marker": {
             "colorbar": {
              "outlinewidth": 0,
              "ticks": ""
             }
            },
            "type": "histogram"
           }
          ],
          "histogram2d": [
           {
            "colorbar": {
             "outlinewidth": 0,
             "ticks": ""
            },
            "colorscale": [
             [
              0,
              "#0d0887"
             ],
             [
              0.1111111111111111,
              "#46039f"
             ],
             [
              0.2222222222222222,
              "#7201a8"
             ],
             [
              0.3333333333333333,
              "#9c179e"
             ],
             [
              0.4444444444444444,
              "#bd3786"
             ],
             [
              0.5555555555555556,
              "#d8576b"
             ],
             [
              0.6666666666666666,
              "#ed7953"
             ],
             [
              0.7777777777777778,
              "#fb9f3a"
             ],
             [
              0.8888888888888888,
              "#fdca26"
             ],
             [
              1,
              "#f0f921"
             ]
            ],
            "type": "histogram2d"
           }
          ],
          "histogram2dcontour": [
           {
            "colorbar": {
             "outlinewidth": 0,
             "ticks": ""
            },
            "colorscale": [
             [
              0,
              "#0d0887"
             ],
             [
              0.1111111111111111,
              "#46039f"
             ],
             [
              0.2222222222222222,
              "#7201a8"
             ],
             [
              0.3333333333333333,
              "#9c179e"
             ],
             [
              0.4444444444444444,
              "#bd3786"
             ],
             [
              0.5555555555555556,
              "#d8576b"
             ],
             [
              0.6666666666666666,
              "#ed7953"
             ],
             [
              0.7777777777777778,
              "#fb9f3a"
             ],
             [
              0.8888888888888888,
              "#fdca26"
             ],
             [
              1,
              "#f0f921"
             ]
            ],
            "type": "histogram2dcontour"
           }
          ],
          "mesh3d": [
           {
            "colorbar": {
             "outlinewidth": 0,
             "ticks": ""
            },
            "type": "mesh3d"
           }
          ],
          "parcoords": [
           {
            "line": {
             "colorbar": {
              "outlinewidth": 0,
              "ticks": ""
             }
            },
            "type": "parcoords"
           }
          ],
          "scatter": [
           {
            "marker": {
             "colorbar": {
              "outlinewidth": 0,
              "ticks": ""
             }
            },
            "type": "scatter"
           }
          ],
          "scatter3d": [
           {
            "line": {
             "colorbar": {
              "outlinewidth": 0,
              "ticks": ""
             }
            },
            "marker": {
             "colorbar": {
              "outlinewidth": 0,
              "ticks": ""
             }
            },
            "type": "scatter3d"
           }
          ],
          "scattercarpet": [
           {
            "marker": {
             "colorbar": {
              "outlinewidth": 0,
              "ticks": ""
             }
            },
            "type": "scattercarpet"
           }
          ],
          "scattergeo": [
           {
            "marker": {
             "colorbar": {
              "outlinewidth": 0,
              "ticks": ""
             }
            },
            "type": "scattergeo"
           }
          ],
          "scattergl": [
           {
            "marker": {
             "colorbar": {
              "outlinewidth": 0,
              "ticks": ""
             }
            },
            "type": "scattergl"
           }
          ],
          "scattermapbox": [
           {
            "marker": {
             "colorbar": {
              "outlinewidth": 0,
              "ticks": ""
             }
            },
            "type": "scattermapbox"
           }
          ],
          "scatterpolar": [
           {
            "marker": {
             "colorbar": {
              "outlinewidth": 0,
              "ticks": ""
             }
            },
            "type": "scatterpolar"
           }
          ],
          "scatterpolargl": [
           {
            "marker": {
             "colorbar": {
              "outlinewidth": 0,
              "ticks": ""
             }
            },
            "type": "scatterpolargl"
           }
          ],
          "scatterternary": [
           {
            "marker": {
             "colorbar": {
              "outlinewidth": 0,
              "ticks": ""
             }
            },
            "type": "scatterternary"
           }
          ],
          "surface": [
           {
            "colorbar": {
             "outlinewidth": 0,
             "ticks": ""
            },
            "colorscale": [
             [
              0,
              "#0d0887"
             ],
             [
              0.1111111111111111,
              "#46039f"
             ],
             [
              0.2222222222222222,
              "#7201a8"
             ],
             [
              0.3333333333333333,
              "#9c179e"
             ],
             [
              0.4444444444444444,
              "#bd3786"
             ],
             [
              0.5555555555555556,
              "#d8576b"
             ],
             [
              0.6666666666666666,
              "#ed7953"
             ],
             [
              0.7777777777777778,
              "#fb9f3a"
             ],
             [
              0.8888888888888888,
              "#fdca26"
             ],
             [
              1,
              "#f0f921"
             ]
            ],
            "type": "surface"
           }
          ],
          "table": [
           {
            "cells": {
             "fill": {
              "color": "#EBF0F8"
             },
             "line": {
              "color": "white"
             }
            },
            "header": {
             "fill": {
              "color": "#C8D4E3"
             },
             "line": {
              "color": "white"
             }
            },
            "type": "table"
           }
          ]
         },
         "layout": {
          "annotationdefaults": {
           "arrowcolor": "#2a3f5f",
           "arrowhead": 0,
           "arrowwidth": 1
          },
          "colorscale": {
           "diverging": [
            [
             0,
             "#8e0152"
            ],
            [
             0.1,
             "#c51b7d"
            ],
            [
             0.2,
             "#de77ae"
            ],
            [
             0.3,
             "#f1b6da"
            ],
            [
             0.4,
             "#fde0ef"
            ],
            [
             0.5,
             "#f7f7f7"
            ],
            [
             0.6,
             "#e6f5d0"
            ],
            [
             0.7,
             "#b8e186"
            ],
            [
             0.8,
             "#7fbc41"
            ],
            [
             0.9,
             "#4d9221"
            ],
            [
             1,
             "#276419"
            ]
           ],
           "sequential": [
            [
             0,
             "#0d0887"
            ],
            [
             0.1111111111111111,
             "#46039f"
            ],
            [
             0.2222222222222222,
             "#7201a8"
            ],
            [
             0.3333333333333333,
             "#9c179e"
            ],
            [
             0.4444444444444444,
             "#bd3786"
            ],
            [
             0.5555555555555556,
             "#d8576b"
            ],
            [
             0.6666666666666666,
             "#ed7953"
            ],
            [
             0.7777777777777778,
             "#fb9f3a"
            ],
            [
             0.8888888888888888,
             "#fdca26"
            ],
            [
             1,
             "#f0f921"
            ]
           ],
           "sequentialminus": [
            [
             0,
             "#0d0887"
            ],
            [
             0.1111111111111111,
             "#46039f"
            ],
            [
             0.2222222222222222,
             "#7201a8"
            ],
            [
             0.3333333333333333,
             "#9c179e"
            ],
            [
             0.4444444444444444,
             "#bd3786"
            ],
            [
             0.5555555555555556,
             "#d8576b"
            ],
            [
             0.6666666666666666,
             "#ed7953"
            ],
            [
             0.7777777777777778,
             "#fb9f3a"
            ],
            [
             0.8888888888888888,
             "#fdca26"
            ],
            [
             1,
             "#f0f921"
            ]
           ]
          },
          "colorway": [
           "#636efa",
           "#EF553B",
           "#00cc96",
           "#ab63fa",
           "#FFA15A",
           "#19d3f3",
           "#FF6692",
           "#B6E880",
           "#FF97FF",
           "#FECB52"
          ],
          "font": {
           "color": "#2a3f5f"
          },
          "geo": {
           "bgcolor": "white",
           "lakecolor": "white",
           "landcolor": "#E5ECF6",
           "showlakes": true,
           "showland": true,
           "subunitcolor": "white"
          },
          "hoverlabel": {
           "align": "left"
          },
          "hovermode": "closest",
          "mapbox": {
           "style": "light"
          },
          "paper_bgcolor": "white",
          "plot_bgcolor": "#E5ECF6",
          "polar": {
           "angularaxis": {
            "gridcolor": "white",
            "linecolor": "white",
            "ticks": ""
           },
           "bgcolor": "#E5ECF6",
           "radialaxis": {
            "gridcolor": "white",
            "linecolor": "white",
            "ticks": ""
           }
          },
          "scene": {
           "xaxis": {
            "backgroundcolor": "#E5ECF6",
            "gridcolor": "white",
            "gridwidth": 2,
            "linecolor": "white",
            "showbackground": true,
            "ticks": "",
            "zerolinecolor": "white"
           },
           "yaxis": {
            "backgroundcolor": "#E5ECF6",
            "gridcolor": "white",
            "gridwidth": 2,
            "linecolor": "white",
            "showbackground": true,
            "ticks": "",
            "zerolinecolor": "white"
           },
           "zaxis": {
            "backgroundcolor": "#E5ECF6",
            "gridcolor": "white",
            "gridwidth": 2,
            "linecolor": "white",
            "showbackground": true,
            "ticks": "",
            "zerolinecolor": "white"
           }
          },
          "shapedefaults": {
           "line": {
            "color": "#2a3f5f"
           }
          },
          "ternary": {
           "aaxis": {
            "gridcolor": "white",
            "linecolor": "white",
            "ticks": ""
           },
           "baxis": {
            "gridcolor": "white",
            "linecolor": "white",
            "ticks": ""
           },
           "bgcolor": "#E5ECF6",
           "caxis": {
            "gridcolor": "white",
            "linecolor": "white",
            "ticks": ""
           }
          },
          "title": {
           "x": 0.05
          },
          "xaxis": {
           "automargin": true,
           "gridcolor": "white",
           "linecolor": "white",
           "ticks": "",
           "zerolinecolor": "white",
           "zerolinewidth": 2
          },
          "yaxis": {
           "automargin": true,
           "gridcolor": "white",
           "linecolor": "white",
           "ticks": "",
           "zerolinecolor": "white",
           "zerolinewidth": 2
          }
         }
        },
        "xaxis": {
         "anchor": "y",
         "categoryarray": [
          "проспект Мира",
          "Профсоюзная улица",
          "Ленинградский проспект",
          "Пресненская набережная",
          "Варшавское шоссе",
          "Ленинский проспект",
          "проспект Вернадского",
          "Кутузовский проспект",
          "Каширское шоссе",
          "Кировоградская улица"
         ],
         "categoryorder": "array",
         "domain": [
          0,
          0.98
         ],
         "title": {
          "text": "street"
         }
        },
        "yaxis": {
         "anchor": "x",
         "domain": [
          0,
          1
         ],
         "title": {
          "text": "object_name"
         }
        }
       }
      },
      "text/html": [
       "<div>\n",
       "        \n",
       "        \n",
       "            <div id=\"6492f0a3-ddca-4586-8de0-238116ad69a9\" class=\"plotly-graph-div\" style=\"height:600px; width:100%;\"></div>\n",
       "            <script type=\"text/javascript\">\n",
       "                require([\"plotly\"], function(Plotly) {\n",
       "                    window.PLOTLYENV=window.PLOTLYENV || {};\n",
       "                    \n",
       "                if (document.getElementById(\"6492f0a3-ddca-4586-8de0-238116ad69a9\")) {\n",
       "                    Plotly.newPlot(\n",
       "                        '6492f0a3-ddca-4586-8de0-238116ad69a9',\n",
       "                        [{\"alignmentgroup\": \"True\", \"hoverlabel\": {\"namelength\": 0}, \"hovertemplate\": \"street=%{x}<br>object_name=%{text}\", \"legendgroup\": \"street=\\u043f\\u0440\\u043e\\u0441\\u043f\\u0435\\u043a\\u0442 \\u041c\\u0438\\u0440\\u0430\", \"marker\": {\"color\": \"#636efa\"}, \"name\": \"street=\\u043f\\u0440\\u043e\\u0441\\u043f\\u0435\\u043a\\u0442 \\u041c\\u0438\\u0440\\u0430\", \"offsetgroup\": \"street=\\u043f\\u0440\\u043e\\u0441\\u043f\\u0435\\u043a\\u0442 \\u041c\\u0438\\u0440\\u0430\", \"orientation\": \"v\", \"showlegend\": true, \"text\": [204.0], \"textposition\": \"auto\", \"type\": \"bar\", \"x\": [\"\\u043f\\u0440\\u043e\\u0441\\u043f\\u0435\\u043a\\u0442 \\u041c\\u0438\\u0440\\u0430\"], \"xaxis\": \"x\", \"y\": [204], \"yaxis\": \"y\"}, {\"alignmentgroup\": \"True\", \"hoverlabel\": {\"namelength\": 0}, \"hovertemplate\": \"street=%{x}<br>object_name=%{text}\", \"legendgroup\": \"street=\\u041f\\u0440\\u043e\\u0444\\u0441\\u043e\\u044e\\u0437\\u043d\\u0430\\u044f \\u0443\\u043b\\u0438\\u0446\\u0430\", \"marker\": {\"color\": \"#EF553B\"}, \"name\": \"street=\\u041f\\u0440\\u043e\\u0444\\u0441\\u043e\\u044e\\u0437\\u043d\\u0430\\u044f \\u0443\\u043b\\u0438\\u0446\\u0430\", \"offsetgroup\": \"street=\\u041f\\u0440\\u043e\\u0444\\u0441\\u043e\\u044e\\u0437\\u043d\\u0430\\u044f \\u0443\\u043b\\u0438\\u0446\\u0430\", \"orientation\": \"v\", \"showlegend\": true, \"text\": [181.0], \"textposition\": \"auto\", \"type\": \"bar\", \"x\": [\"\\u041f\\u0440\\u043e\\u0444\\u0441\\u043e\\u044e\\u0437\\u043d\\u0430\\u044f \\u0443\\u043b\\u0438\\u0446\\u0430\"], \"xaxis\": \"x\", \"y\": [181], \"yaxis\": \"y\"}, {\"alignmentgroup\": \"True\", \"hoverlabel\": {\"namelength\": 0}, \"hovertemplate\": \"street=%{x}<br>object_name=%{text}\", \"legendgroup\": \"street=\\u041b\\u0435\\u043d\\u0438\\u043d\\u0433\\u0440\\u0430\\u0434\\u0441\\u043a\\u0438\\u0439 \\u043f\\u0440\\u043e\\u0441\\u043f\\u0435\\u043a\\u0442\", \"marker\": {\"color\": \"#00cc96\"}, \"name\": \"street=\\u041b\\u0435\\u043d\\u0438\\u043d\\u0433\\u0440\\u0430\\u0434\\u0441\\u043a\\u0438\\u0439 \\u043f\\u0440\\u043e\\u0441\\u043f\\u0435\\u043a\\u0442\", \"offsetgroup\": \"street=\\u041b\\u0435\\u043d\\u0438\\u043d\\u0433\\u0440\\u0430\\u0434\\u0441\\u043a\\u0438\\u0439 \\u043f\\u0440\\u043e\\u0441\\u043f\\u0435\\u043a\\u0442\", \"orientation\": \"v\", \"showlegend\": true, \"text\": [170.0], \"textposition\": \"auto\", \"type\": \"bar\", \"x\": [\"\\u041b\\u0435\\u043d\\u0438\\u043d\\u0433\\u0440\\u0430\\u0434\\u0441\\u043a\\u0438\\u0439 \\u043f\\u0440\\u043e\\u0441\\u043f\\u0435\\u043a\\u0442\"], \"xaxis\": \"x\", \"y\": [170], \"yaxis\": \"y\"}, {\"alignmentgroup\": \"True\", \"hoverlabel\": {\"namelength\": 0}, \"hovertemplate\": \"street=%{x}<br>object_name=%{text}\", \"legendgroup\": \"street=\\u041f\\u0440\\u0435\\u0441\\u043d\\u0435\\u043d\\u0441\\u043a\\u0430\\u044f \\u043d\\u0430\\u0431\\u0435\\u0440\\u0435\\u0436\\u043d\\u0430\\u044f\", \"marker\": {\"color\": \"#ab63fa\"}, \"name\": \"street=\\u041f\\u0440\\u0435\\u0441\\u043d\\u0435\\u043d\\u0441\\u043a\\u0430\\u044f \\u043d\\u0430\\u0431\\u0435\\u0440\\u0435\\u0436\\u043d\\u0430\\u044f\", \"offsetgroup\": \"street=\\u041f\\u0440\\u0435\\u0441\\u043d\\u0435\\u043d\\u0441\\u043a\\u0430\\u044f \\u043d\\u0430\\u0431\\u0435\\u0440\\u0435\\u0436\\u043d\\u0430\\u044f\", \"orientation\": \"v\", \"showlegend\": true, \"text\": [167.0], \"textposition\": \"auto\", \"type\": \"bar\", \"x\": [\"\\u041f\\u0440\\u0435\\u0441\\u043d\\u0435\\u043d\\u0441\\u043a\\u0430\\u044f \\u043d\\u0430\\u0431\\u0435\\u0440\\u0435\\u0436\\u043d\\u0430\\u044f\"], \"xaxis\": \"x\", \"y\": [167], \"yaxis\": \"y\"}, {\"alignmentgroup\": \"True\", \"hoverlabel\": {\"namelength\": 0}, \"hovertemplate\": \"street=%{x}<br>object_name=%{text}\", \"legendgroup\": \"street=\\u0412\\u0430\\u0440\\u0448\\u0430\\u0432\\u0441\\u043a\\u043e\\u0435 \\u0448\\u043e\\u0441\\u0441\\u0435\", \"marker\": {\"color\": \"#FFA15A\"}, \"name\": \"street=\\u0412\\u0430\\u0440\\u0448\\u0430\\u0432\\u0441\\u043a\\u043e\\u0435 \\u0448\\u043e\\u0441\\u0441\\u0435\", \"offsetgroup\": \"street=\\u0412\\u0430\\u0440\\u0448\\u0430\\u0432\\u0441\\u043a\\u043e\\u0435 \\u0448\\u043e\\u0441\\u0441\\u0435\", \"orientation\": \"v\", \"showlegend\": true, \"text\": [164.0], \"textposition\": \"auto\", \"type\": \"bar\", \"x\": [\"\\u0412\\u0430\\u0440\\u0448\\u0430\\u0432\\u0441\\u043a\\u043e\\u0435 \\u0448\\u043e\\u0441\\u0441\\u0435\"], \"xaxis\": \"x\", \"y\": [164], \"yaxis\": \"y\"}, {\"alignmentgroup\": \"True\", \"hoverlabel\": {\"namelength\": 0}, \"hovertemplate\": \"street=%{x}<br>object_name=%{text}\", \"legendgroup\": \"street=\\u041b\\u0435\\u043d\\u0438\\u043d\\u0441\\u043a\\u0438\\u0439 \\u043f\\u0440\\u043e\\u0441\\u043f\\u0435\\u043a\\u0442\", \"marker\": {\"color\": \"#19d3f3\"}, \"name\": \"street=\\u041b\\u0435\\u043d\\u0438\\u043d\\u0441\\u043a\\u0438\\u0439 \\u043f\\u0440\\u043e\\u0441\\u043f\\u0435\\u043a\\u0442\", \"offsetgroup\": \"street=\\u041b\\u0435\\u043d\\u0438\\u043d\\u0441\\u043a\\u0438\\u0439 \\u043f\\u0440\\u043e\\u0441\\u043f\\u0435\\u043a\\u0442\", \"orientation\": \"v\", \"showlegend\": true, \"text\": [147.0], \"textposition\": \"auto\", \"type\": \"bar\", \"x\": [\"\\u041b\\u0435\\u043d\\u0438\\u043d\\u0441\\u043a\\u0438\\u0439 \\u043f\\u0440\\u043e\\u0441\\u043f\\u0435\\u043a\\u0442\"], \"xaxis\": \"x\", \"y\": [147], \"yaxis\": \"y\"}, {\"alignmentgroup\": \"True\", \"hoverlabel\": {\"namelength\": 0}, \"hovertemplate\": \"street=%{x}<br>object_name=%{text}\", \"legendgroup\": \"street=\\u043f\\u0440\\u043e\\u0441\\u043f\\u0435\\u043a\\u0442 \\u0412\\u0435\\u0440\\u043d\\u0430\\u0434\\u0441\\u043a\\u043e\\u0433\\u043e\", \"marker\": {\"color\": \"#FF6692\"}, \"name\": \"street=\\u043f\\u0440\\u043e\\u0441\\u043f\\u0435\\u043a\\u0442 \\u0412\\u0435\\u0440\\u043d\\u0430\\u0434\\u0441\\u043a\\u043e\\u0433\\u043e\", \"offsetgroup\": \"street=\\u043f\\u0440\\u043e\\u0441\\u043f\\u0435\\u043a\\u0442 \\u0412\\u0435\\u0440\\u043d\\u0430\\u0434\\u0441\\u043a\\u043e\\u0433\\u043e\", \"orientation\": \"v\", \"showlegend\": true, \"text\": [128.0], \"textposition\": \"auto\", \"type\": \"bar\", \"x\": [\"\\u043f\\u0440\\u043e\\u0441\\u043f\\u0435\\u043a\\u0442 \\u0412\\u0435\\u0440\\u043d\\u0430\\u0434\\u0441\\u043a\\u043e\\u0433\\u043e\"], \"xaxis\": \"x\", \"y\": [128], \"yaxis\": \"y\"}, {\"alignmentgroup\": \"True\", \"hoverlabel\": {\"namelength\": 0}, \"hovertemplate\": \"street=%{x}<br>object_name=%{text}\", \"legendgroup\": \"street=\\u041a\\u0443\\u0442\\u0443\\u0437\\u043e\\u0432\\u0441\\u043a\\u0438\\u0439 \\u043f\\u0440\\u043e\\u0441\\u043f\\u0435\\u043a\\u0442\", \"marker\": {\"color\": \"#B6E880\"}, \"name\": \"street=\\u041a\\u0443\\u0442\\u0443\\u0437\\u043e\\u0432\\u0441\\u043a\\u0438\\u0439 \\u043f\\u0440\\u043e\\u0441\\u043f\\u0435\\u043a\\u0442\", \"offsetgroup\": \"street=\\u041a\\u0443\\u0442\\u0443\\u0437\\u043e\\u0432\\u0441\\u043a\\u0438\\u0439 \\u043f\\u0440\\u043e\\u0441\\u043f\\u0435\\u043a\\u0442\", \"orientation\": \"v\", \"showlegend\": true, \"text\": [114.0], \"textposition\": \"auto\", \"type\": \"bar\", \"x\": [\"\\u041a\\u0443\\u0442\\u0443\\u0437\\u043e\\u0432\\u0441\\u043a\\u0438\\u0439 \\u043f\\u0440\\u043e\\u0441\\u043f\\u0435\\u043a\\u0442\"], \"xaxis\": \"x\", \"y\": [114], \"yaxis\": \"y\"}, {\"alignmentgroup\": \"True\", \"hoverlabel\": {\"namelength\": 0}, \"hovertemplate\": \"street=%{x}<br>object_name=%{text}\", \"legendgroup\": \"street=\\u041a\\u0430\\u0448\\u0438\\u0440\\u0441\\u043a\\u043e\\u0435 \\u0448\\u043e\\u0441\\u0441\\u0435\", \"marker\": {\"color\": \"#FF97FF\"}, \"name\": \"street=\\u041a\\u0430\\u0448\\u0438\\u0440\\u0441\\u043a\\u043e\\u0435 \\u0448\\u043e\\u0441\\u0441\\u0435\", \"offsetgroup\": \"street=\\u041a\\u0430\\u0448\\u0438\\u0440\\u0441\\u043a\\u043e\\u0435 \\u0448\\u043e\\u0441\\u0441\\u0435\", \"orientation\": \"v\", \"showlegend\": true, \"text\": [111.0], \"textposition\": \"auto\", \"type\": \"bar\", \"x\": [\"\\u041a\\u0430\\u0448\\u0438\\u0440\\u0441\\u043a\\u043e\\u0435 \\u0448\\u043e\\u0441\\u0441\\u0435\"], \"xaxis\": \"x\", \"y\": [111], \"yaxis\": \"y\"}, {\"alignmentgroup\": \"True\", \"hoverlabel\": {\"namelength\": 0}, \"hovertemplate\": \"street=%{x}<br>object_name=%{text}\", \"legendgroup\": \"street=\\u041a\\u0438\\u0440\\u043e\\u0432\\u043e\\u0433\\u0440\\u0430\\u0434\\u0441\\u043a\\u0430\\u044f \\u0443\\u043b\\u0438\\u0446\\u0430\", \"marker\": {\"color\": \"#FECB52\"}, \"name\": \"street=\\u041a\\u0438\\u0440\\u043e\\u0432\\u043e\\u0433\\u0440\\u0430\\u0434\\u0441\\u043a\\u0430\\u044f \\u0443\\u043b\\u0438\\u0446\\u0430\", \"offsetgroup\": \"street=\\u041a\\u0438\\u0440\\u043e\\u0432\\u043e\\u0433\\u0440\\u0430\\u0434\\u0441\\u043a\\u0430\\u044f \\u0443\\u043b\\u0438\\u0446\\u0430\", \"orientation\": \"v\", \"showlegend\": true, \"text\": [108.0], \"textposition\": \"auto\", \"type\": \"bar\", \"x\": [\"\\u041a\\u0438\\u0440\\u043e\\u0432\\u043e\\u0433\\u0440\\u0430\\u0434\\u0441\\u043a\\u0430\\u044f \\u0443\\u043b\\u0438\\u0446\\u0430\"], \"xaxis\": \"x\", \"y\": [108], \"yaxis\": \"y\"}],\n",
       "                        {\"barmode\": \"relative\", \"height\": 600, \"legend\": {\"tracegroupgap\": 0}, \"margin\": {\"t\": 60}, \"template\": {\"data\": {\"bar\": [{\"error_x\": {\"color\": \"#2a3f5f\"}, \"error_y\": {\"color\": \"#2a3f5f\"}, \"marker\": {\"line\": {\"color\": \"#E5ECF6\", \"width\": 0.5}}, \"type\": \"bar\"}], \"barpolar\": [{\"marker\": {\"line\": {\"color\": \"#E5ECF6\", \"width\": 0.5}}, \"type\": \"barpolar\"}], \"carpet\": [{\"aaxis\": {\"endlinecolor\": \"#2a3f5f\", \"gridcolor\": \"white\", \"linecolor\": \"white\", \"minorgridcolor\": \"white\", \"startlinecolor\": \"#2a3f5f\"}, \"baxis\": {\"endlinecolor\": \"#2a3f5f\", \"gridcolor\": \"white\", \"linecolor\": \"white\", \"minorgridcolor\": \"white\", \"startlinecolor\": \"#2a3f5f\"}, \"type\": \"carpet\"}], \"choropleth\": [{\"colorbar\": {\"outlinewidth\": 0, \"ticks\": \"\"}, \"type\": \"choropleth\"}], \"contour\": [{\"colorbar\": {\"outlinewidth\": 0, \"ticks\": \"\"}, \"colorscale\": [[0.0, \"#0d0887\"], [0.1111111111111111, \"#46039f\"], [0.2222222222222222, \"#7201a8\"], [0.3333333333333333, \"#9c179e\"], [0.4444444444444444, \"#bd3786\"], [0.5555555555555556, \"#d8576b\"], [0.6666666666666666, \"#ed7953\"], [0.7777777777777778, \"#fb9f3a\"], [0.8888888888888888, \"#fdca26\"], [1.0, \"#f0f921\"]], \"type\": \"contour\"}], \"contourcarpet\": [{\"colorbar\": {\"outlinewidth\": 0, \"ticks\": \"\"}, \"type\": \"contourcarpet\"}], \"heatmap\": [{\"colorbar\": {\"outlinewidth\": 0, \"ticks\": \"\"}, \"colorscale\": [[0.0, \"#0d0887\"], [0.1111111111111111, \"#46039f\"], [0.2222222222222222, \"#7201a8\"], [0.3333333333333333, \"#9c179e\"], [0.4444444444444444, \"#bd3786\"], [0.5555555555555556, \"#d8576b\"], [0.6666666666666666, \"#ed7953\"], [0.7777777777777778, \"#fb9f3a\"], [0.8888888888888888, \"#fdca26\"], [1.0, \"#f0f921\"]], \"type\": \"heatmap\"}], \"heatmapgl\": [{\"colorbar\": {\"outlinewidth\": 0, \"ticks\": \"\"}, \"colorscale\": [[0.0, \"#0d0887\"], [0.1111111111111111, \"#46039f\"], [0.2222222222222222, \"#7201a8\"], [0.3333333333333333, \"#9c179e\"], [0.4444444444444444, \"#bd3786\"], [0.5555555555555556, \"#d8576b\"], [0.6666666666666666, \"#ed7953\"], [0.7777777777777778, \"#fb9f3a\"], [0.8888888888888888, \"#fdca26\"], [1.0, \"#f0f921\"]], \"type\": \"heatmapgl\"}], \"histogram\": [{\"marker\": {\"colorbar\": {\"outlinewidth\": 0, \"ticks\": \"\"}}, \"type\": \"histogram\"}], \"histogram2d\": [{\"colorbar\": {\"outlinewidth\": 0, \"ticks\": \"\"}, \"colorscale\": [[0.0, \"#0d0887\"], [0.1111111111111111, \"#46039f\"], [0.2222222222222222, \"#7201a8\"], [0.3333333333333333, \"#9c179e\"], [0.4444444444444444, \"#bd3786\"], [0.5555555555555556, \"#d8576b\"], [0.6666666666666666, \"#ed7953\"], [0.7777777777777778, \"#fb9f3a\"], [0.8888888888888888, \"#fdca26\"], [1.0, \"#f0f921\"]], \"type\": \"histogram2d\"}], \"histogram2dcontour\": [{\"colorbar\": {\"outlinewidth\": 0, \"ticks\": \"\"}, \"colorscale\": [[0.0, \"#0d0887\"], [0.1111111111111111, \"#46039f\"], [0.2222222222222222, \"#7201a8\"], [0.3333333333333333, \"#9c179e\"], [0.4444444444444444, \"#bd3786\"], [0.5555555555555556, \"#d8576b\"], [0.6666666666666666, \"#ed7953\"], [0.7777777777777778, \"#fb9f3a\"], [0.8888888888888888, \"#fdca26\"], [1.0, \"#f0f921\"]], \"type\": \"histogram2dcontour\"}], \"mesh3d\": [{\"colorbar\": {\"outlinewidth\": 0, \"ticks\": \"\"}, \"type\": \"mesh3d\"}], \"parcoords\": [{\"line\": {\"colorbar\": {\"outlinewidth\": 0, \"ticks\": \"\"}}, \"type\": \"parcoords\"}], \"scatter\": [{\"marker\": {\"colorbar\": {\"outlinewidth\": 0, \"ticks\": \"\"}}, \"type\": \"scatter\"}], \"scatter3d\": [{\"line\": {\"colorbar\": {\"outlinewidth\": 0, \"ticks\": \"\"}}, \"marker\": {\"colorbar\": {\"outlinewidth\": 0, \"ticks\": \"\"}}, \"type\": \"scatter3d\"}], \"scattercarpet\": [{\"marker\": {\"colorbar\": {\"outlinewidth\": 0, \"ticks\": \"\"}}, \"type\": \"scattercarpet\"}], \"scattergeo\": [{\"marker\": {\"colorbar\": {\"outlinewidth\": 0, \"ticks\": \"\"}}, \"type\": \"scattergeo\"}], \"scattergl\": [{\"marker\": {\"colorbar\": {\"outlinewidth\": 0, \"ticks\": \"\"}}, \"type\": \"scattergl\"}], \"scattermapbox\": [{\"marker\": {\"colorbar\": {\"outlinewidth\": 0, \"ticks\": \"\"}}, \"type\": \"scattermapbox\"}], \"scatterpolar\": [{\"marker\": {\"colorbar\": {\"outlinewidth\": 0, \"ticks\": \"\"}}, \"type\": \"scatterpolar\"}], \"scatterpolargl\": [{\"marker\": {\"colorbar\": {\"outlinewidth\": 0, \"ticks\": \"\"}}, \"type\": \"scatterpolargl\"}], \"scatterternary\": [{\"marker\": {\"colorbar\": {\"outlinewidth\": 0, \"ticks\": \"\"}}, \"type\": \"scatterternary\"}], \"surface\": [{\"colorbar\": {\"outlinewidth\": 0, \"ticks\": \"\"}, \"colorscale\": [[0.0, \"#0d0887\"], [0.1111111111111111, \"#46039f\"], [0.2222222222222222, \"#7201a8\"], [0.3333333333333333, \"#9c179e\"], [0.4444444444444444, \"#bd3786\"], [0.5555555555555556, \"#d8576b\"], [0.6666666666666666, \"#ed7953\"], [0.7777777777777778, \"#fb9f3a\"], [0.8888888888888888, \"#fdca26\"], [1.0, \"#f0f921\"]], \"type\": \"surface\"}], \"table\": [{\"cells\": {\"fill\": {\"color\": \"#EBF0F8\"}, \"line\": {\"color\": \"white\"}}, \"header\": {\"fill\": {\"color\": \"#C8D4E3\"}, \"line\": {\"color\": \"white\"}}, \"type\": \"table\"}]}, \"layout\": {\"annotationdefaults\": {\"arrowcolor\": \"#2a3f5f\", \"arrowhead\": 0, \"arrowwidth\": 1}, \"colorscale\": {\"diverging\": [[0, \"#8e0152\"], [0.1, \"#c51b7d\"], [0.2, \"#de77ae\"], [0.3, \"#f1b6da\"], [0.4, \"#fde0ef\"], [0.5, \"#f7f7f7\"], [0.6, \"#e6f5d0\"], [0.7, \"#b8e186\"], [0.8, \"#7fbc41\"], [0.9, \"#4d9221\"], [1, \"#276419\"]], \"sequential\": [[0.0, \"#0d0887\"], [0.1111111111111111, \"#46039f\"], [0.2222222222222222, \"#7201a8\"], [0.3333333333333333, \"#9c179e\"], [0.4444444444444444, \"#bd3786\"], [0.5555555555555556, \"#d8576b\"], [0.6666666666666666, \"#ed7953\"], [0.7777777777777778, \"#fb9f3a\"], [0.8888888888888888, \"#fdca26\"], [1.0, \"#f0f921\"]], \"sequentialminus\": [[0.0, \"#0d0887\"], [0.1111111111111111, \"#46039f\"], [0.2222222222222222, \"#7201a8\"], [0.3333333333333333, \"#9c179e\"], [0.4444444444444444, \"#bd3786\"], [0.5555555555555556, \"#d8576b\"], [0.6666666666666666, \"#ed7953\"], [0.7777777777777778, \"#fb9f3a\"], [0.8888888888888888, \"#fdca26\"], [1.0, \"#f0f921\"]]}, \"colorway\": [\"#636efa\", \"#EF553B\", \"#00cc96\", \"#ab63fa\", \"#FFA15A\", \"#19d3f3\", \"#FF6692\", \"#B6E880\", \"#FF97FF\", \"#FECB52\"], \"font\": {\"color\": \"#2a3f5f\"}, \"geo\": {\"bgcolor\": \"white\", \"lakecolor\": \"white\", \"landcolor\": \"#E5ECF6\", \"showlakes\": true, \"showland\": true, \"subunitcolor\": \"white\"}, \"hoverlabel\": {\"align\": \"left\"}, \"hovermode\": \"closest\", \"mapbox\": {\"style\": \"light\"}, \"paper_bgcolor\": \"white\", \"plot_bgcolor\": \"#E5ECF6\", \"polar\": {\"angularaxis\": {\"gridcolor\": \"white\", \"linecolor\": \"white\", \"ticks\": \"\"}, \"bgcolor\": \"#E5ECF6\", \"radialaxis\": {\"gridcolor\": \"white\", \"linecolor\": \"white\", \"ticks\": \"\"}}, \"scene\": {\"xaxis\": {\"backgroundcolor\": \"#E5ECF6\", \"gridcolor\": \"white\", \"gridwidth\": 2, \"linecolor\": \"white\", \"showbackground\": true, \"ticks\": \"\", \"zerolinecolor\": \"white\"}, \"yaxis\": {\"backgroundcolor\": \"#E5ECF6\", \"gridcolor\": \"white\", \"gridwidth\": 2, \"linecolor\": \"white\", \"showbackground\": true, \"ticks\": \"\", \"zerolinecolor\": \"white\"}, \"zaxis\": {\"backgroundcolor\": \"#E5ECF6\", \"gridcolor\": \"white\", \"gridwidth\": 2, \"linecolor\": \"white\", \"showbackground\": true, \"ticks\": \"\", \"zerolinecolor\": \"white\"}}, \"shapedefaults\": {\"line\": {\"color\": \"#2a3f5f\"}}, \"ternary\": {\"aaxis\": {\"gridcolor\": \"white\", \"linecolor\": \"white\", \"ticks\": \"\"}, \"baxis\": {\"gridcolor\": \"white\", \"linecolor\": \"white\", \"ticks\": \"\"}, \"bgcolor\": \"#E5ECF6\", \"caxis\": {\"gridcolor\": \"white\", \"linecolor\": \"white\", \"ticks\": \"\"}}, \"title\": {\"x\": 0.05}, \"xaxis\": {\"automargin\": true, \"gridcolor\": \"white\", \"linecolor\": \"white\", \"ticks\": \"\", \"zerolinecolor\": \"white\", \"zerolinewidth\": 2}, \"yaxis\": {\"automargin\": true, \"gridcolor\": \"white\", \"linecolor\": \"white\", \"ticks\": \"\", \"zerolinecolor\": \"white\", \"zerolinewidth\": 2}}}, \"xaxis\": {\"anchor\": \"y\", \"categoryarray\": [\"\\u043f\\u0440\\u043e\\u0441\\u043f\\u0435\\u043a\\u0442 \\u041c\\u0438\\u0440\\u0430\", \"\\u041f\\u0440\\u043e\\u0444\\u0441\\u043e\\u044e\\u0437\\u043d\\u0430\\u044f \\u0443\\u043b\\u0438\\u0446\\u0430\", \"\\u041b\\u0435\\u043d\\u0438\\u043d\\u0433\\u0440\\u0430\\u0434\\u0441\\u043a\\u0438\\u0439 \\u043f\\u0440\\u043e\\u0441\\u043f\\u0435\\u043a\\u0442\", \"\\u041f\\u0440\\u0435\\u0441\\u043d\\u0435\\u043d\\u0441\\u043a\\u0430\\u044f \\u043d\\u0430\\u0431\\u0435\\u0440\\u0435\\u0436\\u043d\\u0430\\u044f\", \"\\u0412\\u0430\\u0440\\u0448\\u0430\\u0432\\u0441\\u043a\\u043e\\u0435 \\u0448\\u043e\\u0441\\u0441\\u0435\", \"\\u041b\\u0435\\u043d\\u0438\\u043d\\u0441\\u043a\\u0438\\u0439 \\u043f\\u0440\\u043e\\u0441\\u043f\\u0435\\u043a\\u0442\", \"\\u043f\\u0440\\u043e\\u0441\\u043f\\u0435\\u043a\\u0442 \\u0412\\u0435\\u0440\\u043d\\u0430\\u0434\\u0441\\u043a\\u043e\\u0433\\u043e\", \"\\u041a\\u0443\\u0442\\u0443\\u0437\\u043e\\u0432\\u0441\\u043a\\u0438\\u0439 \\u043f\\u0440\\u043e\\u0441\\u043f\\u0435\\u043a\\u0442\", \"\\u041a\\u0430\\u0448\\u0438\\u0440\\u0441\\u043a\\u043e\\u0435 \\u0448\\u043e\\u0441\\u0441\\u0435\", \"\\u041a\\u0438\\u0440\\u043e\\u0432\\u043e\\u0433\\u0440\\u0430\\u0434\\u0441\\u043a\\u0430\\u044f \\u0443\\u043b\\u0438\\u0446\\u0430\"], \"categoryorder\": \"array\", \"domain\": [0.0, 0.98], \"title\": {\"text\": \"street\"}}, \"yaxis\": {\"anchor\": \"x\", \"domain\": [0.0, 1.0], \"title\": {\"text\": \"object_name\"}}},\n",
       "                        {\"responsive\": true}\n",
       "                    ).then(function(){\n",
       "                            \n",
       "var gd = document.getElementById('6492f0a3-ddca-4586-8de0-238116ad69a9');\n",
       "var x = new MutationObserver(function (mutations, observer) {{\n",
       "        var display = window.getComputedStyle(gd).display;\n",
       "        if (!display || display === 'none') {{\n",
       "            console.log([gd, 'removed!']);\n",
       "            Plotly.purge(gd);\n",
       "            observer.disconnect();\n",
       "        }}\n",
       "}});\n",
       "\n",
       "// Listen for the removal of the full notebook cells\n",
       "var notebookContainer = gd.closest('#notebook-container');\n",
       "if (notebookContainer) {{\n",
       "    x.observe(notebookContainer, {childList: true});\n",
       "}}\n",
       "\n",
       "// Listen for the clearing of the current output cell\n",
       "var outputEl = gd.closest('.output');\n",
       "if (outputEl) {{\n",
       "    x.observe(outputEl, {childList: true});\n",
       "}}\n",
       "\n",
       "                        })\n",
       "                };\n",
       "                });\n",
       "            </script>\n",
       "        </div>"
      ]
     },
     "metadata": {},
     "output_type": "display_data"
    }
   ],
   "source": [
    "fig = px.bar(top10_streets, x='street', y='object_name', \n",
    "              color='street',text='object_name')\n",
    "fig.show()"
   ]
  },
  {
   "cell_type": "code",
   "execution_count": 29,
   "metadata": {},
   "outputs": [
    {
     "name": "stdout",
     "output_type": "stream",
     "text": [
      "\n",
      "\n",
      "проспект Мира находится в:\n",
      "- Алексеевский район\n",
      "- Ярославский Район\n",
      "- Район Марьина роща\n",
      "- Останкинский район\n",
      "- Район Ростокино\n",
      "- Район Свиблово\n",
      "- Мещанский район\n",
      "\n",
      "Профсоюзная улица находится в:\n",
      "- Академический район\n",
      "- Район Черемушки\n",
      "- Район Ясенево\n",
      "- Район Коньково\n",
      "- Обручевский район\n",
      "- Район Теплый Стан\n",
      "\n",
      "Ленинградский проспект находится в:\n",
      "- Район Аэропорт\n",
      "- Район Беговой\n",
      "- Хорошевский район\n",
      "- Район Сокол\n",
      "\n",
      "Пресненская набережная находится в:\n",
      "- Пресненский район\n",
      "\n",
      "Варшавское шоссе находится в:\n",
      "- Район Чертаново Центральное\n",
      "- Район Чертаново Северное\n",
      "- Район Чертаново Южное\n",
      "- Донской район\n",
      "- Район Нагатино-Садовники\n",
      "- Нагорный район\n",
      "- Район Северное Бутово\n",
      "- Район Южное Бутово\n",
      "\n",
      "Ленинский проспект находится в:\n",
      "- Район Проспект Вернадского\n",
      "- Район Тропарево-Никулино\n",
      "- Донской район\n",
      "- Район Гагаринский\n",
      "- Ломоносовский район\n",
      "- Обручевский район\n",
      "- Район Теплый Стан\n",
      "- Район Якиманка\n",
      "\n",
      "проспект Вернадского находится в:\n",
      "- Район Проспект Вернадского\n",
      "- Район Раменки\n",
      "- Район Тропарево-Никулино\n",
      "- Район Гагаринский\n",
      "- Ломоносовский район\n",
      "\n",
      "Кутузовский проспект находится в:\n",
      "- Район Дорогомилово\n",
      "- Район Фили-Давыдково\n",
      "\n",
      "Каширское шоссе находится в:\n",
      "- Район Москворечье-Сабурово\n",
      "- Район Нагатино-Садовники\n",
      "- Район Орехово-Борисово Южное\n",
      "- Район Орехово-Борисово Северное\n",
      "\n",
      "Кировоградская улица находится в:\n",
      "- Район Чертаново Центральное\n",
      "- Район Чертаново Северное\n",
      "- Район Чертаново Южное\n",
      "\n"
     ]
    }
   ],
   "source": [
    "district = pd.read_csv('mosgaz-streets.csv')\n",
    "district\n",
    "top10_streets_merged = top10_streets.merge(district[['streetname', 'okrug', 'area']], left_on='street', right_on='streetname')\n",
    "streets = pd.DataFrame(data=top10_streets_merged['street'].unique(), columns=['street'])\n",
    "\n",
    "def areas(row, data):\n",
    "    result = data[data['street']==row['street']]['area'].to_list()\n",
    "    return result\n",
    "top10_streets['areas'] = top10_streets.apply(areas, args=[top10_streets_merged], axis=1)\n",
    "print('\\n')\n",
    "for street, areas in zip(top10_streets['street'], top10_streets['areas']):\n",
    "    print('{} находится в:'.format(street))   \n",
    "    for area in areas:\n",
    "        numeric=1\n",
    "        print('-', area)\n",
    "    print('')    "
   ]
  },
  {
   "cell_type": "code",
   "execution_count": 30,
   "metadata": {},
   "outputs": [
    {
     "data": {
      "text/html": [
       "<div>\n",
       "<style scoped>\n",
       "    .dataframe tbody tr th:only-of-type {\n",
       "        vertical-align: middle;\n",
       "    }\n",
       "\n",
       "    .dataframe tbody tr th {\n",
       "        vertical-align: top;\n",
       "    }\n",
       "\n",
       "    .dataframe thead th {\n",
       "        text-align: right;\n",
       "    }\n",
       "</style>\n",
       "<table border=\"1\" class=\"dataframe\">\n",
       "  <thead>\n",
       "    <tr style=\"text-align: right;\">\n",
       "      <th></th>\n",
       "      <th>Объектов</th>\n",
       "      <th>Районов</th>\n",
       "    </tr>\n",
       "    <tr>\n",
       "      <th></th>\n",
       "      <th></th>\n",
       "      <th></th>\n",
       "    </tr>\n",
       "  </thead>\n",
       "  <tbody>\n",
       "    <tr>\n",
       "      <td>Варшавское шоссе</td>\n",
       "      <td>164</td>\n",
       "      <td>8</td>\n",
       "    </tr>\n",
       "    <tr>\n",
       "      <td>Каширское шоссе</td>\n",
       "      <td>111</td>\n",
       "      <td>4</td>\n",
       "    </tr>\n",
       "    <tr>\n",
       "      <td>Кировоградская улица</td>\n",
       "      <td>108</td>\n",
       "      <td>3</td>\n",
       "    </tr>\n",
       "    <tr>\n",
       "      <td>Кутузовский проспект</td>\n",
       "      <td>114</td>\n",
       "      <td>2</td>\n",
       "    </tr>\n",
       "    <tr>\n",
       "      <td>Ленинградский проспект</td>\n",
       "      <td>170</td>\n",
       "      <td>4</td>\n",
       "    </tr>\n",
       "    <tr>\n",
       "      <td>Ленинский проспект</td>\n",
       "      <td>147</td>\n",
       "      <td>8</td>\n",
       "    </tr>\n",
       "    <tr>\n",
       "      <td>Пресненская набережная</td>\n",
       "      <td>167</td>\n",
       "      <td>1</td>\n",
       "    </tr>\n",
       "    <tr>\n",
       "      <td>Профсоюзная улица</td>\n",
       "      <td>181</td>\n",
       "      <td>6</td>\n",
       "    </tr>\n",
       "    <tr>\n",
       "      <td>проспект Вернадского</td>\n",
       "      <td>128</td>\n",
       "      <td>5</td>\n",
       "    </tr>\n",
       "    <tr>\n",
       "      <td>проспект Мира</td>\n",
       "      <td>204</td>\n",
       "      <td>7</td>\n",
       "    </tr>\n",
       "    <tr>\n",
       "      <td></td>\n",
       "      <td></td>\n",
       "      <td></td>\n",
       "    </tr>\n",
       "    <tr>\n",
       "      <td>В среднем</td>\n",
       "      <td>149.4</td>\n",
       "      <td>4.8</td>\n",
       "    </tr>\n",
       "  </tbody>\n",
       "</table>\n",
       "</div>"
      ],
      "text/plain": [
       "                       Объектов Районов\n",
       "                                       \n",
       "Варшавское шоссе            164       8\n",
       "Каширское шоссе             111       4\n",
       "Кировоградская улица        108       3\n",
       "Кутузовский проспект        114       2\n",
       "Ленинградский проспект      170       4\n",
       "Ленинский проспект          147       8\n",
       "Пресненская набережная      167       1\n",
       "Профсоюзная улица           181       6\n",
       "проспект Вернадского        128       5\n",
       "проспект Мира               204       7\n",
       "                                       \n",
       "В среднем                 149.4     4.8"
      ]
     },
     "execution_count": 30,
     "metadata": {},
     "output_type": "execute_result"
    }
   ],
   "source": [
    "areas_top10_streets_pivot = top10_streets_merged.groupby('street', as_index=False).agg({'object_name':'mean', 'area':'nunique'})\n",
    "areas_top10_streets_pivot.columns = ['', 'Объектов','Районов']\n",
    "areas_top10_streets_pivot = areas_top10_streets_pivot.set_index('')\n",
    "areas_top10_streets_pivot.loc[''] = ''\n",
    "areas_top10_streets_pivot.loc['В среднем'] = areas_top10_streets_pivot[:-1].mean()\n",
    "areas_top10_streets_pivot"
   ]
  },
  {
   "cell_type": "markdown",
   "metadata": {},
   "source": [
    "Prospect Mira: Meshchansky, Maryina Roshcha, Alekseevsky, Ostankinsky, Sviblovo, Rostokino\n",
    "Profsoyuznaya street: Akademichesky, Konkovo, Obruchevsky, Tyoply Stan, Cheryomushki, Yasenevo\n",
    "Leningradsky Prospekt: ​​Begovoy, Airport, Sokol, Khoroshevsky\n",
    "Presnenskaya embankment: Presnensky\n",
    "Warsaw highway: Donskoy, Nagatino-Sadovniki, Nagorny\n",
    "Leninsky Prospekt: ​​Gagarinsky and Donskoy\n",
    "Prospect Vernadsky: Prospect Vernadsky\n",
    "Kutuzovsky prospect: Dorogomilovo, Fili-Davydkovo\n",
    "Kashirskoye Highway: Nagatino-Sadovniki and Nagorny\n",
    "Khodynsky Boulevard: Khoroshevsky"
   ]
  },
  {
   "cell_type": "code",
   "execution_count": 31,
   "metadata": {},
   "outputs": [
    {
     "data": {
      "text/html": [
       "<div>\n",
       "<style scoped>\n",
       "    .dataframe tbody tr th:only-of-type {\n",
       "        vertical-align: middle;\n",
       "    }\n",
       "\n",
       "    .dataframe tbody tr th {\n",
       "        vertical-align: top;\n",
       "    }\n",
       "\n",
       "    .dataframe thead th {\n",
       "        text-align: right;\n",
       "    }\n",
       "</style>\n",
       "<table border=\"1\" class=\"dataframe\">\n",
       "  <thead>\n",
       "    <tr style=\"text-align: right;\">\n",
       "      <th></th>\n",
       "      <th>street</th>\n",
       "      <th>object_name</th>\n",
       "    </tr>\n",
       "  </thead>\n",
       "  <tbody>\n",
       "    <tr>\n",
       "      <td>0</td>\n",
       "      <td>Перовский проезд</td>\n",
       "      <td>1</td>\n",
       "    </tr>\n",
       "    <tr>\n",
       "      <td>1</td>\n",
       "      <td>переулок Маяковского</td>\n",
       "      <td>1</td>\n",
       "    </tr>\n",
       "    <tr>\n",
       "      <td>2</td>\n",
       "      <td>переулок Красина</td>\n",
       "      <td>1</td>\n",
       "    </tr>\n",
       "    <tr>\n",
       "      <td>3</td>\n",
       "      <td>переулок Васнецова</td>\n",
       "      <td>1</td>\n",
       "    </tr>\n",
       "    <tr>\n",
       "      <td>4</td>\n",
       "      <td>Икшинская улица</td>\n",
       "      <td>1</td>\n",
       "    </tr>\n",
       "    <tr>\n",
       "      <td>...</td>\n",
       "      <td>...</td>\n",
       "      <td>...</td>\n",
       "    </tr>\n",
       "    <tr>\n",
       "      <td>546</td>\n",
       "      <td>улица Кошкина</td>\n",
       "      <td>1</td>\n",
       "    </tr>\n",
       "    <tr>\n",
       "      <td>547</td>\n",
       "      <td>улица Маршала Новикова</td>\n",
       "      <td>1</td>\n",
       "    </tr>\n",
       "    <tr>\n",
       "      <td>548</td>\n",
       "      <td>улица Капотня</td>\n",
       "      <td>1</td>\n",
       "    </tr>\n",
       "    <tr>\n",
       "      <td>549</td>\n",
       "      <td>улица Жуковского</td>\n",
       "      <td>1</td>\n",
       "    </tr>\n",
       "    <tr>\n",
       "      <td>550</td>\n",
       "      <td>Базовая улица</td>\n",
       "      <td>1</td>\n",
       "    </tr>\n",
       "  </tbody>\n",
       "</table>\n",
       "<p>551 rows × 2 columns</p>\n",
       "</div>"
      ],
      "text/plain": [
       "                     street  object_name\n",
       "0          Перовский проезд            1\n",
       "1      переулок Маяковского            1\n",
       "2          переулок Красина            1\n",
       "3        переулок Васнецова            1\n",
       "4           Икшинская улица            1\n",
       "..                      ...          ...\n",
       "546           улица Кошкина            1\n",
       "547  улица Маршала Новикова            1\n",
       "548           улица Капотня            1\n",
       "549        улица Жуковского            1\n",
       "550           Базовая улица            1\n",
       "\n",
       "[551 rows x 2 columns]"
      ]
     },
     "metadata": {},
     "output_type": "display_data"
    }
   ],
   "source": [
    "#8.Find the number of streets with one catering facility.\n",
    "#Use external information and answer the question - in what districts of Moscow are these streets located?\n",
    "onerest_street = data.groupby('street')[\"object_name\"].count().to_frame().sort_values(ascending=True,by='object_name').head(551).reset_index()\n",
    "display(onerest_street)"
   ]
  },
  {
   "cell_type": "code",
   "execution_count": 32,
   "metadata": {},
   "outputs": [
    {
     "name": "stdout",
     "output_type": "stream",
     "text": [
      "\n",
      "\n",
      "Перовский проезд находится в:\n",
      "- Район Лефортово\n",
      "- Нижегородский район\n",
      "\n",
      "переулок Маяковского находится в:\n",
      "- Таганский район\n",
      "\n",
      "переулок Красина находится в:\n",
      "- Пресненский район\n",
      "\n",
      "переулок Васнецова находится в:\n",
      "- Мещанский район\n",
      "\n",
      "Икшинская улица находится в:\n",
      "- Дмитровский район\n",
      "\n",
      "Институтский переулок находится в:\n",
      "- Район Марьина роща\n",
      "\n",
      "Институтский проезд находится в:\n",
      "\n",
      "Интернациональная улица находится в:\n",
      "- Район Внуково\n",
      "\n",
      "Яхромская улица находится в:\n",
      "- Дмитровский район\n",
      "\n",
      "Яузский бульвар находится в:\n",
      "- Таганский район\n",
      "\n",
      "Ясногорская улица находится в:\n",
      "- Район Ясенево\n",
      "\n",
      "Калибровская улица находится в:\n",
      "- Останкинский район\n",
      "\n",
      "Калошин переулок находится в:\n",
      "- Район Арбат\n",
      "\n",
      "Янтарный проезд находится в:\n",
      "- Лосиноостровский район\n",
      "\n",
      "Ялтинская улица находится в:\n",
      "- Нагорный район\n",
      "\n",
      "Якиманский переулок находится в:\n",
      "- Район Якиманка\n",
      "\n",
      "Канатчиковский проезд находится в:\n",
      "- Донской район\n",
      "\n",
      "Карельский бульвар находится в:\n",
      "- Дмитровский район\n",
      "\n",
      "Измайловская площадь находится в:\n",
      "- Район Измайлово\n",
      "\n",
      "Юрловский проезд находится в:\n",
      "- Район Отрадное\n",
      "\n",
      "Известковый переулок находится в:\n",
      "- Таганский район\n",
      "\n",
      "Ижорский проезд находится в:\n",
      "- Дмитровский район\n",
      "\n",
      "Живарев переулок находится в:\n",
      "- Красносельский район\n",
      "\n",
      "проезд Черепановых находится в:\n",
      "- Район Коптево\n",
      "\n",
      "Жигулёвская улица находится в:\n",
      "- Район Кузьминки\n",
      "\n",
      "Жуков проезд находится в:\n",
      "- Район Замоскворечье\n",
      "- Даниловский район\n",
      "\n",
      "Заводской проезд находится в:\n",
      "- Район Измайлово\n",
      "\n",
      "проезд Нансена находится в:\n",
      "- Район Свиблово\n",
      "\n",
      "проезд Досфлота находится в:\n",
      "- Район Южное Тушино\n",
      "\n",
      "Зарайская улица находится в:\n",
      "- Рязанский район\n",
      "\n",
      "проезд Донелайтиса находится в:\n",
      "- Район Южное Тушино\n",
      "\n",
      "проезд Добролюбова находится в:\n",
      "- Бутырский район\n",
      "\n",
      "Звонарский переулок находится в:\n",
      "- Мещанский район\n",
      "\n",
      "площадь Журавлёва находится в:\n",
      "- Район Преображенское\n",
      "- Район Соколиная Гора\n",
      "\n",
      "Зубарев переулок находится в:\n",
      "- Алексеевский район\n",
      "\n",
      "Зюзинская улица находится в:\n",
      "- Район Черемушки\n",
      "\n",
      "переулок Хользунова находится в:\n",
      "- Район Хамовники\n",
      "\n",
      "Иваньковское шоссе находится в:\n",
      "- Район Покровское-Стрешнево\n",
      "\n",
      "переулок Расковой находится в:\n",
      "- Район Беговой\n",
      "\n",
      "Изваринская улица находится в:\n",
      "- Район Внуково\n",
      "\n",
      "Каскадная улица находится в:\n",
      "- Район Косино-Ухтомский\n",
      "\n",
      "Электрический переулок находится в:\n",
      "- Пресненский район\n",
      "\n",
      "Щёлковский проезд находится в:\n",
      "- Район Северное Измайлово\n",
      "\n",
      "Коптевский бульвар находится в:\n",
      "- Район Коптево\n",
      "\n",
      "Хлыновский тупик находится в:\n",
      "- Пресненский район\n",
      "\n",
      "Хлебный переулок находится в:\n",
      "- Пресненский район\n",
      "- Район Арбат\n",
      "\n",
      "Хитровский переулок находится в:\n",
      "- Басманный район\n",
      "\n",
      "Костомаровская набережная находится в:\n",
      "- Таганский район\n",
      "\n",
      "Хилков переулок находится в:\n",
      "- Район Хамовники\n",
      "\n",
      "Хвалынский бульвар находится в:\n",
      "- Район Выхино-Жулебино\n",
      "\n",
      "Хавская улица находится в:\n",
      "- Даниловский район\n",
      "- Донской район\n",
      "- Район Якиманка\n",
      "\n",
      "Красногвардейский бульвар находится в:\n",
      "- Пресненский район\n",
      "\n",
      "Фруктовая улица находится в:\n",
      "- Нагорный район\n",
      "- Район Зюзино\n",
      "\n",
      "Фролов переулок находится в:\n",
      "- Красносельский район\n",
      "\n",
      "Фитарёвская улица находится в:\n",
      "\n",
      "Красноказарменный проезд находится в:\n",
      "- Район Лефортово\n",
      "\n",
      "Филипповский переулок находится в:\n",
      "- Район Арбат\n",
      "\n",
      "Физическая улица находится в:\n",
      "\n",
      "Феодосийская улица находится в:\n",
      "- Район Северное Бутово\n",
      "\n",
      "Кремлёвская набережная находится в:\n",
      "- Район Хамовники\n",
      "\n",
      "Хованская улица находится в:\n",
      "- Останкинский район\n",
      "\n",
      "Кооперативная улица находится в:\n",
      "- Район Хамовники\n",
      "\n",
      "Кондрашёвский тупик находится в:\n",
      "- Басманный район\n",
      "\n",
      "Конаковский проезд находится в:\n",
      "- Головинский район\n",
      "\n",
      "Шубинский переулок находится в:\n",
      "- Район Арбат\n",
      "\n",
      "Штурвальная улица находится в:\n",
      "- Район Южное Тушино\n",
      "\n",
      "Шепелюгинская улица находится в:\n",
      "- Район Лефортово\n",
      "\n",
      "Чуксин тупик находится в:\n",
      "- Тимирязевский Район\n",
      "\n",
      "Чукотский проезд находится в:\n",
      "- Бабушкинский район\n",
      "\n",
      "Кирпичная улица находится в:\n",
      "- Район Соколиная Гора\n",
      "\n",
      "Черноморский бульвар находится в:\n",
      "- Нагорный район\n",
      "- Район Зюзино\n",
      "\n",
      "Черницынский проезд находится в:\n",
      "- Район Гольяново\n",
      "\n",
      "проезд Якушкина находится в:\n",
      "- Район Отрадное\n",
      "\n",
      "Черниговский переулок находится в:\n",
      "- Район Замоскворечье\n",
      "\n",
      "Чермянская улица находится в:\n",
      "- Район Южное Медведково\n",
      "- Район Северное Медведково\n",
      "\n",
      "Кожевнический проезд находится в:\n",
      "- Район Замоскворечье\n",
      "\n",
      "Козицкий переулок находится в:\n",
      "- Тверской район\n",
      "\n",
      "Челюскинская улица находится в:\n",
      "- Лосиноостровский район\n",
      "\n",
      "Центральный проспект находится в:\n",
      "- Район Матушкино-Савелки\n",
      "- Панфиловский район\n",
      "\n",
      "Композиторская улица находится в:\n",
      "- Район Арбат\n",
      "\n",
      "Цветочная улица находится в:\n",
      "\n",
      "Хохловский переулок находится в:\n",
      "- Басманный район\n",
      "\n",
      "Чермянский проезд находится в:\n",
      "- Район Северное Медведково\n",
      "\n",
      "Есенинский бульвар находится в:\n",
      "- Район Кузьминки\n",
      "\n",
      "проектируемый проезд № 1980 находится в:\n",
      "\n",
      "проспект 40 лет Октября находится в:\n",
      "- Район Люблино\n",
      "\n",
      "Бутиковский переулок находится в:\n",
      "- Район Хамовники\n",
      "\n",
      "улица Генерала Ермолова находится в:\n",
      "- Район Дорогомилово\n",
      "\n",
      "Вагоноремонтная улица находится в:\n",
      "- Дмитровский район\n",
      "\n",
      "Варсонофьевский переулок находится в:\n",
      "- Мещанский район\n",
      "\n",
      "улица Гамалеи находится в:\n",
      "- Район Щукино\n",
      "\n",
      "улица Высоцкого находится в:\n",
      "\n",
      "улица Вторая Пятилетка находится в:\n",
      "- Район Крюково\n",
      "\n",
      "Вербная улица находится в:\n",
      "- Район Метрогородок\n",
      "\n",
      "Верхний Золоторожский переулок находится в:\n",
      "- Район Лефортово\n",
      "\n",
      "Верхняя улица находится в:\n",
      "- Район Беговой\n",
      "\n",
      "улица Васильцовский Стан находится в:\n",
      "- Рязанский район\n",
      "\n",
      "Винницкая улица находится в:\n",
      "- Район Раменки\n",
      "\n",
      "улица Брусилова находится в:\n",
      "- Район Южное Бутово\n",
      "\n",
      "Волоцкой переулок находится в:\n",
      "- Район Митино\n",
      "\n",
      "улица Бориса Жигулёнкова находится в:\n",
      "- Район Соколиная Гора\n",
      "\n",
      "улица Богородский Вал находится в:\n",
      "- Район Богородское\n",
      "- Район Преображенское\n",
      "\n",
      "Воротниковский переулок находится в:\n",
      "- Тверской район\n",
      "\n",
      "Будайский проезд находится в:\n",
      "- Район Ростокино\n",
      "\n",
      "Будайская улица находится в:\n",
      "- Район Ростокино\n",
      "\n",
      "Брошевский переулок находится в:\n",
      "- Таганский район\n",
      "\n",
      "Бродников переулок находится в:\n",
      "- Район Якиманка\n",
      "\n",
      "улица Екатерины Будановой находится в:\n",
      "- Район Кунцево\n",
      "\n",
      "улица Евгения Родионова находится в:\n",
      "\n",
      "Большой Николопесковский переулок находится в:\n",
      "- Район Арбат\n",
      "\n",
      "Большой Полуярославский переулок находится в:\n",
      "- Таганский район\n",
      "- Басманный район\n",
      "\n",
      "Большой Предтеченский переулок находится в:\n",
      "- Пресненский район\n",
      "\n",
      "улица Дубки находится в:\n",
      "- Тимирязевский Район\n",
      "\n",
      "Большой Симоновский переулок находится в:\n",
      "- Таганский район\n",
      "\n",
      "улица Достоевского находится в:\n",
      "- Тверской район\n",
      "- Район Марьина роща\n",
      "- Мещанский район\n",
      "\n",
      "улица Богданова находится в:\n",
      "- Район Солнцево\n",
      "\n",
      "Большой Строченовский переулок находится в:\n",
      "- Район Замоскворечье\n",
      "\n",
      "Большой Трёхсвятительский переулок находится в:\n",
      "- Басманный район\n",
      "\n",
      "улица Демьяна Бедного находится в:\n",
      "- Район Хорошево-Мневники\n",
      "\n",
      "улица Девятая Рота находится в:\n",
      "- Район Преображенское\n",
      "\n",
      "Боровая улица находится в:\n",
      "- Район Лефортово\n",
      "\n",
      "Боровский проезд находится в:\n",
      "- Район Солнцево\n",
      "\n",
      "улица Горького находится в:\n",
      "\n",
      "Ботанический переулок находится в:\n",
      "- Мещанский район\n",
      "\n",
      "улица Гончарова находится в:\n",
      "- Бутырский район\n",
      "\n",
      "улица Дмитрия Рябинкина находится в:\n",
      "\n",
      "Кривоарбатский переулок находится в:\n",
      "- Район Арбат\n",
      "\n",
      "улица Благуша находится в:\n",
      "- Район Соколиная Гора\n",
      "\n",
      "Выползов переулок находится в:\n",
      "- Мещанский район\n",
      "\n",
      "Дегтярный переулок находится в:\n",
      "- Тверской район\n",
      "\n",
      "улица Академика Павлова находится в:\n",
      "- Район Кунцево\n",
      "\n",
      "Делегатская улица находится в:\n",
      "- Тверской район\n",
      "\n",
      "Денежный переулок находится в:\n",
      "- Район Арбат\n",
      "- Район Хамовники\n",
      "\n",
      "улица Академика Опарина находится в:\n",
      "- Район Коньково\n",
      "- Обручевский район\n",
      "\n",
      "улица Академика Комарова находится в:\n",
      "- Район Марфино\n",
      "\n",
      "Дивизионная улица находится в:\n",
      "- Район Внуково\n",
      "\n",
      "Дмитровский переулок находится в:\n",
      "- Тверской район\n",
      "\n",
      "Докучаев переулок находится в:\n",
      "- Красносельский район\n",
      "\n",
      "улица Академика Арцимовича находится в:\n",
      "- Район Коньково\n",
      "\n",
      "улица Айвазовского находится в:\n",
      "- Район Ясенево\n",
      "\n",
      "улица Авиаконструктора Микояна находится в:\n",
      "- Хорошевский район\n",
      "\n",
      "улица 9 Мая находится в:\n",
      "- Район Восточный\n",
      "\n",
      "улица 1-й километр Объездной Дороги находится в:\n",
      "\n",
      "село Былово находится в:\n",
      "\n",
      "Егорьевский проезд находится в:\n",
      "- Район Люблино\n",
      "\n",
      "Елоховский проезд находится в:\n",
      "- Басманный район\n",
      "\n",
      "улица Академика Петровского находится в:\n",
      "- Донской район\n",
      "- Район Якиманка\n",
      "\n",
      "улица Академика Понтрягина находится в:\n",
      "- Район Южное Бутово\n",
      "\n",
      "улица Академика Семёнова находится в:\n",
      "- Район Южное Бутово\n",
      "\n",
      "Гродненская улица находится в:\n",
      "- Можайский Район\n",
      "\n",
      "Вяземская улица находится в:\n",
      "- Можайский Район\n",
      "\n",
      "Газгольдерная улица находится в:\n",
      "- Нижегородский район\n",
      "\n",
      "Гаражная улица находится в:\n",
      "- Район Соколиная Гора\n",
      "\n",
      "Гвардейская улица находится в:\n",
      "- Можайский Район\n",
      "\n",
      "Гжатская улица находится в:\n",
      "- Можайский Район\n",
      "\n",
      "Гжельский переулок находится в:\n",
      "- Таганский район\n",
      "\n",
      "Глазовский переулок находится в:\n",
      "- Район Арбат\n",
      "- Район Хамовники\n",
      "\n",
      "Глебовская улица находится в:\n",
      "- Район Богородское\n",
      "\n",
      "Врачебный проезд находится в:\n",
      "- Район Покровское-Стрешнево\n",
      "\n",
      "Глинистый переулок находится в:\n",
      "- Мещанский район\n",
      "\n",
      "улица Атарбекова находится в:\n",
      "- Район Преображенское\n",
      "\n",
      "улица Артюхиной находится в:\n",
      "- Район Текстильщики\n",
      "\n",
      "Гольяновская улица находится в:\n",
      "- Басманный район\n",
      "\n",
      "Гончарная набережная находится в:\n",
      "- Таганский район\n",
      "\n",
      "Госпитальный переулок находится в:\n",
      "- Басманный район\n",
      "\n",
      "улица Анатолия Живова находится в:\n",
      "- Пресненский район\n",
      "\n",
      "улица Алексея Дикого находится в:\n",
      "- Район Новогиреево\n",
      "\n",
      "Гранатный переулок находится в:\n",
      "- Пресненский район\n",
      "\n",
      "Глинищевский переулок находится в:\n",
      "- Тверской район\n",
      "\n",
      "Федоскинская улица находится в:\n",
      "- Ярославский Район\n",
      "\n",
      "Фармацевтический проезд находится в:\n",
      "- Район Коптево\n",
      "\n",
      "Учинская улица находится в:\n",
      "- Дмитровский район\n",
      "\n",
      "Сеченовский переулок находится в:\n",
      "- Район Хамовники\n",
      "\n",
      "Нелидовская улица находится в:\n",
      "- Район Южное Тушино\n",
      "\n",
      "Неманский проезд находится в:\n",
      "- Район Строгино\n",
      "\n",
      "Несвижский переулок находится в:\n",
      "- Район Хамовники\n",
      "\n",
      "Нижний Журавлёв переулок находится в:\n",
      "- Район Преображенское\n",
      "- Район Соколиная Гора\n",
      "\n",
      "Нижний Кисельный переулок находится в:\n",
      "- Мещанский район\n",
      "\n",
      "Северодвинская улица находится в:\n",
      "- Район Северное Медведково\n",
      "\n",
      "Никитский переулок находится в:\n",
      "- Тверской район\n",
      "\n",
      "Сверчков переулок находится в:\n",
      "- Басманный район\n",
      "\n",
      "Садовнический проезд находится в:\n",
      "- Район Замоскворечье\n",
      "\n",
      "Садовая-Сухаревская улица находится в:\n",
      "- Мещанский район\n",
      "\n",
      "Новобутовский проезд находится в:\n",
      "\n",
      "Нововладыкинский проезд находится в:\n",
      "- Район Отрадное\n",
      "\n",
      "Русаковская набережная находится в:\n",
      "- Район Сокольники\n",
      "\n",
      "Рубцов переулок находится в:\n",
      "- Басманный район\n",
      "\n",
      "Ростокинская улица находится в:\n",
      "- Район Ростокино\n",
      "\n",
      "Родниковая улица находится в:\n",
      "- Район Солнцево\n",
      "\n",
      "Сибирский проезд находится в:\n",
      "- Таганский район\n",
      "\n",
      "Научный проезд находится в:\n",
      "- Район Черемушки\n",
      "\n",
      "Народный проспект находится в:\n",
      "- Район Измайлово\n",
      "\n",
      "Наро-Фоминская улица находится в:\n",
      "- Район Солнцево\n",
      "\n",
      "Союзный проспект находится в:\n",
      "- Район Новогиреево\n",
      "\n",
      "Мишина улица находится в:\n",
      "- Савеловский район\n",
      "\n",
      "Софийская набережная находится в:\n",
      "- Район Якиманка\n",
      "\n",
      "Молодежная улица находится в:\n",
      "\n",
      "Сормовский проезд находится в:\n",
      "- Район Выхино-Жулебино\n",
      "\n",
      "Молодёжная улица находится в:\n",
      "- Район Гагаринский\n",
      "\n",
      "Солнечногорский проезд находится в:\n",
      "- Головинский район\n",
      "\n",
      "Мрузовский переулок находится в:\n",
      "- Басманный район\n",
      "\n",
      "Рижский проезд находится в:\n",
      "- Алексеевский район\n",
      "\n",
      "Солнечная аллея находится в:\n",
      "- Панфиловский район\n",
      "\n",
      "Скорняжный переулок находится в:\n",
      "- Красносельский район\n",
      "\n",
      "Скатертный переулок находится в:\n",
      "- Пресненский район\n",
      "- Район Арбат\n",
      "\n",
      "Синельниковская улица находится в:\n",
      "- Район Южное Бутово\n",
      "\n",
      "Симферопольский проезд находится в:\n",
      "- Нагорный район\n",
      "\n",
      "Сивашская улица находится в:\n",
      "- Район Зюзино\n",
      "\n",
      "Нагорный бульвар находится в:\n",
      "- Район Котловка\n",
      "\n",
      "Напрудный переулок находится в:\n",
      "- Мещанский район\n",
      "\n",
      "Нарвская улица находится в:\n",
      "- Головинский район\n",
      "- Район Коптево\n",
      "- Войковский Район\n",
      "\n",
      "Соймоновский проезд находится в:\n",
      "- Район Хамовники\n",
      "\n",
      "Михневский проезд находится в:\n",
      "- Район Бирюлево Восточное\n",
      "\n",
      "Пяловская улица находится в:\n",
      "- Район Западное Дегунино\n",
      "\n",
      "Новолучанская улица находится в:\n",
      "- Район Кунцево\n",
      "\n",
      "Олонецкий проезд находится в:\n",
      "- Бабушкинский район\n",
      "\n",
      "Оренбургская улица находится в:\n",
      "- Район Косино-Ухтомский\n",
      "\n",
      "Орехово-Зуевский проезд находится в:\n",
      "- Нижегородский район\n",
      "\n",
      "Плетешковский переулок находится в:\n",
      "- Басманный район\n",
      "\n",
      "Платовская улица находится в:\n",
      "- Район Дорогомилово\n",
      "\n",
      "Пионерская улица находится в:\n",
      "- Район Внуково\n",
      "\n",
      "Печорская улица находится в:\n",
      "- Бабушкинский район\n",
      "\n",
      "Петровско-Разумовская аллея находится в:\n",
      "- Район Аэропорт\n",
      "\n",
      "Отрадный проезд находится в:\n",
      "- Район Отрадное\n",
      "\n",
      "Петроверигский переулок находится в:\n",
      "- Басманный район\n",
      "\n",
      "Песчаный переулок находится в:\n",
      "- Район Сокол\n",
      "\n",
      "Песчаная улица находится в:\n",
      "- Район Сокол\n",
      "\n",
      "Пестовский переулок находится в:\n",
      "- Таганский район\n",
      "\n",
      "Парковая улица находится в:\n",
      "- Район Ново-Переделкино\n",
      "- Район Митино\n",
      "\n",
      "шоссе Фрезер находится в:\n",
      "- Нижегородский район\n",
      "\n",
      "Пенягинская улица находится в:\n",
      "- Район Митино\n",
      "\n",
      "Парусный проезд находится в:\n",
      "- Район Южное Тушино\n",
      "\n",
      "Подольская улица находится в:\n",
      "- Район Марьино\n",
      "\n",
      "Подсосенский переулок находится в:\n",
      "- Басманный район\n",
      "\n",
      "Пожарский переулок находится в:\n",
      "- Район Хамовники\n",
      "\n",
      "Полевая улица находится в:\n",
      "- Район Внуково\n",
      "- Район Крюково\n",
      "- Район Южное Бутово\n",
      "\n",
      "Новоостаповская улица находится в:\n",
      "- Южнопортовый Район\n",
      "\n",
      "Пулковская улица находится в:\n",
      "- Головинский район\n",
      "\n",
      "Пуговишников переулок находится в:\n",
      "- Район Хамовники\n",
      "\n",
      "Прохладная улица находится в:\n",
      "- Район Бирюлево Восточное\n",
      "\n",
      "Новопресненский переулок находится в:\n",
      "- Пресненский район\n",
      "\n",
      "Проточный переулок находится в:\n",
      "- Район Арбат\n",
      "\n",
      "Новорублёвская улица находится в:\n",
      "- Район Кунцево\n",
      "\n",
      "Новосибирская улица находится в:\n",
      "- Район Гольяново\n",
      "\n",
      "Пыжёвский переулок находится в:\n",
      "\n",
      "Прокатная улица находится в:\n",
      "- Район Ивановское\n",
      "\n",
      "Новохорошёвский проезд находится в:\n",
      "\n",
      "Причальный проезд находится в:\n",
      "- Пресненский район\n",
      "- Район Хорошево-Мневники\n",
      "\n",
      "Прибрежный проезд находится в:\n",
      "- Район Левобережный\n",
      "- Молжаниновский район\n",
      "\n",
      "Норильская улица находится в:\n",
      "- Лосиноостровский район\n",
      "\n",
      "Посланников переулок находится в:\n",
      "- Басманный район\n",
      "\n",
      "Попов проезд находится в:\n",
      "- Район Сокольники\n",
      "\n",
      "Полтавская улица находится в:\n",
      "- Савеловский район\n",
      "\n",
      "Озёрная аллея находится в:\n",
      "- Район Матушкино-Савелки\n",
      "\n",
      "Производственная улица находится в:\n",
      "- Район Солнцево\n",
      "\n",
      "Большой Кисельный переулок находится в:\n",
      "- Мещанский район\n",
      "\n",
      "Миусская площадь находится в:\n",
      "- Тверской район\n",
      "\n",
      "Мирской переулок находится в:\n",
      "- Савеловский район\n",
      "\n",
      "Тетеринский переулок находится в:\n",
      "- Таганский район\n",
      "\n",
      "Тестовская улица находится в:\n",
      "- Пресненский район\n",
      "\n",
      "Тессинский переулок находится в:\n",
      "- Таганский район\n",
      "\n",
      "Тенистый проезд находится в:\n",
      "- Район Свиблово\n",
      "\n",
      "Лонгиновская улица находится в:\n",
      "- Район Лефортово\n",
      "\n",
      "Лосевская улица находится в:\n",
      "- Ярославский Район\n",
      "\n",
      "Театральная аллея находится в:\n",
      "- Район Аэропорт\n",
      "\n",
      "Таёжная улица находится в:\n",
      "- Лосиноостровский район\n",
      "\n",
      "Тарханская улица находится в:\n",
      "- Район Выхино-Жулебино\n",
      "\n",
      "Тарусская улица находится в:\n",
      "- Район Ясенево\n",
      "\n",
      "Лужнецкий проезд находится в:\n",
      "- Район Хамовники\n",
      "\n",
      "Таможенный проезд находится в:\n",
      "- Район Лефортово\n",
      "\n",
      "Лыщиков переулок находится в:\n",
      "- Таганский район\n",
      "\n",
      "Магаданская улица находится в:\n",
      "- Лосиноостровский район\n",
      "\n",
      "Мажоров переулок находится в:\n",
      "- Район Соколиная Гора\n",
      "\n",
      "Таганрогская улица находится в:\n",
      "- Район Люблино\n",
      "\n",
      "Малая Андроньевская улица находится в:\n",
      "- Таганский район\n",
      "\n",
      "Тимирязевский проезд находится в:\n",
      "- Тимирязевский Район\n",
      "\n",
      "Тихая улица находится в:\n",
      "- Район Люблино\n",
      "\n",
      "Тихвинский переулок находится в:\n",
      "- Тверской район\n",
      "\n",
      "Линейный проезд находится в:\n",
      "- Тимирязевский Район\n",
      "\n",
      "Утренняя улица находится в:\n",
      "- Район Новогиреево\n",
      "- Район Перово\n",
      "\n",
      "Кузьминская улица находится в:\n",
      "- Район Кузьминки\n",
      "- Район Выхино-Жулебино\n",
      "\n",
      "Кулаков переулок находится в:\n",
      "- Алексеевский район\n",
      "\n",
      "Успенский переулок находится в:\n",
      "- Тверской район\n",
      "\n",
      "Кунцевская улица находится в:\n",
      "- Район Кунцево\n",
      "\n",
      "Курганская улица находится в:\n",
      "- Район Гольяново\n",
      "\n",
      "Уржумская улица находится в:\n",
      "- Район Свиблово\n",
      "\n",
      "Кучин переулок находится в:\n",
      "- Алексеевский район\n",
      "\n",
      "Сумская улица находится в:\n",
      "- Район Чертаново Северное\n",
      "\n",
      "Тургеневская площадь находится в:\n",
      "- Красносельский район\n",
      "\n",
      "Троицкий бульвар находится в:\n",
      "\n",
      "Троицкая улица находится в:\n",
      "- Мещанский район\n",
      "\n",
      "Лениногорская улица находится в:\n",
      "- Район Косино-Ухтомский\n",
      "\n",
      "Троилинский переулок находится в:\n",
      "- Район Арбат\n",
      "\n",
      "Триумфальная площадь находится в:\n",
      "- Тверской район\n",
      "\n",
      "Тихий тупик находится в:\n",
      "- Таганский район\n",
      "\n",
      "Лефортовский переулок находится в:\n",
      "- Басманный район\n",
      "\n",
      "Лечебная улица находится в:\n",
      "- Район Соколиная Гора\n",
      "\n",
      "Ландышевая улица находится в:\n",
      "- Район Куркино\n",
      "\n",
      "Спартаковский переулок находится в:\n",
      "- Басманный район\n",
      "\n",
      "Малая Переяславская улица находится в:\n",
      "- Мещанский район\n",
      "\n",
      "Стройковская улица находится в:\n",
      "- Таганский район\n",
      "\n",
      "Малый Толмачёвский переулок находится в:\n",
      "- Район Якиманка\n",
      "\n",
      "Мамоновский переулок находится в:\n",
      "- Тверской район\n",
      "\n",
      "Мансуровский переулок находится в:\n",
      "- Район Хамовники\n",
      "\n",
      "Староалексеевская улица находится в:\n",
      "- Алексеевский район\n",
      "\n",
      "Мариупольская улица находится в:\n",
      "- Район Люблино\n",
      "\n",
      "Стандартная улица находится в:\n",
      "- Алтуфьевский район\n",
      "\n",
      "Сретенский тупик находится в:\n",
      "- Красносельский район\n",
      "\n",
      "Машкинское шоссе находится в:\n",
      "- Район Куркино\n",
      "\n",
      "Международная улица находится в:\n",
      "- Таганский район\n",
      "\n",
      "Средняя Калитниковская улица находится в:\n",
      "- Таганский район\n",
      "- Нижегородский район\n",
      "\n",
      "Средний Овчинниковский переулок находится в:\n",
      "- Район Замоскворечье\n",
      "\n",
      "Мерзляковский переулок находится в:\n",
      "- Пресненский район\n",
      "- Район Арбат\n",
      "\n",
      "Миллионная улица находится в:\n",
      "- Район Богородское\n",
      "\n",
      "Средний Кондратьевский переулок находится в:\n",
      "- Пресненский район\n",
      "\n",
      "Минаевский переулок находится в:\n",
      "- Район Марьина роща\n",
      "\n",
      "Спортивный проезд находится в:\n",
      "- Район Люблино\n",
      "\n",
      "Спортивная улица находится в:\n",
      "- Район Внуково\n",
      "- Район Царицыно\n",
      "\n",
      "Малый Татарский переулок находится в:\n",
      "- Район Замоскворечье\n",
      "\n",
      "Малый Саввинский переулок находится в:\n",
      "- Район Хамовники\n",
      "\n",
      "Малый Путинковский переулок находится в:\n",
      "- Тверской район\n",
      "\n",
      "Малый Полуярославский переулок находится в:\n",
      "- Таганский район\n",
      "\n",
      "Стрельбищенский переулок находится в:\n",
      "- Пресненский район\n",
      "\n",
      "Стрелецкая улица находится в:\n",
      "- Район Марьина роща\n",
      "\n",
      "Малая Тульская улица находится в:\n",
      "- Даниловский район\n",
      "- Донской район\n",
      "\n",
      "Столовый переулок находится в:\n",
      "- Пресненский район\n",
      "\n",
      "Старослободская улица находится в:\n",
      "- Район Сокольники\n",
      "\n",
      "Староникольская улица находится в:\n",
      "- Район Южное Бутово\n",
      "\n",
      "Старомонетный переулок находится в:\n",
      "- Район Якиманка\n",
      "\n",
      "Малый Власьевский переулок находится в:\n",
      "- Район Хамовники\n",
      "\n",
      "Стромынский переулок находится в:\n",
      "- Район Сокольники\n",
      "\n",
      "Старомарьинское шоссе находится в:\n",
      "- Район Марьина роща\n",
      "\n",
      "Малый Знаменский переулок находится в:\n",
      "- Район Хамовники\n",
      "\n",
      "Малый Ивановский переулок находится в:\n",
      "- Басманный район\n",
      "\n",
      "Малый Казённый переулок находится в:\n",
      "- Басманный район\n",
      "\n",
      "Малый Каретный переулок находится в:\n",
      "- Тверской район\n",
      "\n",
      "Малый Конюшковский переулок находится в:\n",
      "- Пресненский район\n",
      "\n",
      "Малый Коптевский проезд находится в:\n",
      "- Район Аэропорт\n",
      "\n",
      "Малый Лёвшинский переулок находится в:\n",
      "- Район Хамовники\n",
      "\n",
      "Малый Николопесковский переулок находится в:\n",
      "- Район Арбат\n",
      "\n",
      "Малый Златоустинский переулок находится в:\n",
      "- Басманный район\n",
      "\n",
      "Большой Казённый переулок находится в:\n",
      "- Басманный район\n",
      "\n",
      "Педагогическая улица находится в:\n",
      "- Район Бирюлево Восточное\n",
      "\n",
      "улица Жебрунова находится в:\n",
      "- Район Сокольники\n",
      "\n",
      "улица Раевского находится в:\n",
      "- Район Дорогомилово\n",
      "\n",
      "3-й Павловский переулок находится в:\n",
      "- Даниловский район\n",
      "\n",
      "3-й Стрелецкий проезд находится в:\n",
      "- Район Марьина роща\n",
      "\n",
      "3-й Угрешский проезд находится в:\n",
      "- Район Печатники\n",
      "\n",
      "3-й проезд Подбельского находится в:\n",
      "- Район Богородское\n",
      "\n",
      "3-я Железногорская улица находится в:\n",
      "- Район Южное Бутово\n",
      "\n",
      "3-я Новоостанкинская улица находится в:\n",
      "- Останкинский район\n",
      "\n",
      "улица Рассудовское Лесничество находится в:\n",
      "\n",
      "улица Пржевальского находится в:\n",
      "- Район Очаково-Матвеевское\n",
      "\n",
      "3-я Подрезковская улица находится в:\n",
      "\n",
      "3-я Северная линия находится в:\n",
      "- Район Северный\n",
      "\n",
      "улица Потаповская Роща находится в:\n",
      "\n",
      "3-я Черепковская улица находится в:\n",
      "- Район Кунцево\n",
      "\n",
      "улица Полины Осипенко находится в:\n",
      "- Хорошевский район\n",
      "\n",
      "39-й километр Калужского шоссе находится в:\n",
      "\n",
      "4-й Вешняковский проезд находится в:\n",
      "- Рязанский район\n",
      "\n",
      "3-я Песчаная улица находится в:\n",
      "- Хорошевский район\n",
      "- Район Сокол\n",
      "\n",
      "3-й Лихачёвский переулок находится в:\n",
      "- Головинский район\n",
      "\n",
      "улица Ращупкина находится в:\n",
      "- Можайский Район\n",
      "\n",
      "3-й Кожуховский проезд находится в:\n",
      "- Южнопортовый Район\n",
      "\n",
      "улица Ротерта находится в:\n",
      "- Ярославский Район\n",
      "\n",
      "улица Рословка находится в:\n",
      "- Район Митино\n",
      "\n",
      "2-я Квесисская улица находится в:\n",
      "- Савеловский район\n",
      "\n",
      "2-я Напрудная улица находится в:\n",
      "- Лосиноостровский район\n",
      "\n",
      "2-я Прядильная улица находится в:\n",
      "- Район Измайлово\n",
      "\n",
      "улица Рокотова находится в:\n",
      "- Район Ясенево\n",
      "\n",
      "2-я Сокольническая улица находится в:\n",
      "- Район Сокольники\n",
      "\n",
      "улица Рогожский Посёлок находится в:\n",
      "- Нижегородский район\n",
      "\n",
      "2-я Филёвская улица находится в:\n",
      "- Район Филевский Парк\n",
      "\n",
      "улица Рогова находится в:\n",
      "- Район Щукино\n",
      "\n",
      "улица Ремизова находится в:\n",
      "- Район Котловка\n",
      "\n",
      "2-я Ямская улица находится в:\n",
      "- Район Марьина роща\n",
      "\n",
      "2-я улица Бухвостова находится в:\n",
      "- Район Преображенское\n",
      "\n",
      "2-я улица Марьиной Рощи находится в:\n",
      "- Район Марьина роща\n",
      "\n",
      "2-я улица Энтузиастов находится в:\n",
      "- Район Перово\n",
      "\n",
      "3-й Дорожный проезд находится в:\n",
      "- Район Чертаново Южное\n",
      "\n",
      "3-й Кадашёвский переулок находится в:\n",
      "- Район Якиманка\n",
      "\n",
      "Большой Знаменский переулок находится в:\n",
      "- Район Арбат\n",
      "- Район Хамовники\n",
      "\n",
      "4-й Кожевнический переулок находится в:\n",
      "- Даниловский район\n",
      "\n",
      "улица Подвойского находится в:\n",
      "- Пресненский район\n",
      "\n",
      "4-й Рощинский проезд находится в:\n",
      "- Даниловский район\n",
      "\n",
      "улица Немчинова находится в:\n",
      "- Тимирязевский Район\n",
      "\n",
      "улица Недорубова находится в:\n",
      "\n",
      "Авиационный переулок находится в:\n",
      "- Район Аэропорт\n",
      "\n",
      "Автомобильный проезд находится в:\n",
      "- Нижегородский район\n",
      "\n",
      "улица Можайский Вал находится в:\n",
      "- Район Дорогомилово\n",
      "\n",
      "улица Медиков находится в:\n",
      "- Район Царицыно\n",
      "\n",
      "улица Медведева находится в:\n",
      "- Район Косино-Ухтомский\n",
      "\n",
      "Алымов переулок находится в:\n",
      "- Район Богородское\n",
      "\n",
      "Андреево-Забелинская улица находится в:\n",
      "- Район Богородское\n",
      "\n",
      "Андроньевская площадь находится в:\n",
      "- Таганский район\n",
      "\n",
      "Анненская улица находится в:\n",
      "- Район Марьина роща\n",
      "\n",
      "Анненский проезд находится в:\n",
      "- Район Марьина роща\n",
      "\n",
      "Армавирская улица находится в:\n",
      "- Район Люблино\n",
      "\n",
      "Армейская улица находится в:\n",
      "\n",
      "Архангельский переулок находится в:\n",
      "- Басманный район\n",
      "\n",
      "Астрадамский проезд находится в:\n",
      "- Тимирязевский Район\n",
      "\n",
      "Ащеулов переулок находится в:\n",
      "- Красносельский район\n",
      "\n",
      "улица Никитина находится в:\n",
      "\n",
      "2-я Дубровская улица находится в:\n",
      "- Таганский район\n",
      "\n",
      "улица Николаева находится в:\n",
      "- Пресненский район\n",
      "\n",
      "8-й проезд Марьиной Рощи находится в:\n",
      "- Район Марьина роща\n",
      "\n",
      "4-я Гражданская улица находится в:\n",
      "- Район Богородское\n",
      "\n",
      "4-я Кабельная улица находится в:\n",
      "- Район Лефортово\n",
      "\n",
      "улица Пивченкова находится в:\n",
      "- Район Фили-Давыдково\n",
      "\n",
      "5-й Котельнический переулок находится в:\n",
      "- Таганский район\n",
      "\n",
      "5-й Монетчиковский переулок находится в:\n",
      "- Район Замоскворечье\n",
      "\n",
      "5-й Рощинский проезд находится в:\n",
      "- Даниловский район\n",
      "\n",
      "5-й проезд Марьиной Рощи находится в:\n",
      "- Район Марьина роща\n",
      "\n",
      "5-й проезд Подбельского находится в:\n",
      "- Район Богородское\n",
      "\n",
      "улица Паперника находится в:\n",
      "- Рязанский район\n",
      "\n",
      "улица Павла Андреева находится в:\n",
      "- Район Замоскворечье\n",
      "- Даниловский район\n",
      "\n",
      "6-я Кожуховская улица находится в:\n",
      "- Южнопортовый Район\n",
      "\n",
      "6-я улица Лазенки находится в:\n",
      "- Район Ново-Переделкино\n",
      "\n",
      "6-я улица Новые Сады находится в:\n",
      "- Район Ново-Переделкино\n",
      "\n",
      "7-й Ростовский переулок находится в:\n",
      "- Район Хамовники\n",
      "\n",
      "улица Новая Дорога находится в:\n",
      "- Басманный район\n",
      "\n",
      "7-я Северная линия находится в:\n",
      "- Район Северный\n",
      "\n",
      "7-я улица Лазенки находится в:\n",
      "- Район Ново-Переделкино\n",
      "\n",
      "8-я улица Соколиной Горы находится в:\n",
      "- Район Измайлово\n",
      "- Район Соколиная Гора\n",
      "\n",
      "2-я Гражданская улица находится в:\n"
     ]
    },
    {
     "name": "stdout",
     "output_type": "stream",
     "text": [
      "- Район Богородское\n",
      "\n",
      "улица Рудневой находится в:\n",
      "- Бабушкинский район\n",
      "\n",
      "улица Савельева находится в:\n",
      "- Район Хамовники\n",
      "\n",
      "улица Школа-интернат находится в:\n",
      "\n",
      "1-й Николощеповский переулок находится в:\n",
      "- Район Арбат\n",
      "\n",
      "1-й Новокузнецкий переулок находится в:\n",
      "- Район Замоскворечье\n",
      "\n",
      "1-й Обыденский переулок находится в:\n",
      "- Район Хамовники\n",
      "\n",
      "1-й Рижский переулок находится в:\n",
      "- Алексеевский район\n",
      "\n",
      "1-й Саратовский проезд находится в:\n",
      "- Район Текстильщики\n",
      "\n",
      "1-й Сельскохозяйственный проезд находится в:\n",
      "- Район Ростокино\n",
      "\n",
      "1-й Сетуньский проезд находится в:\n",
      "- Район Раменки\n",
      "\n",
      "1-й Силикатный проезд находится в:\n",
      "- Район Хорошево-Мневники\n",
      "\n",
      "1-й Спасоналивковский переулок находится в:\n",
      "- Район Якиманка\n",
      "\n",
      "улица Шеногина находится в:\n",
      "- Район Хорошево-Мневники\n",
      "\n",
      "1-й Тушинский проезд находится в:\n",
      "- Район Покровское-Стрешнево\n",
      "\n",
      "1-й проезд Марьиной Рощи находится в:\n",
      "- Район Марьина роща\n",
      "\n",
      "1-я Аэропортовская улица находится в:\n",
      "- Район Аэропорт\n",
      "\n",
      "1-я Боевская улица находится в:\n",
      "- Район Сокольники\n",
      "\n",
      "1-я Ватутинская улица находится в:\n",
      "\n",
      "улица Фонвизина находится в:\n",
      "- Бутырский район\n",
      "\n",
      "1-й Монетчиковский переулок находится в:\n",
      "- Район Замоскворечье\n",
      "\n",
      "улица Фадеева находится в:\n",
      "- Тверской район\n",
      "\n",
      "1-й Магистральный тупик находится в:\n",
      "- Хорошевский район\n",
      "\n",
      "1-й Курьяновский проезд находится в:\n",
      "- Район Печатники\n",
      "\n",
      "1-й Балтийский переулок находится в:\n",
      "- Район Аэропорт\n",
      "\n",
      "1-й Басманный переулок находится в:\n",
      "- Басманный район\n",
      "- Красносельский район\n",
      "\n",
      "1-й Ботанический проезд находится в:\n",
      "- Район Свиблово\n",
      "\n",
      "1-й Вешняковский проезд находится в:\n",
      "- Рязанский район\n",
      "\n",
      "улица Энгельса находится в:\n",
      "\n",
      "1-й Голутвинский переулок находится в:\n",
      "- Район Якиманка\n",
      "\n",
      "улица Щорса находится в:\n",
      "- Район Солнцево\n",
      "\n",
      "улица Шумкина находится в:\n",
      "- Район Сокольники\n",
      "\n",
      "1-й Заречный переулок находится в:\n",
      "\n",
      "1-й Зачатьевский переулок находится в:\n",
      "- Район Хамовники\n",
      "\n",
      "1-й Кирпичный переулок находится в:\n",
      "- Район Соколиная Гора\n",
      "\n",
      "1-й Кожевнический переулок находится в:\n",
      "- Даниловский район\n",
      "\n",
      "1-й Кожуховский проезд находится в:\n",
      "- Даниловский район\n",
      "\n",
      "1-й Коптельский переулок находится в:\n",
      "- Красносельский район\n",
      "- Мещанский район\n",
      "\n",
      "1-й Котельнический переулок находится в:\n",
      "- Таганский район\n",
      "\n",
      "улица Шумилова находится в:\n",
      "- Район Кузьминки\n",
      "\n",
      "1-й Краснокурсантский проезд находится в:\n",
      "- Район Лефортово\n",
      "\n",
      "1-й Люсиновский переулок находится в:\n",
      "- Район Замоскворечье\n",
      "\n",
      "Аэрофлотская улица находится в:\n",
      "- Район Внуково\n",
      "\n",
      "1-я Гражданская улица находится в:\n",
      "- Район Богородское\n",
      "\n",
      "1-я Карачаровская улица находится в:\n",
      "- Нижегородский район\n",
      "\n",
      "2-й Красносельский переулок находится в:\n",
      "- Красносельский район\n",
      "\n",
      "2-й Курьяновский проезд находится в:\n",
      "- Район Печатники\n",
      "\n",
      "2-й Магистральный тупик находится в:\n",
      "- Хорошевский район\n",
      "\n",
      "2-й Неопалимовский переулок находится в:\n",
      "- Район Хамовники\n",
      "\n",
      "2-й Новокузнецкий переулок находится в:\n",
      "- Район Замоскворечье\n",
      "\n",
      "2-й Новоподмосковный переулок находится в:\n",
      "- Войковский Район\n",
      "\n",
      "2-й Обыденский переулок находится в:\n",
      "- Район Хамовники\n",
      "\n",
      "2-й Полевой переулок находится в:\n",
      "- Район Сокольники\n",
      "\n",
      "2-й Рощинский проезд находится в:\n",
      "- Донской район\n",
      "\n",
      "2-й Сельскохозяйственный проезд находится в:\n",
      "- Район Ростокино\n",
      "\n",
      "2-й Сетуньский проезд находится в:\n",
      "- Район Раменки\n",
      "\n",
      "2-й Стрелецкий проезд находится в:\n",
      "- Район Марьина роща\n",
      "\n",
      "улица Саляма Адиля находится в:\n",
      "- Район Хорошево-Мневники\n",
      "\n",
      "2-й Хуторской переулок находится в:\n",
      "- Савеловский район\n",
      "\n",
      "2-й Щемиловский переулок находится в:\n",
      "- Тверской район\n",
      "\n",
      "улица Сайкина находится в:\n",
      "- Даниловский район\n",
      "- Южнопортовый Район\n",
      "\n",
      "2-я Барышевская улица находится в:\n",
      "\n",
      "2-й Колобовский переулок находится в:\n",
      "- Тверской район\n",
      "\n",
      "улица Уткина находится в:\n",
      "- Район Перово\n",
      "- Район Соколиная Гора\n",
      "\n",
      "2-й Кадашёвский переулок находится в:\n",
      "- Район Якиманка\n",
      "\n",
      "2-й Иртышский проезд находится в:\n",
      "- Район Гольяново\n",
      "\n",
      "1-я Миусская улица находится в:\n",
      "- Тверской район\n",
      "\n",
      "1-я Напрудная улица находится в:\n",
      "- Лосиноостровский район\n",
      "\n",
      "1-я Пугачёвская улица находится в:\n",
      "- Район Преображенское\n",
      "\n",
      "улица Степана Шутова находится в:\n",
      "- Район Люблино\n",
      "- Район Выхино-Жулебино\n",
      "\n",
      "1-я Чоботовская аллея находится в:\n",
      "- Район Ново-Переделкино\n",
      "\n",
      "1-я линия Хорошёвского Серебряного Бора находится в:\n",
      "- Район Хорошево-Мневники\n",
      "\n",
      "улица Старые Кузьминки находится в:\n",
      "\n",
      "11-я Парковая улица находится в:\n",
      "- Район Измайлово\n",
      "- Район Северное Измайлово\n",
      "- Район Восточное Измайлово\n",
      "\n",
      "12-й проезд Марьиной Рощи находится в:\n",
      "- Район Марьина роща\n",
      "\n",
      "улица Советской Армии находится в:\n",
      "- Район Марьина роща\n",
      "- Мещанский район\n",
      "\n",
      "14-я Парковая улица находится в:\n",
      "- Район Восточное Измайлово\n",
      "\n",
      "улица Слобода находится в:\n",
      "\n",
      "17-й проезд Марьиной Рощи находится в:\n",
      "- Район Марьина роща\n",
      "\n",
      "2-й Балтийский переулок находится в:\n",
      "- Район Аэропорт\n",
      "\n",
      "2-й Боткинский проезд находится в:\n",
      "- Район Беговой\n",
      "\n",
      "2-й Верхний Михайловский проезд находится в:\n",
      "- Донской район\n",
      "\n",
      "2-й Вышеславцев переулок находится в:\n",
      "- Район Марьина роща\n",
      "\n",
      "2-й Кабельный проезд находится в:\n",
      "- Район Лефортово\n",
      "\n",
      "Бабаевская улица находится в:\n",
      "- Район Сокольники\n",
      "\n",
      "4-й Вятский переулок находится в:\n",
      "- Савеловский район\n",
      "\n",
      "Бескудниковский проезд находится в:\n",
      "- Бескудниковский Район\n",
      "\n",
      "улица Захарьинские Дворики находится в:\n",
      "- Район Южное Бутово\n",
      "\n",
      "улица Лефортовский Вал находится в:\n",
      "- Район Лефортово\n",
      "\n",
      "Большая Ширяевская улица находится в:\n",
      "- Район Сокольники\n",
      "\n",
      "улица Линии Октябрьской Железной Дороги находится в:\n",
      "- Тимирязевский Район\n",
      "\n",
      "Берниковская набережная находится в:\n",
      "- Таганский район\n",
      "\n",
      "улица Льва Яшина находится в:\n",
      "\n",
      "улица Максимова находится в:\n",
      "- Район Щукино\n",
      "\n",
      "улица Малая Ордынка находится в:\n",
      "- Район Замоскворечье\n",
      "\n",
      "Большая Юшуньская улица находится в:\n",
      "- Район Зюзино\n",
      "\n",
      "улица Малые Каменщики находится в:\n",
      "- Таганский район\n",
      "\n",
      "Басовская улица находится в:\n",
      "- Нижегородский район\n",
      "\n",
      "Барабанный переулок находится в:\n",
      "- Район Соколиная Гора\n",
      "\n",
      "Банный проезд находится в:\n",
      "- Мещанский район\n",
      "\n",
      "Балтийская улица находится в:\n",
      "- Район Аэропорт\n",
      "- Район Сокол\n",
      "\n",
      "улица Маршала Мерецкова находится в:\n",
      "- Район Щукино\n",
      "\n",
      "улица Лапина находится в:\n",
      "- Район Лефортово\n",
      "\n",
      "Бескудниковский переулок находится в:\n",
      "- Бескудниковский Район\n",
      "\n",
      "Библиотечная улица находится в:\n",
      "- Таганский район\n",
      "\n",
      "улица Кухмистерова находится в:\n",
      "- Район Печатники\n",
      "\n",
      "улица Клочкова находится в:\n",
      "- Район Фили-Давыдково\n",
      "\n",
      "Большая Октябрьская улица находится в:\n",
      "\n",
      "улица Инессы Арманд находится в:\n",
      "- Район Ясенево\n",
      "\n",
      "улица Константинова находится в:\n",
      "- Алексеевский район\n",
      "\n",
      "улица Корнея Чуковского находится в:\n",
      "\n",
      "Большая Внуковская улица находится в:\n",
      "- Район Внуково\n",
      "\n",
      "улица Знаменские Садки находится в:\n",
      "- Район Северное Бутово\n",
      "\n",
      "Большой Афанасьевский переулок находится в:\n",
      "- Район Арбат\n",
      "- Район Хамовники\n",
      "\n",
      "Большая Бутовская улица находится в:\n",
      "- Район Южное Бутово\n",
      "\n",
      "Больничный переулок находится в:\n",
      "- Мещанский район\n",
      "\n",
      "улица Зенитчиков находится в:\n",
      "- Район Митино\n",
      "\n",
      "улица Красных Зорь находится в:\n",
      "- Можайский Район\n",
      "\n",
      "Богоявленский переулок находится в:\n",
      "- Тверской район\n",
      "\n",
      "улица Крутицкий Вал находится в:\n",
      "- Южнопортовый Район\n",
      "\n",
      "улица Кубинка находится в:\n",
      "- Можайский Район\n",
      "\n",
      "улица Кутузова находится в:\n",
      "- Можайский Район\n",
      "\n",
      "улица Кошкина находится в:\n",
      "- Район Москворечье-Сабурово\n",
      "\n",
      "улица Маршала Новикова находится в:\n",
      "- Район Щукино\n",
      "\n",
      "улица Капотня находится в:\n",
      "\n",
      "улица Жуковского находится в:\n",
      "- Басманный район\n",
      "\n",
      "Базовая улица находится в:\n",
      "- Район Внуково\n",
      "\n"
     ]
    }
   ],
   "source": [
    "onerest_street_merged = onerest_street.merge(district[['streetname', 'area']], left_on='street', right_on='streetname')\n",
    "streets = pd.DataFrame(data=onerest_street_merged['street'].unique(), columns=['street'])\n",
    "\n",
    "def areas(row, data):\n",
    "    result = data[data['street']==row['street']]['area'].to_list()\n",
    "    return result\n",
    "onerest_street['areas'] = onerest_street.apply(areas, args=[onerest_street_merged], axis=1)\n",
    "print('\\n')\n",
    "for street, areas in zip(onerest_street['street'], onerest_street['areas']):\n",
    "    print('{} находится в:'.format(street))   \n",
    "    for area in areas:\n",
    "        numeric=1\n",
    "        print('-', area)\n",
    "    print('')    "
   ]
  },
  {
   "cell_type": "code",
   "execution_count": 33,
   "metadata": {},
   "outputs": [
    {
     "data": {
      "text/html": [
       "<div>\n",
       "<style scoped>\n",
       "    .dataframe tbody tr th:only-of-type {\n",
       "        vertical-align: middle;\n",
       "    }\n",
       "\n",
       "    .dataframe tbody tr th {\n",
       "        vertical-align: top;\n",
       "    }\n",
       "\n",
       "    .dataframe thead th {\n",
       "        text-align: right;\n",
       "    }\n",
       "</style>\n",
       "<table border=\"1\" class=\"dataframe\">\n",
       "  <thead>\n",
       "    <tr style=\"text-align: right;\">\n",
       "      <th></th>\n",
       "      <th>Объектов</th>\n",
       "      <th>Районов</th>\n",
       "    </tr>\n",
       "    <tr>\n",
       "      <th></th>\n",
       "      <th></th>\n",
       "      <th></th>\n",
       "    </tr>\n",
       "  </thead>\n",
       "  <tbody>\n",
       "    <tr>\n",
       "      <td>1-й Балтийский переулок</td>\n",
       "      <td>1</td>\n",
       "      <td>1</td>\n",
       "    </tr>\n",
       "    <tr>\n",
       "      <td>1-й Басманный переулок</td>\n",
       "      <td>1</td>\n",
       "      <td>2</td>\n",
       "    </tr>\n",
       "    <tr>\n",
       "      <td>1-й Ботанический проезд</td>\n",
       "      <td>1</td>\n",
       "      <td>1</td>\n",
       "    </tr>\n",
       "    <tr>\n",
       "      <td>1-й Вешняковский проезд</td>\n",
       "      <td>1</td>\n",
       "      <td>1</td>\n",
       "    </tr>\n",
       "    <tr>\n",
       "      <td>1-й Голутвинский переулок</td>\n",
       "      <td>1</td>\n",
       "      <td>1</td>\n",
       "    </tr>\n",
       "    <tr>\n",
       "      <td>...</td>\n",
       "      <td>...</td>\n",
       "      <td>...</td>\n",
       "    </tr>\n",
       "    <tr>\n",
       "      <td>улица Шумилова</td>\n",
       "      <td>1</td>\n",
       "      <td>1</td>\n",
       "    </tr>\n",
       "    <tr>\n",
       "      <td>улица Шумкина</td>\n",
       "      <td>1</td>\n",
       "      <td>1</td>\n",
       "    </tr>\n",
       "    <tr>\n",
       "      <td>улица Щорса</td>\n",
       "      <td>1</td>\n",
       "      <td>1</td>\n",
       "    </tr>\n",
       "    <tr>\n",
       "      <td>шоссе Фрезер</td>\n",
       "      <td>1</td>\n",
       "      <td>1</td>\n",
       "    </tr>\n",
       "    <tr>\n",
       "      <td></td>\n",
       "      <td></td>\n",
       "      <td></td>\n",
       "    </tr>\n",
       "  </tbody>\n",
       "</table>\n",
       "<p>518 rows × 2 columns</p>\n",
       "</div>"
      ],
      "text/plain": [
       "                          Объектов Районов\n",
       "                                          \n",
       "1-й Балтийский переулок          1       1\n",
       "1-й Басманный переулок           1       2\n",
       "1-й Ботанический проезд          1       1\n",
       "1-й Вешняковский проезд          1       1\n",
       "1-й Голутвинский переулок        1       1\n",
       "...                            ...     ...\n",
       "улица Шумилова                   1       1\n",
       "улица Шумкина                    1       1\n",
       "улица Щорса                      1       1\n",
       "шоссе Фрезер                     1       1\n",
       "                                          \n",
       "\n",
       "[518 rows x 2 columns]"
      ]
     },
     "execution_count": 33,
     "metadata": {},
     "output_type": "execute_result"
    }
   ],
   "source": [
    "areas_top10_streets_pivotr = onerest_street_merged.groupby('street', as_index=False).agg({'object_name':'mean', 'area':'nunique'})\n",
    "areas_top10_streets_pivotr.columns = ['', 'Объектов','Районов']\n",
    "areas_top10_streets_pivotr = areas_top10_streets_pivotr.set_index('')\n",
    "areas_top10_streets_pivotr.loc[''] = ''\n",
    "\n",
    "areas_top10_streets_pivotr"
   ]
  },
  {
   "cell_type": "markdown",
   "metadata": {},
   "source": [
    "Findings: only 552 streets with one catering facility. Most of the streets are not in the center, there is relatively little traffic there.\n",
    "    "
   ]
  },
  {
   "cell_type": "code",
   "execution_count": 34,
   "metadata": {},
   "outputs": [
    {
     "data": {
      "text/plain": [
       "['проспект Мира',\n",
       " 'Профсоюзная улица',\n",
       " 'Ленинградский проспект',\n",
       " 'Пресненская набережная',\n",
       " 'Варшавское шоссе',\n",
       " 'Ленинский проспект',\n",
       " 'проспект Вернадского',\n",
       " 'Кутузовский проспект',\n",
       " 'Каширское шоссе',\n",
       " 'Кировоградская улица']"
      ]
     },
     "execution_count": 34,
     "metadata": {},
     "output_type": "execute_result"
    }
   ],
   "source": [
    "#9.Look at the distribution of the number of seats for streets with\n",
    "#large number of catering facilities. What patterns can be identified?\n",
    "top_10 = list(top10_streets['street'])\n",
    "top_10"
   ]
  },
  {
   "cell_type": "code",
   "execution_count": 35,
   "metadata": {},
   "outputs": [
    {
     "data": {
      "text/html": [
       "<div>\n",
       "<style scoped>\n",
       "    .dataframe tbody tr th:only-of-type {\n",
       "        vertical-align: middle;\n",
       "    }\n",
       "\n",
       "    .dataframe tbody tr th {\n",
       "        vertical-align: top;\n",
       "    }\n",
       "\n",
       "    .dataframe thead th {\n",
       "        text-align: right;\n",
       "    }\n",
       "</style>\n",
       "<table border=\"1\" class=\"dataframe\">\n",
       "  <thead>\n",
       "    <tr style=\"text-align: right;\">\n",
       "      <th></th>\n",
       "      <th>id</th>\n",
       "      <th>object_name</th>\n",
       "      <th>chain</th>\n",
       "      <th>object_type</th>\n",
       "      <th>address</th>\n",
       "      <th>number</th>\n",
       "      <th>street</th>\n",
       "    </tr>\n",
       "  </thead>\n",
       "  <tbody>\n",
       "    <tr>\n",
       "      <td>151</td>\n",
       "      <td>155973</td>\n",
       "      <td>кафе «андерсон»</td>\n",
       "      <td>да</td>\n",
       "      <td>кафе</td>\n",
       "      <td>город Москва, Варшавское шоссе, дом 2</td>\n",
       "      <td>150</td>\n",
       "      <td>Варшавское шоссе</td>\n",
       "    </tr>\n",
       "    <tr>\n",
       "      <td>152</td>\n",
       "      <td>23618</td>\n",
       "      <td>кафе «subway»</td>\n",
       "      <td>да</td>\n",
       "      <td>кафе</td>\n",
       "      <td>город Москва, Варшавское шоссе, дом 7, корпус 1</td>\n",
       "      <td>36</td>\n",
       "      <td>Варшавское шоссе</td>\n",
       "    </tr>\n",
       "    <tr>\n",
       "      <td>153</td>\n",
       "      <td>155852</td>\n",
       "      <td>кафе «ламаджо»</td>\n",
       "      <td>нет</td>\n",
       "      <td>кафе</td>\n",
       "      <td>город Москва, Варшавское шоссе, дом 29</td>\n",
       "      <td>30</td>\n",
       "      <td>Варшавское шоссе</td>\n",
       "    </tr>\n",
       "    <tr>\n",
       "      <td>154</td>\n",
       "      <td>152556</td>\n",
       "      <td>шаурма в пите</td>\n",
       "      <td>нет</td>\n",
       "      <td>предприятие быстрого обслуживания</td>\n",
       "      <td>город Москва, Варшавское шоссе, дом 72, корпус 2</td>\n",
       "      <td>0</td>\n",
       "      <td>Варшавское шоссе</td>\n",
       "    </tr>\n",
       "    <tr>\n",
       "      <td>155</td>\n",
       "      <td>120658</td>\n",
       "      <td>выпечка</td>\n",
       "      <td>нет</td>\n",
       "      <td>кафетерий</td>\n",
       "      <td>город Москва, Варшавское шоссе, дом 100</td>\n",
       "      <td>2</td>\n",
       "      <td>Варшавское шоссе</td>\n",
       "    </tr>\n",
       "    <tr>\n",
       "      <td>...</td>\n",
       "      <td>...</td>\n",
       "      <td>...</td>\n",
       "      <td>...</td>\n",
       "      <td>...</td>\n",
       "      <td>...</td>\n",
       "      <td>...</td>\n",
       "      <td>...</td>\n",
       "    </tr>\n",
       "    <tr>\n",
       "      <td>15226</td>\n",
       "      <td>213629</td>\n",
       "      <td>додо пицца</td>\n",
       "      <td>да</td>\n",
       "      <td>кафе</td>\n",
       "      <td>город Москва, Пресненская набережная, дом 12</td>\n",
       "      <td>25</td>\n",
       "      <td>Пресненская набережная</td>\n",
       "    </tr>\n",
       "    <tr>\n",
       "      <td>15243</td>\n",
       "      <td>198436</td>\n",
       "      <td>милти</td>\n",
       "      <td>да</td>\n",
       "      <td>предприятие быстрого обслуживания</td>\n",
       "      <td>город Москва, Ленинградский проспект, дом 80, ...</td>\n",
       "      <td>0</td>\n",
       "      <td>Ленинградский проспект</td>\n",
       "    </tr>\n",
       "    <tr>\n",
       "      <td>15265</td>\n",
       "      <td>222491</td>\n",
       "      <td>кальянная «мята lounge»</td>\n",
       "      <td>да</td>\n",
       "      <td>кафе</td>\n",
       "      <td>город Москва, Профсоюзная улица, дом 142, корп...</td>\n",
       "      <td>40</td>\n",
       "      <td>Профсоюзная улица</td>\n",
       "    </tr>\n",
       "    <tr>\n",
       "      <td>15268</td>\n",
       "      <td>213061</td>\n",
       "      <td>мята</td>\n",
       "      <td>да</td>\n",
       "      <td>кафетерий</td>\n",
       "      <td>город Москва, Каширское шоссе, дом 96, корпус 1</td>\n",
       "      <td>35</td>\n",
       "      <td>Каширское шоссе</td>\n",
       "    </tr>\n",
       "    <tr>\n",
       "      <td>15276</td>\n",
       "      <td>213724</td>\n",
       "      <td>шоколадница</td>\n",
       "      <td>да</td>\n",
       "      <td>кафе</td>\n",
       "      <td>город Москва, Варшавское шоссе, дом 87Б</td>\n",
       "      <td>54</td>\n",
       "      <td>Варшавское шоссе</td>\n",
       "    </tr>\n",
       "  </tbody>\n",
       "</table>\n",
       "<p>1494 rows × 7 columns</p>\n",
       "</div>"
      ],
      "text/plain": [
       "           id              object_name chain  \\\n",
       "151    155973          кафе «андерсон»    да   \n",
       "152     23618            кафе «subway»    да   \n",
       "153    155852           кафе «ламаджо»   нет   \n",
       "154    152556            шаурма в пите   нет   \n",
       "155    120658                  выпечка   нет   \n",
       "...       ...                      ...   ...   \n",
       "15226  213629               додо пицца    да   \n",
       "15243  198436                    милти    да   \n",
       "15265  222491  кальянная «мята lounge»    да   \n",
       "15268  213061                     мята    да   \n",
       "15276  213724              шоколадница    да   \n",
       "\n",
       "                             object_type  \\\n",
       "151                                 кафе   \n",
       "152                                 кафе   \n",
       "153                                 кафе   \n",
       "154    предприятие быстрого обслуживания   \n",
       "155                            кафетерий   \n",
       "...                                  ...   \n",
       "15226                               кафе   \n",
       "15243  предприятие быстрого обслуживания   \n",
       "15265                               кафе   \n",
       "15268                          кафетерий   \n",
       "15276                               кафе   \n",
       "\n",
       "                                                 address  number  \\\n",
       "151                город Москва, Варшавское шоссе, дом 2     150   \n",
       "152      город Москва, Варшавское шоссе, дом 7, корпус 1      36   \n",
       "153               город Москва, Варшавское шоссе, дом 29      30   \n",
       "154     город Москва, Варшавское шоссе, дом 72, корпус 2       0   \n",
       "155              город Москва, Варшавское шоссе, дом 100       2   \n",
       "...                                                  ...     ...   \n",
       "15226       город Москва, Пресненская набережная, дом 12      25   \n",
       "15243  город Москва, Ленинградский проспект, дом 80, ...       0   \n",
       "15265  город Москва, Профсоюзная улица, дом 142, корп...      40   \n",
       "15268    город Москва, Каширское шоссе, дом 96, корпус 1      35   \n",
       "15276            город Москва, Варшавское шоссе, дом 87Б      54   \n",
       "\n",
       "                       street  \n",
       "151          Варшавское шоссе  \n",
       "152          Варшавское шоссе  \n",
       "153          Варшавское шоссе  \n",
       "154          Варшавское шоссе  \n",
       "155          Варшавское шоссе  \n",
       "...                       ...  \n",
       "15226  Пресненская набережная  \n",
       "15243  Ленинградский проспект  \n",
       "15265       Профсоюзная улица  \n",
       "15268         Каширское шоссе  \n",
       "15276        Варшавское шоссе  \n",
       "\n",
       "[1494 rows x 7 columns]"
      ]
     },
     "execution_count": 35,
     "metadata": {},
     "output_type": "execute_result"
    }
   ],
   "source": [
    "top10_street = data[data['street'].isin(top_10)]\n",
    "top10_street"
   ]
  },
  {
   "cell_type": "code",
   "execution_count": 36,
   "metadata": {},
   "outputs": [
    {
     "data": {
      "image/png": "[encoded data removed]",
      "text/plain": [
       "<Figure size 432x288 with 1 Axes>"
      ]
     },
     "metadata": {
      "needs_background": "light"
     },
     "output_type": "display_data"
    }
   ],
   "source": [
    "ax = sns.boxplot(x=top10_street['number'])\n",
    "ax.set_xlim(-10,200)\n",
    "plt.show()"
   ]
  },
  {
   "cell_type": "code",
   "execution_count": 37,
   "metadata": {},
   "outputs": [
    {
     "data": {
      "image/png": "[encoded data removed]",
      "text/plain": [
       "<Figure size 432x288 with 1 Axes>"
      ]
     },
     "metadata": {
      "needs_background": "light"
     },
     "output_type": "display_data"
    }
   ],
   "source": [
    "ax = sns.boxplot(x='street',y='number',data=top10_street)\n",
    "plt.xticks(rotation=45)\n",
    "ax.set_ylim(-10,300)\n",
    "plt.show()"
   ]
  },
  {
   "cell_type": "code",
   "execution_count": 38,
   "metadata": {},
   "outputs": [
    {
     "name": "stdout",
     "output_type": "stream",
     "text": [
      "45.84431137724551\n",
      "30.0\n"
     ]
    }
   ],
   "source": [
    "df3 = data.copy()\n",
    "df3 = data[data['street']=='Пресненская набережная']\n",
    "print(df3['number'].mean())\n",
    "print(df3['number'].median())"
   ]
  },
  {
   "cell_type": "code",
   "execution_count": 39,
   "metadata": {},
   "outputs": [
    {
     "name": "stdout",
     "output_type": "stream",
     "text": [
      "18.95098039215686\n",
      "10.0\n"
     ]
    }
   ],
   "source": [
    "df4 = data.copy()\n",
    "df4 = data[data['street']=='Ходынский бульвар']\n",
    "print(df4['number'].mean())\n",
    "print(df4['number'].median())"
   ]
  },
  {
   "cell_type": "code",
   "execution_count": 40,
   "metadata": {},
   "outputs": [
    {
     "name": "stdout",
     "output_type": "stream",
     "text": [
      "54.18478260869565\n",
      "36.0\n"
     ]
    }
   ],
   "source": [
    "df5 = data.copy()\n",
    "df5 = data[data['street']=='улица Новый Арбат']\n",
    "print(df5['number'].mean())\n",
    "print(df5['number'].median())"
   ]
  },
  {
   "cell_type": "markdown",
   "metadata": {},
   "source": [
    "We see that the trade union has a fairly large confidence interval, which means there are restaurants with a lot of seats.\n",
    "The same can be said about Mira Avenue."
   ]
  },
  {
   "cell_type": "markdown",
   "metadata": {},
   "source": [
    "# Conclusion:\n",
    "  1. Most people like simple and inexpensive establishments (canteens, cafes, fast foods). They develop and grow very quickly.\n",
    "  2. There are much more non-chain establishments than chain establishments.\n",
    "  3. Most online places don't have that many seats. Average up to 50\n",
    "  4. Most of the seats are provided by the dining room - as many as 130 seats. Next comes the restaurant.\n",
    "  5. Most public catering facilities are located in the South-Eastern Administrative District of Moscow. Apparently there is a demand."
   ]
  },
  {
   "cell_type": "markdown",
   "metadata": {},
   "source": [
    "# Recommendations:\n",
    " 1. If you open a restaurant, then you need to open it with a high density of people. Best Presnenskaya Embankment, Khodynsky Boulevard, Novy Arbat\n",
    " 2. The study showed that on the most passable streets, about an average of about 33 seats, so I would advise you to do something like this, but also enable the TAKE AWAY function.\n",
    " 3. The study showed that most people prefer inexpensive and fast food establishments, so I advise you to open some kind of diner or burger place."
   ]
  },
  {
   "cell_type": "markdown",
   "metadata": {},
   "source": [
    "# Presentation\n",
    " https://1drv.ms/p/s!Av1D_sdJ6zeIhCPuuqXKaTVyQedq?e=jtqVe9"
   ]
  },
  {
   "cell_type": "code",
   "execution_count": null,
   "metadata": {},
   "outputs": [],
   "source": []
  }
 ],
 "metadata": {
  "ExecuteTimeLog": [
   {
    "duration": 624,
    "start_time": "2022-01-29T13:58:30.595Z"
   },
   {
    "duration": 16,
    "start_time": "2022-01-29T13:58:36.446Z"
   },
   {
    "duration": 44,
    "start_time": "2022-01-29T13:59:24.710Z"
   },
   {
    "duration": 11,
    "start_time": "2022-01-29T13:59:25.091Z"
   },
   {
    "duration": 8,
    "start_time": "2022-01-29T13:59:40.254Z"
   },
   {
    "duration": 273,
    "start_time": "2022-01-29T14:04:54.308Z"
   },
   {
    "duration": 19,
    "start_time": "2022-01-29T14:05:00.454Z"
   },
   {
    "duration": 68,
    "start_time": "2022-01-29T14:05:47.122Z"
   },
   {
    "duration": 567,
    "start_time": "2022-01-29T14:05:54.026Z"
   },
   {
    "duration": 9,
    "start_time": "2022-01-29T14:05:55.203Z"
   },
   {
    "duration": 7,
    "start_time": "2022-01-29T14:05:55.692Z"
   },
   {
    "duration": 18,
    "start_time": "2022-01-29T14:05:56.178Z"
   },
   {
    "duration": 233,
    "start_time": "2022-01-29T14:08:22.988Z"
   },
   {
    "duration": 38,
    "start_time": "2022-01-29T14:08:52.634Z"
   },
   {
    "duration": 9,
    "start_time": "2022-01-29T14:08:53.177Z"
   },
   {
    "duration": 7,
    "start_time": "2022-01-29T14:08:53.611Z"
   },
   {
    "duration": 19,
    "start_time": "2022-01-29T14:08:54.146Z"
   },
   {
    "duration": 197,
    "start_time": "2022-01-29T14:08:55.211Z"
   },
   {
    "duration": 466,
    "start_time": "2022-01-29T14:09:11.489Z"
   },
   {
    "duration": 1178,
    "start_time": "2022-01-29T14:11:23.285Z"
   },
   {
    "duration": 12,
    "start_time": "2022-01-29T14:11:24.465Z"
   },
   {
    "duration": 9,
    "start_time": "2022-01-29T14:11:24.480Z"
   },
   {
    "duration": 28,
    "start_time": "2022-01-29T14:11:24.491Z"
   },
   {
    "duration": 271,
    "start_time": "2022-01-29T14:11:24.521Z"
   },
   {
    "duration": -1032,
    "start_time": "2022-01-29T14:11:25.826Z"
   },
   {
    "duration": 15,
    "start_time": "2022-01-29T14:11:56.137Z"
   },
   {
    "duration": 1094,
    "start_time": "2022-01-29T14:14:00.838Z"
   },
   {
    "duration": 11,
    "start_time": "2022-01-29T14:14:01.934Z"
   },
   {
    "duration": 12,
    "start_time": "2022-01-29T14:14:01.947Z"
   },
   {
    "duration": 22,
    "start_time": "2022-01-29T14:14:01.961Z"
   },
   {
    "duration": 15,
    "start_time": "2022-01-29T14:14:01.984Z"
   },
   {
    "duration": 2,
    "start_time": "2022-01-29T14:14:02.012Z"
   },
   {
    "duration": 18,
    "start_time": "2022-01-29T14:14:32.964Z"
   },
   {
    "duration": 18,
    "start_time": "2022-01-29T14:14:42.809Z"
   },
   {
    "duration": 19,
    "start_time": "2022-01-29T14:14:50.116Z"
   },
   {
    "duration": 16,
    "start_time": "2022-01-29T14:15:04.150Z"
   },
   {
    "duration": 17,
    "start_time": "2022-01-29T14:15:25.611Z"
   },
   {
    "duration": 158,
    "start_time": "2022-01-29T14:15:38.338Z"
   },
   {
    "duration": 309,
    "start_time": "2022-01-29T14:15:46.047Z"
   },
   {
    "duration": 17,
    "start_time": "2022-01-29T14:15:49.837Z"
   },
   {
    "duration": 150,
    "start_time": "2022-01-29T14:16:06.671Z"
   },
   {
    "duration": 17,
    "start_time": "2022-01-29T14:16:24.807Z"
   },
   {
    "duration": 1248,
    "start_time": "2022-01-29T14:17:11.294Z"
   },
   {
    "duration": 11,
    "start_time": "2022-01-29T14:17:12.544Z"
   },
   {
    "duration": 6,
    "start_time": "2022-01-29T14:17:12.559Z"
   },
   {
    "duration": 18,
    "start_time": "2022-01-29T14:17:12.567Z"
   },
   {
    "duration": 36,
    "start_time": "2022-01-29T14:17:12.586Z"
   },
   {
    "duration": 229,
    "start_time": "2022-01-29T14:17:12.624Z"
   },
   {
    "duration": 17,
    "start_time": "2022-01-29T14:17:40.001Z"
   },
   {
    "duration": 183,
    "start_time": "2022-01-29T14:19:22.259Z"
   },
   {
    "duration": 173,
    "start_time": "2022-01-29T14:19:34.533Z"
   },
   {
    "duration": 312,
    "start_time": "2022-01-29T14:26:43.029Z"
   },
   {
    "duration": 214,
    "start_time": "2022-01-29T14:27:10.275Z"
   },
   {
    "duration": 214,
    "start_time": "2022-01-29T14:27:32.154Z"
   },
   {
    "duration": 15,
    "start_time": "2022-01-29T14:28:45.796Z"
   },
   {
    "duration": 190,
    "start_time": "2022-01-29T14:29:01.297Z"
   },
   {
    "duration": 16,
    "start_time": "2022-01-29T14:29:15.173Z"
   },
   {
    "duration": 868,
    "start_time": "2022-01-29T14:30:02.581Z"
   },
   {
    "duration": 1080,
    "start_time": "2022-01-29T14:31:22.867Z"
   },
   {
    "duration": 11,
    "start_time": "2022-01-29T14:31:23.949Z"
   },
   {
    "duration": 8,
    "start_time": "2022-01-29T14:31:23.962Z"
   },
   {
    "duration": 20,
    "start_time": "2022-01-29T14:31:23.971Z"
   },
   {
    "duration": 28,
    "start_time": "2022-01-29T14:31:23.993Z"
   },
   {
    "duration": 17,
    "start_time": "2022-01-29T14:31:24.023Z"
   },
   {
    "duration": 219,
    "start_time": "2022-01-29T14:31:24.042Z"
   },
   {
    "duration": 2,
    "start_time": "2022-01-29T14:31:24.263Z"
   },
   {
    "duration": 5,
    "start_time": "2022-01-29T14:31:57.991Z"
   },
   {
    "duration": 7,
    "start_time": "2022-01-29T14:32:03.116Z"
   },
   {
    "duration": 294,
    "start_time": "2022-01-29T14:34:08.491Z"
   },
   {
    "duration": 232,
    "start_time": "2022-01-29T14:34:28.794Z"
   },
   {
    "duration": 120,
    "start_time": "2022-01-29T14:34:40.114Z"
   },
   {
    "duration": 118,
    "start_time": "2022-01-29T14:34:53.101Z"
   },
   {
    "duration": 316,
    "start_time": "2022-01-29T14:35:02.680Z"
   },
   {
    "duration": 121,
    "start_time": "2022-01-29T14:35:11.077Z"
   },
   {
    "duration": 2,
    "start_time": "2022-01-29T14:37:36.943Z"
   },
   {
    "duration": 4661,
    "start_time": "2022-01-29T14:45:50.810Z"
   },
   {
    "duration": 209,
    "start_time": "2022-01-29T14:45:58.553Z"
   },
   {
    "duration": 205,
    "start_time": "2022-01-29T14:48:32.905Z"
   },
   {
    "duration": 430,
    "start_time": "2022-01-29T14:48:50.210Z"
   },
   {
    "duration": 211,
    "start_time": "2022-01-29T14:49:15.706Z"
   },
   {
    "duration": 440,
    "start_time": "2022-01-29T14:49:29.602Z"
   },
   {
    "duration": 4904,
    "start_time": "2022-01-29T14:50:01.150Z"
   },
   {
    "duration": 4,
    "start_time": "2022-01-29T14:50:27.771Z"
   },
   {
    "duration": 5009,
    "start_time": "2022-01-29T14:50:42.655Z"
   },
   {
    "duration": 11,
    "start_time": "2022-01-29T14:51:06.781Z"
   },
   {
    "duration": 11,
    "start_time": "2022-01-29T14:51:27.267Z"
   },
   {
    "duration": 208,
    "start_time": "2022-01-29T14:52:34.964Z"
   },
   {
    "duration": 322,
    "start_time": "2022-01-29T14:52:41.891Z"
   },
   {
    "duration": 725,
    "start_time": "2022-01-29T14:52:47.213Z"
   },
   {
    "duration": 227,
    "start_time": "2022-01-29T14:53:00.690Z"
   },
   {
    "duration": 216,
    "start_time": "2022-01-29T14:53:05.175Z"
   },
   {
    "duration": 271,
    "start_time": "2022-01-29T14:53:09.537Z"
   },
   {
    "duration": 197,
    "start_time": "2022-01-29T14:53:14.197Z"
   },
   {
    "duration": 212,
    "start_time": "2022-01-29T14:53:18.181Z"
   },
   {
    "duration": 284,
    "start_time": "2022-01-29T14:53:24.777Z"
   },
   {
    "duration": 196,
    "start_time": "2022-01-29T14:53:29.081Z"
   },
   {
    "duration": 207,
    "start_time": "2022-01-29T14:53:32.620Z"
   },
   {
    "duration": 205,
    "start_time": "2022-01-29T14:53:36.197Z"
   },
   {
    "duration": 224,
    "start_time": "2022-01-29T14:53:42.221Z"
   },
   {
    "duration": 352,
    "start_time": "2022-01-29T14:54:02.859Z"
   },
   {
    "duration": 490,
    "start_time": "2022-01-29T14:55:24.176Z"
   },
   {
    "duration": 345,
    "start_time": "2022-01-29T14:55:35.471Z"
   },
   {
    "duration": 202,
    "start_time": "2022-01-29T14:55:46.148Z"
   },
   {
    "duration": 230,
    "start_time": "2022-01-29T14:55:54.812Z"
   },
   {
    "duration": 261,
    "start_time": "2022-01-29T14:55:58.778Z"
   },
   {
    "duration": 381,
    "start_time": "2022-01-29T14:56:03.848Z"
   },
   {
    "duration": 346,
    "start_time": "2022-01-29T14:56:10.209Z"
   },
   {
    "duration": 477,
    "start_time": "2022-01-29T14:56:41.580Z"
   },
   {
    "duration": 603,
    "start_time": "2022-01-29T15:02:18.504Z"
   },
   {
    "duration": 198,
    "start_time": "2022-01-29T15:04:53.108Z"
   },
   {
    "duration": 200,
    "start_time": "2022-01-29T15:05:07.061Z"
   },
   {
    "duration": 7,
    "start_time": "2022-01-29T15:05:13.800Z"
   },
   {
    "duration": 7,
    "start_time": "2022-01-29T15:05:23.184Z"
   },
   {
    "duration": 180,
    "start_time": "2022-01-29T15:05:57.533Z"
   },
   {
    "duration": 179,
    "start_time": "2022-01-29T15:07:03.599Z"
   },
   {
    "duration": 179,
    "start_time": "2022-01-29T15:07:12.793Z"
   },
   {
    "duration": 192,
    "start_time": "2022-01-29T15:14:12.989Z"
   },
   {
    "duration": 11,
    "start_time": "2022-01-29T15:14:23.908Z"
   },
   {
    "duration": 18,
    "start_time": "2022-01-29T15:14:31.341Z"
   },
   {
    "duration": 195,
    "start_time": "2022-01-29T15:16:09.955Z"
   },
   {
    "duration": 9,
    "start_time": "2022-01-29T15:16:29.695Z"
   },
   {
    "duration": 20,
    "start_time": "2022-01-29T15:16:49.205Z"
   },
   {
    "duration": 19,
    "start_time": "2022-01-29T15:17:09.904Z"
   },
   {
    "duration": 12,
    "start_time": "2022-01-29T15:17:31.879Z"
   },
   {
    "duration": 10,
    "start_time": "2022-01-29T15:17:49.558Z"
   },
   {
    "duration": 9,
    "start_time": "2022-01-29T15:17:54.373Z"
   },
   {
    "duration": 7,
    "start_time": "2022-01-29T15:18:54.296Z"
   },
   {
    "duration": 9,
    "start_time": "2022-01-29T15:19:04.285Z"
   },
   {
    "duration": 65,
    "start_time": "2022-01-29T15:19:20.522Z"
   },
   {
    "duration": 8,
    "start_time": "2022-01-29T15:19:27.713Z"
   },
   {
    "duration": 8,
    "start_time": "2022-01-29T15:19:40.842Z"
   },
   {
    "duration": 10,
    "start_time": "2022-01-29T15:19:48.456Z"
   },
   {
    "duration": 189,
    "start_time": "2022-01-29T15:20:40.839Z"
   },
   {
    "duration": 193,
    "start_time": "2022-01-29T15:20:53.170Z"
   },
   {
    "duration": 196,
    "start_time": "2022-01-29T15:28:21.191Z"
   },
   {
    "duration": 163,
    "start_time": "2022-01-29T15:28:35.084Z"
   },
   {
    "duration": 9,
    "start_time": "2022-01-29T15:29:10.934Z"
   },
   {
    "duration": 10,
    "start_time": "2022-01-29T15:29:15.445Z"
   },
   {
    "duration": 10,
    "start_time": "2022-01-29T15:29:24.774Z"
   },
   {
    "duration": 10,
    "start_time": "2022-01-29T15:29:28.732Z"
   },
   {
    "duration": 10,
    "start_time": "2022-01-29T15:29:51.361Z"
   },
   {
    "duration": 9,
    "start_time": "2022-01-29T15:30:24.280Z"
   },
   {
    "duration": 10,
    "start_time": "2022-01-29T15:30:31.559Z"
   },
   {
    "duration": 10,
    "start_time": "2022-01-29T15:30:35.320Z"
   },
   {
    "duration": 11,
    "start_time": "2022-01-29T15:30:38.788Z"
   },
   {
    "duration": 10,
    "start_time": "2022-01-29T15:30:45.724Z"
   },
   {
    "duration": 10,
    "start_time": "2022-01-29T15:30:51.537Z"
   },
   {
    "duration": 9,
    "start_time": "2022-01-29T15:30:55.892Z"
   },
   {
    "duration": 11,
    "start_time": "2022-01-29T15:31:00.016Z"
   },
   {
    "duration": 10,
    "start_time": "2022-01-29T15:31:04.058Z"
   },
   {
    "duration": 10,
    "start_time": "2022-01-29T15:31:08.630Z"
   },
   {
    "duration": 164,
    "start_time": "2022-01-29T15:31:21.464Z"
   },
   {
    "duration": 164,
    "start_time": "2022-01-29T15:31:38.760Z"
   },
   {
    "duration": 8,
    "start_time": "2022-01-29T15:31:49.638Z"
   },
   {
    "duration": 10,
    "start_time": "2022-01-29T15:31:57.137Z"
   },
   {
    "duration": 61,
    "start_time": "2022-01-29T15:32:05.937Z"
   },
   {
    "duration": 11,
    "start_time": "2022-01-29T15:32:10.780Z"
   },
   {
    "duration": 10,
    "start_time": "2022-01-29T15:32:15.293Z"
   },
   {
    "duration": 11,
    "start_time": "2022-01-29T15:32:20.323Z"
   },
   {
    "duration": 15,
    "start_time": "2022-01-29T15:32:24.798Z"
   },
   {
    "duration": 11,
    "start_time": "2022-01-29T15:32:34.272Z"
   },
   {
    "duration": 11,
    "start_time": "2022-01-29T15:32:37.458Z"
   },
   {
    "duration": 11,
    "start_time": "2022-01-29T15:32:41.890Z"
   },
   {
    "duration": 12,
    "start_time": "2022-01-29T15:32:47.491Z"
   },
   {
    "duration": 12,
    "start_time": "2022-01-29T15:32:53.030Z"
   },
   {
    "duration": 11,
    "start_time": "2022-01-29T15:32:57.762Z"
   },
   {
    "duration": 11,
    "start_time": "2022-01-29T15:33:00.813Z"
   },
   {
    "duration": 11,
    "start_time": "2022-01-29T15:33:03.739Z"
   },
   {
    "duration": 10,
    "start_time": "2022-01-29T15:33:08.320Z"
   },
   {
    "duration": 11,
    "start_time": "2022-01-29T15:33:12.715Z"
   },
   {
    "duration": 12,
    "start_time": "2022-01-29T15:33:24.869Z"
   },
   {
    "duration": 209,
    "start_time": "2022-01-29T15:40:31.632Z"
   },
   {
    "duration": 191,
    "start_time": "2022-01-29T15:41:10.832Z"
   },
   {
    "duration": 202,
    "start_time": "2022-01-29T15:41:34.470Z"
   },
   {
    "duration": 4,
    "start_time": "2022-01-29T15:41:51.367Z"
   },
   {
    "duration": 219,
    "start_time": "2022-01-29T15:42:25.168Z"
   },
   {
    "duration": 12,
    "start_time": "2022-01-29T15:42:33.824Z"
   },
   {
    "duration": 7,
    "start_time": "2022-01-29T15:42:37.220Z"
   },
   {
    "duration": 781,
    "start_time": "2022-01-29T15:45:00.367Z"
   },
   {
    "duration": 6,
    "start_time": "2022-01-29T15:45:23.654Z"
   },
   {
    "duration": 201,
    "start_time": "2022-01-29T15:45:38.696Z"
   },
   {
    "duration": 3,
    "start_time": "2022-01-29T15:46:03.460Z"
   },
   {
    "duration": 8,
    "start_time": "2022-01-29T15:46:11.034Z"
   },
   {
    "duration": 191,
    "start_time": "2022-01-29T15:46:24.190Z"
   },
   {
    "duration": 213,
    "start_time": "2022-01-29T15:47:19.743Z"
   },
   {
    "duration": 73,
    "start_time": "2022-01-29T15:47:33.957Z"
   },
   {
    "duration": 187,
    "start_time": "2022-01-29T15:47:36.917Z"
   },
   {
    "duration": 205,
    "start_time": "2022-01-29T15:47:48.410Z"
   },
   {
    "duration": 10,
    "start_time": "2022-01-29T15:47:51.162Z"
   },
   {
    "duration": 194,
    "start_time": "2022-01-29T15:47:52.251Z"
   },
   {
    "duration": 208,
    "start_time": "2022-01-29T15:47:59.696Z"
   },
   {
    "duration": 254,
    "start_time": "2022-01-29T15:48:08.060Z"
   },
   {
    "duration": 208,
    "start_time": "2022-01-29T15:48:15.901Z"
   },
   {
    "duration": 191,
    "start_time": "2022-01-29T15:48:26.430Z"
   },
   {
    "duration": 191,
    "start_time": "2022-01-29T15:48:29.236Z"
   },
   {
    "duration": 299,
    "start_time": "2022-01-29T15:48:34.258Z"
   },
   {
    "duration": 198,
    "start_time": "2022-01-29T15:49:05.613Z"
   },
   {
    "duration": 323,
    "start_time": "2022-01-29T15:49:19.024Z"
   },
   {
    "duration": 861,
    "start_time": "2022-01-29T15:50:05.122Z"
   },
   {
    "duration": 666,
    "start_time": "2022-01-29T15:50:25.396Z"
   },
   {
    "duration": 920,
    "start_time": "2022-01-29T15:50:30.042Z"
   },
   {
    "duration": 3,
    "start_time": "2022-01-29T15:52:24.881Z"
   },
   {
    "duration": 4,
    "start_time": "2022-01-29T15:52:39.484Z"
   },
   {
    "duration": 15,
    "start_time": "2022-01-29T15:52:48.610Z"
   },
   {
    "duration": 22,
    "start_time": "2022-01-29T15:53:34.100Z"
   },
   {
    "duration": 196,
    "start_time": "2022-01-29T15:53:43.579Z"
   },
   {
    "duration": 22,
    "start_time": "2022-01-29T15:53:48.364Z"
   },
   {
    "duration": 18,
    "start_time": "2022-01-29T15:53:58.060Z"
   },
   {
    "duration": 11,
    "start_time": "2022-01-29T15:54:08.694Z"
   },
   {
    "duration": 21,
    "start_time": "2022-01-29T15:54:13.072Z"
   },
   {
    "duration": 4,
    "start_time": "2022-01-29T15:54:26.352Z"
   },
   {
    "duration": 12,
    "start_time": "2022-01-29T15:54:35.504Z"
   },
   {
    "duration": 21,
    "start_time": "2022-01-29T15:54:48.002Z"
   },
   {
    "duration": 4,
    "start_time": "2022-01-29T15:54:58.760Z"
   },
   {
    "duration": 16,
    "start_time": "2022-01-29T15:55:02.004Z"
   },
   {
    "duration": 20,
    "start_time": "2022-01-29T15:55:18.052Z"
   },
   {
    "duration": 20,
    "start_time": "2022-01-29T15:57:23.752Z"
   },
   {
    "duration": 20,
    "start_time": "2022-01-29T15:57:26.229Z"
   },
   {
    "duration": 21,
    "start_time": "2022-01-29T15:57:28.545Z"
   },
   {
    "duration": 24,
    "start_time": "2022-01-29T15:58:01.682Z"
   },
   {
    "duration": 20,
    "start_time": "2022-01-29T15:58:20.791Z"
   },
   {
    "duration": 17,
    "start_time": "2022-01-29T15:58:45.985Z"
   },
   {
    "duration": 10,
    "start_time": "2022-01-29T15:59:08.240Z"
   },
   {
    "duration": 12,
    "start_time": "2022-01-29T15:59:18.651Z"
   },
   {
    "duration": 13,
    "start_time": "2022-01-29T15:59:43.748Z"
   },
   {
    "duration": 202,
    "start_time": "2022-01-29T15:59:48.226Z"
   },
   {
    "duration": 10,
    "start_time": "2022-01-29T16:00:06.171Z"
   },
   {
    "duration": 10,
    "start_time": "2022-01-29T16:00:13.770Z"
   },
   {
    "duration": 10,
    "start_time": "2022-01-29T16:00:22.417Z"
   },
   {
    "duration": 13,
    "start_time": "2022-01-29T16:00:29.916Z"
   },
   {
    "duration": 10,
    "start_time": "2022-01-29T16:00:39.417Z"
   },
   {
    "duration": 10,
    "start_time": "2022-01-29T16:00:51.248Z"
   },
   {
    "duration": 11,
    "start_time": "2022-01-29T16:01:03.415Z"
   },
   {
    "duration": 10,
    "start_time": "2022-01-29T16:01:18.372Z"
   },
   {
    "duration": 10,
    "start_time": "2022-01-29T16:01:33.026Z"
   },
   {
    "duration": 2,
    "start_time": "2022-01-29T16:04:01.016Z"
   },
   {
    "duration": 190,
    "start_time": "2022-01-29T16:04:18.819Z"
   },
   {
    "duration": 195,
    "start_time": "2022-01-29T16:04:37.541Z"
   },
   {
    "duration": 17,
    "start_time": "2022-01-29T16:04:47.789Z"
   },
   {
    "duration": 10,
    "start_time": "2022-01-29T16:05:09.405Z"
   },
   {
    "duration": 193,
    "start_time": "2022-01-29T16:05:15.572Z"
   },
   {
    "duration": 75,
    "start_time": "2022-01-29T16:06:18.285Z"
   },
   {
    "duration": 12,
    "start_time": "2022-01-29T16:06:29.991Z"
   },
   {
    "duration": 4,
    "start_time": "2022-01-29T16:06:54.813Z"
   },
   {
    "duration": 8,
    "start_time": "2022-01-29T16:07:00.834Z"
   },
   {
    "duration": 14,
    "start_time": "2022-01-29T16:13:07.599Z"
   },
   {
    "duration": 165,
    "start_time": "2022-01-29T16:13:10.335Z"
   },
   {
    "duration": 3,
    "start_time": "2022-01-29T16:13:43.311Z"
   },
   {
    "duration": 4,
    "start_time": "2022-01-29T16:13:48.144Z"
   },
   {
    "duration": 4668,
    "start_time": "2022-01-29T16:14:47.505Z"
   },
   {
    "duration": 129,
    "start_time": "2022-01-29T16:15:04.975Z"
   },
   {
    "duration": 7,
    "start_time": "2022-01-29T16:15:50.814Z"
   },
   {
    "duration": 5,
    "start_time": "2022-01-29T16:16:08.390Z"
   },
   {
    "duration": 16,
    "start_time": "2022-01-29T16:16:12.974Z"
   },
   {
    "duration": 3,
    "start_time": "2022-01-29T16:16:33.398Z"
   },
   {
    "duration": 16,
    "start_time": "2022-01-29T16:16:41.687Z"
   },
   {
    "duration": 16,
    "start_time": "2022-01-29T16:16:47.902Z"
   },
   {
    "duration": 132,
    "start_time": "2022-01-29T16:17:37.838Z"
   },
   {
    "duration": 132,
    "start_time": "2022-01-29T16:18:02.721Z"
   },
   {
    "duration": 200,
    "start_time": "2022-01-29T16:19:42.732Z"
   },
   {
    "duration": 457,
    "start_time": "2022-01-29T16:19:53.650Z"
   },
   {
    "duration": 338,
    "start_time": "2022-01-29T16:20:09.125Z"
   },
   {
    "duration": 366,
    "start_time": "2022-01-29T16:20:16.307Z"
   },
   {
    "duration": 358,
    "start_time": "2022-01-29T16:20:21.012Z"
   },
   {
    "duration": 218,
    "start_time": "2022-01-29T16:28:53.030Z"
   },
   {
    "duration": 180,
    "start_time": "2022-01-29T16:29:02.146Z"
   },
   {
    "duration": 203,
    "start_time": "2022-01-29T16:29:14.945Z"
   },
   {
    "duration": 189,
    "start_time": "2022-01-29T16:29:18.129Z"
   },
   {
    "duration": 1099,
    "start_time": "2022-01-29T16:40:43.249Z"
   },
   {
    "duration": 12,
    "start_time": "2022-01-29T16:40:44.349Z"
   },
   {
    "duration": 8,
    "start_time": "2022-01-29T16:40:44.363Z"
   },
   {
    "duration": 20,
    "start_time": "2022-01-29T16:40:44.373Z"
   },
   {
    "duration": 28,
    "start_time": "2022-01-29T16:40:44.395Z"
   },
   {
    "duration": 211,
    "start_time": "2022-01-29T16:40:44.424Z"
   },
   {
    "duration": 5,
    "start_time": "2022-01-29T16:40:44.637Z"
   },
   {
    "duration": 134,
    "start_time": "2022-01-29T16:40:44.643Z"
   },
   {
    "duration": 13,
    "start_time": "2022-01-29T16:40:44.779Z"
   },
   {
    "duration": 524,
    "start_time": "2022-01-29T16:40:44.793Z"
   },
   {
    "duration": 197,
    "start_time": "2022-01-29T16:40:45.319Z"
   },
   {
    "duration": 20,
    "start_time": "2022-01-29T16:40:45.518Z"
   },
   {
    "duration": 27,
    "start_time": "2022-01-29T16:40:45.539Z"
   },
   {
    "duration": 189,
    "start_time": "2022-01-29T16:40:45.568Z"
   },
   {
    "duration": 11,
    "start_time": "2022-01-29T16:40:45.758Z"
   },
   {
    "duration": 4,
    "start_time": "2022-01-29T16:40:45.771Z"
   },
   {
    "duration": 36,
    "start_time": "2022-01-29T16:40:45.777Z"
   },
   {
    "duration": 207,
    "start_time": "2022-01-29T16:40:45.815Z"
   },
   {
    "duration": 356,
    "start_time": "2022-01-29T16:40:46.024Z"
   },
   {
    "duration": 285,
    "start_time": "2022-01-29T16:53:01.997Z"
   },
   {
    "duration": 198,
    "start_time": "2022-01-29T16:53:08.598Z"
   },
   {
    "duration": 358,
    "start_time": "2022-01-29T16:53:19.141Z"
   },
   {
    "duration": 197,
    "start_time": "2022-01-29T16:53:22.848Z"
   },
   {
    "duration": 15,
    "start_time": "2022-01-29T16:53:28.878Z"
   },
   {
    "duration": 512,
    "start_time": "2022-01-29T16:57:15.930Z"
   },
   {
    "duration": 1203,
    "start_time": "2022-01-29T19:17:40.631Z"
   },
   {
    "duration": 48,
    "start_time": "2022-01-29T19:20:55.774Z"
   },
   {
    "duration": 12,
    "start_time": "2022-01-29T19:20:56.723Z"
   },
   {
    "duration": 9,
    "start_time": "2022-01-29T19:20:57.247Z"
   },
   {
    "duration": 18,
    "start_time": "2022-01-29T19:20:57.683Z"
   },
   {
    "duration": 4,
    "start_time": "2022-01-29T19:21:05.567Z"
   },
   {
    "duration": 249,
    "start_time": "2022-01-29T19:21:25.169Z"
   },
   {
    "duration": 191,
    "start_time": "2022-01-29T19:21:31.963Z"
   },
   {
    "duration": 14,
    "start_time": "2022-01-29T19:22:24.660Z"
   },
   {
    "duration": 16,
    "start_time": "2022-01-29T19:22:47.899Z"
   },
   {
    "duration": 63,
    "start_time": "2022-01-29T19:23:31.076Z"
   },
   {
    "duration": 57,
    "start_time": "2022-01-29T19:24:14.935Z"
   },
   {
    "duration": 14,
    "start_time": "2022-01-29T19:28:01.400Z"
   },
   {
    "duration": 13,
    "start_time": "2022-01-29T19:28:09.246Z"
   },
   {
    "duration": 10,
    "start_time": "2022-01-29T19:28:18.264Z"
   },
   {
    "duration": 13,
    "start_time": "2022-01-29T19:28:19.075Z"
   },
   {
    "duration": 60,
    "start_time": "2022-01-29T19:28:53.054Z"
   },
   {
    "duration": 7,
    "start_time": "2022-01-29T19:29:13.892Z"
   },
   {
    "duration": 205,
    "start_time": "2022-01-29T19:29:16.103Z"
   },
   {
    "duration": 6,
    "start_time": "2022-01-29T19:32:10.207Z"
   },
   {
    "duration": 7,
    "start_time": "2022-01-29T19:32:13.050Z"
   },
   {
    "duration": 9,
    "start_time": "2022-01-29T19:33:04.173Z"
   },
   {
    "duration": 6,
    "start_time": "2022-01-29T19:33:12.708Z"
   },
   {
    "duration": 144,
    "start_time": "2022-01-29T19:33:20.229Z"
   },
   {
    "duration": 10,
    "start_time": "2022-01-29T19:33:40.880Z"
   },
   {
    "duration": 172,
    "start_time": "2022-01-29T19:35:07.216Z"
   },
   {
    "duration": 180,
    "start_time": "2022-01-29T19:35:12.068Z"
   },
   {
    "duration": 154,
    "start_time": "2022-01-29T19:35:18.931Z"
   },
   {
    "duration": 10,
    "start_time": "2022-01-29T19:38:52.009Z"
   },
   {
    "duration": 149,
    "start_time": "2022-01-29T19:39:07.458Z"
   },
   {
    "duration": 131,
    "start_time": "2022-01-29T19:39:59.422Z"
   },
   {
    "duration": 142,
    "start_time": "2022-01-29T19:40:14.038Z"
   },
   {
    "duration": 179,
    "start_time": "2022-01-29T19:40:36.397Z"
   },
   {
    "duration": 219,
    "start_time": "2022-01-29T19:40:40.247Z"
   },
   {
    "duration": 129,
    "start_time": "2022-01-29T19:41:32.989Z"
   },
   {
    "duration": 140,
    "start_time": "2022-01-29T19:42:05.394Z"
   },
   {
    "duration": 56,
    "start_time": "2022-01-29T19:43:03.408Z"
   },
   {
    "duration": 59,
    "start_time": "2022-01-29T19:43:31.502Z"
   },
   {
    "duration": 20,
    "start_time": "2022-01-29T19:47:43.114Z"
   },
   {
    "duration": 18,
    "start_time": "2022-01-29T19:47:50.707Z"
   },
   {
    "duration": 11,
    "start_time": "2022-01-29T19:48:16.868Z"
   },
   {
    "duration": 192,
    "start_time": "2022-01-29T19:48:28.495Z"
   },
   {
    "duration": 195,
    "start_time": "2022-01-29T19:48:39.625Z"
   },
   {
    "duration": 191,
    "start_time": "2022-01-29T19:49:07.754Z"
   },
   {
    "duration": 195,
    "start_time": "2022-01-29T19:52:23.695Z"
   },
   {
    "duration": 195,
    "start_time": "2022-01-29T19:52:37.575Z"
   },
   {
    "duration": 194,
    "start_time": "2022-01-29T19:56:42.396Z"
   },
   {
    "duration": 11,
    "start_time": "2022-01-29T19:57:02.677Z"
   },
   {
    "duration": 8,
    "start_time": "2022-01-29T19:57:17.429Z"
   },
   {
    "duration": 214,
    "start_time": "2022-01-29T20:00:23.313Z"
   },
   {
    "duration": 12,
    "start_time": "2022-01-29T20:00:32.961Z"
   },
   {
    "duration": 9,
    "start_time": "2022-01-29T20:00:54.310Z"
   },
   {
    "duration": 15,
    "start_time": "2022-01-29T20:01:24.459Z"
   },
   {
    "duration": 7,
    "start_time": "2022-01-29T20:02:12.435Z"
   },
   {
    "duration": 7,
    "start_time": "2022-01-29T20:02:15.683Z"
   },
   {
    "duration": 8,
    "start_time": "2022-01-29T20:02:41.474Z"
   },
   {
    "duration": 170,
    "start_time": "2022-01-29T20:03:48.364Z"
   },
   {
    "duration": 175,
    "start_time": "2022-01-29T20:04:40.272Z"
   },
   {
    "duration": 10,
    "start_time": "2022-01-29T20:04:49.611Z"
   },
   {
    "duration": 16,
    "start_time": "2022-01-29T20:04:50.476Z"
   },
   {
    "duration": 186,
    "start_time": "2022-01-29T20:04:58.644Z"
   },
   {
    "duration": 176,
    "start_time": "2022-01-29T20:05:13.690Z"
   },
   {
    "duration": 10,
    "start_time": "2022-01-29T20:05:36.938Z"
   },
   {
    "duration": 14,
    "start_time": "2022-01-29T20:05:45.315Z"
   },
   {
    "duration": 195,
    "start_time": "2022-01-29T20:05:49.796Z"
   },
   {
    "duration": 10,
    "start_time": "2022-01-29T20:05:55.263Z"
   },
   {
    "duration": 12,
    "start_time": "2022-01-29T20:08:31.345Z"
   },
   {
    "duration": 172,
    "start_time": "2022-01-29T20:08:31.960Z"
   },
   {
    "duration": 12,
    "start_time": "2022-01-29T20:08:46.109Z"
   },
   {
    "duration": 177,
    "start_time": "2022-01-29T20:08:46.770Z"
   },
   {
    "duration": 188,
    "start_time": "2022-01-29T20:11:40.415Z"
   },
   {
    "duration": 15,
    "start_time": "2022-01-29T20:11:52.084Z"
   },
   {
    "duration": 20,
    "start_time": "2022-01-29T20:11:54.959Z"
   },
   {
    "duration": 21,
    "start_time": "2022-01-29T20:14:51.228Z"
   },
   {
    "duration": 14,
    "start_time": "2022-01-29T20:15:13.965Z"
   },
   {
    "duration": 7,
    "start_time": "2022-01-29T20:15:37.002Z"
   },
   {
    "duration": 19,
    "start_time": "2022-01-29T20:15:37.583Z"
   },
   {
    "duration": 13,
    "start_time": "2022-01-29T20:15:38.137Z"
   },
   {
    "duration": 58,
    "start_time": "2022-01-29T20:16:34.274Z"
   },
   {
    "duration": 16,
    "start_time": "2022-01-29T20:16:38.844Z"
   },
   {
    "duration": 22,
    "start_time": "2022-01-29T20:17:01.335Z"
   },
   {
    "duration": 10,
    "start_time": "2022-01-29T20:18:06.842Z"
   },
   {
    "duration": 19,
    "start_time": "2022-01-29T20:19:54.808Z"
   },
   {
    "duration": 10,
    "start_time": "2022-01-29T20:20:01.639Z"
   },
   {
    "duration": 15,
    "start_time": "2022-01-29T20:22:26.369Z"
   },
   {
    "duration": 15,
    "start_time": "2022-01-29T20:22:32.473Z"
   },
   {
    "duration": 9728,
    "start_time": "2022-01-29T20:23:33.096Z"
   },
   {
    "duration": 60,
    "start_time": "2022-01-29T20:26:59.112Z"
   },
   {
    "duration": 62,
    "start_time": "2022-01-29T20:27:03.037Z"
   },
   {
    "duration": 193,
    "start_time": "2022-01-29T20:29:00.925Z"
   },
   {
    "duration": 184,
    "start_time": "2022-01-29T20:29:32.304Z"
   },
   {
    "duration": 370,
    "start_time": "2022-01-29T20:31:38.459Z"
   },
   {
    "duration": 303,
    "start_time": "2022-01-29T20:32:00.353Z"
   },
   {
    "duration": 385,
    "start_time": "2022-01-29T20:32:45.176Z"
   },
   {
    "duration": 192,
    "start_time": "2022-01-29T20:33:34.048Z"
   },
   {
    "duration": 493,
    "start_time": "2022-01-29T20:34:31.207Z"
   },
   {
    "duration": 187,
    "start_time": "2022-01-29T20:35:11.398Z"
   },
   {
    "duration": 421,
    "start_time": "2022-01-29T20:35:35.971Z"
   },
   {
    "duration": 191,
    "start_time": "2022-01-29T20:35:46.759Z"
   },
   {
    "duration": 360,
    "start_time": "2022-01-29T20:36:13.958Z"
   },
   {
    "duration": 195,
    "start_time": "2022-01-29T20:36:25.962Z"
   },
   {
    "duration": 198,
    "start_time": "2022-01-29T20:36:37.435Z"
   },
   {
    "duration": 186,
    "start_time": "2022-01-29T20:36:46.189Z"
   },
   {
    "duration": 191,
    "start_time": "2022-01-29T20:36:54.933Z"
   },
   {
    "duration": 193,
    "start_time": "2022-01-29T20:37:34.740Z"
   },
   {
    "duration": 186,
    "start_time": "2022-01-29T20:37:42.488Z"
   },
   {
    "duration": 185,
    "start_time": "2022-01-29T20:37:48.783Z"
   },
   {
    "duration": 5647,
    "start_time": "2022-01-29T20:42:23.579Z"
   },
   {
    "duration": 21,
    "start_time": "2022-01-29T20:42:34.915Z"
   },
   {
    "duration": 9,
    "start_time": "2022-01-29T20:42:37.531Z"
   },
   {
    "duration": 7,
    "start_time": "2022-01-29T20:42:42.290Z"
   },
   {
    "duration": 8,
    "start_time": "2022-01-29T20:43:00.139Z"
   },
   {
    "duration": 8,
    "start_time": "2022-01-29T20:43:02.725Z"
   },
   {
    "duration": 9,
    "start_time": "2022-01-29T20:43:05.070Z"
   },
   {
    "duration": 8,
    "start_time": "2022-01-29T20:43:07.331Z"
   },
   {
    "duration": 7,
    "start_time": "2022-01-29T20:43:09.403Z"
   },
   {
    "duration": 8,
    "start_time": "2022-01-29T20:43:12.335Z"
   },
   {
    "duration": 130,
    "start_time": "2022-01-29T20:43:14.655Z"
   },
   {
    "duration": 8,
    "start_time": "2022-01-29T20:43:16.561Z"
   },
   {
    "duration": 8,
    "start_time": "2022-01-29T20:43:18.389Z"
   },
   {
    "duration": 8,
    "start_time": "2022-01-29T20:43:23.271Z"
   },
   {
    "duration": 8,
    "start_time": "2022-01-29T20:43:25.264Z"
   },
   {
    "duration": 8,
    "start_time": "2022-01-29T20:43:26.876Z"
   },
   {
    "duration": 8,
    "start_time": "2022-01-29T20:43:37.403Z"
   },
   {
    "duration": 184,
    "start_time": "2022-01-29T20:43:50.989Z"
   },
   {
    "duration": 9,
    "start_time": "2022-01-29T20:43:55.836Z"
   },
   {
    "duration": 10,
    "start_time": "2022-01-29T20:45:06.528Z"
   },
   {
    "duration": 9,
    "start_time": "2022-01-29T20:45:11.254Z"
   },
   {
    "duration": 8,
    "start_time": "2022-01-29T20:45:14.419Z"
   },
   {
    "duration": 8,
    "start_time": "2022-01-29T20:45:19.120Z"
   },
   {
    "duration": 8,
    "start_time": "2022-01-29T20:45:21.114Z"
   },
   {
    "duration": 9,
    "start_time": "2022-01-29T20:45:37.202Z"
   },
   {
    "duration": 1157,
    "start_time": "2022-01-29T20:45:44.593Z"
   },
   {
    "duration": 12,
    "start_time": "2022-01-29T20:45:45.752Z"
   },
   {
    "duration": 11,
    "start_time": "2022-01-29T20:45:45.766Z"
   },
   {
    "duration": 20,
    "start_time": "2022-01-29T20:45:45.778Z"
   },
   {
    "duration": 12,
    "start_time": "2022-01-29T20:45:45.800Z"
   },
   {
    "duration": 15,
    "start_time": "2022-01-29T20:45:45.813Z"
   },
   {
    "duration": 37,
    "start_time": "2022-01-29T20:45:45.829Z"
   },
   {
    "duration": 15,
    "start_time": "2022-01-29T20:45:45.868Z"
   },
   {
    "duration": 11,
    "start_time": "2022-01-29T20:45:45.886Z"
   },
   {
    "duration": 214,
    "start_time": "2022-01-29T20:45:45.898Z"
   },
   {
    "duration": 147,
    "start_time": "2022-01-29T20:45:46.114Z"
   },
   {
    "duration": 133,
    "start_time": "2022-01-29T20:45:46.263Z"
   },
   {
    "duration": 14,
    "start_time": "2022-01-29T20:45:46.399Z"
   },
   {
    "duration": 11,
    "start_time": "2022-01-29T20:45:46.416Z"
   },
   {
    "duration": 35,
    "start_time": "2022-01-29T20:45:46.429Z"
   },
   {
    "duration": 9651,
    "start_time": "2022-01-29T20:45:46.466Z"
   },
   {
    "duration": 198,
    "start_time": "2022-01-29T20:45:56.119Z"
   },
   {
    "duration": 22,
    "start_time": "2022-01-29T20:45:56.320Z"
   },
   {
    "duration": 209,
    "start_time": "2022-01-29T20:45:56.360Z"
   },
   {
    "duration": 15,
    "start_time": "2022-01-29T20:45:56.571Z"
   },
   {
    "duration": 11,
    "start_time": "2022-01-29T20:45:56.588Z"
   },
   {
    "duration": 4,
    "start_time": "2022-01-29T20:45:56.601Z"
   },
   {
    "duration": 51,
    "start_time": "2022-01-29T20:45:56.609Z"
   },
   {
    "duration": 144,
    "start_time": "2022-01-29T20:45:56.662Z"
   },
   {
    "duration": 369,
    "start_time": "2022-01-29T20:45:56.808Z"
   },
   {
    "duration": 22,
    "start_time": "2022-01-29T20:46:46.961Z"
   },
   {
    "duration": 19,
    "start_time": "2022-01-29T20:47:19.356Z"
   },
   {
    "duration": 5,
    "start_time": "2022-01-29T20:47:50.257Z"
   },
   {
    "duration": 16,
    "start_time": "2022-01-29T20:47:53.325Z"
   },
   {
    "duration": 67,
    "start_time": "2022-01-29T20:48:26.472Z"
   },
   {
    "duration": 8,
    "start_time": "2022-01-29T20:48:35.208Z"
   },
   {
    "duration": 7,
    "start_time": "2022-01-29T20:48:49.401Z"
   },
   {
    "duration": 4892,
    "start_time": "2022-01-29T20:51:37.471Z"
   },
   {
    "duration": 184,
    "start_time": "2022-01-29T20:51:51.661Z"
   },
   {
    "duration": 214,
    "start_time": "2022-01-29T20:52:41.473Z"
   },
   {
    "duration": 249,
    "start_time": "2022-01-29T20:52:49.820Z"
   },
   {
    "duration": 187,
    "start_time": "2022-01-29T20:52:54.332Z"
   },
   {
    "duration": 1213,
    "start_time": "2022-01-29T20:53:09.332Z"
   },
   {
    "duration": 12,
    "start_time": "2022-01-29T20:53:10.547Z"
   },
   {
    "duration": 18,
    "start_time": "2022-01-29T20:53:10.561Z"
   },
   {
    "duration": 26,
    "start_time": "2022-01-29T20:53:10.581Z"
   },
   {
    "duration": 13,
    "start_time": "2022-01-29T20:53:10.609Z"
   },
   {
    "duration": 23,
    "start_time": "2022-01-29T20:53:10.624Z"
   },
   {
    "duration": 15,
    "start_time": "2022-01-29T20:53:10.648Z"
   },
   {
    "duration": 15,
    "start_time": "2022-01-29T20:53:10.665Z"
   },
   {
    "duration": 12,
    "start_time": "2022-01-29T20:53:10.683Z"
   },
   {
    "duration": 210,
    "start_time": "2022-01-29T20:53:10.697Z"
   },
   {
    "duration": 141,
    "start_time": "2022-01-29T20:53:10.909Z"
   },
   {
    "duration": 135,
    "start_time": "2022-01-29T20:53:11.052Z"
   },
   {
    "duration": 15,
    "start_time": "2022-01-29T20:53:11.188Z"
   },
   {
    "duration": 9,
    "start_time": "2022-01-29T20:53:11.205Z"
   },
   {
    "duration": 6,
    "start_time": "2022-01-29T20:53:11.216Z"
   },
   {
    "duration": 9598,
    "start_time": "2022-01-29T20:53:11.224Z"
   },
   {
    "duration": 192,
    "start_time": "2022-01-29T20:53:20.823Z"
   },
   {
    "duration": 2,
    "start_time": "2022-01-29T20:53:21.017Z"
   },
   {
    "duration": 259,
    "start_time": "2022-01-29T20:53:21.020Z"
   },
   {
    "duration": -154,
    "start_time": "2022-01-29T20:53:21.435Z"
   },
   {
    "duration": -155,
    "start_time": "2022-01-29T20:53:21.437Z"
   },
   {
    "duration": -156,
    "start_time": "2022-01-29T20:53:21.439Z"
   },
   {
    "duration": -157,
    "start_time": "2022-01-29T20:53:21.441Z"
   },
   {
    "duration": -158,
    "start_time": "2022-01-29T20:53:21.443Z"
   },
   {
    "duration": -158,
    "start_time": "2022-01-29T20:53:21.444Z"
   },
   {
    "duration": -159,
    "start_time": "2022-01-29T20:53:21.446Z"
   },
   {
    "duration": 66,
    "start_time": "2022-01-29T20:53:35.164Z"
   },
   {
    "duration": 76,
    "start_time": "2022-01-29T20:53:39.476Z"
   },
   {
    "duration": 208,
    "start_time": "2022-01-29T20:54:25.196Z"
   },
   {
    "duration": 158,
    "start_time": "2022-01-29T20:54:40.551Z"
   },
   {
    "duration": 101,
    "start_time": "2022-01-29T20:55:42.550Z"
   },
   {
    "duration": 15,
    "start_time": "2022-01-29T20:55:58.654Z"
   },
   {
    "duration": 60,
    "start_time": "2022-01-29T21:14:20.095Z"
   },
   {
    "duration": 76,
    "start_time": "2022-01-29T21:18:35.669Z"
   },
   {
    "duration": 9,
    "start_time": "2022-01-29T21:19:07.338Z"
   },
   {
    "duration": 12,
    "start_time": "2022-01-29T21:22:46.162Z"
   },
   {
    "duration": 5,
    "start_time": "2022-01-29T21:22:48.588Z"
   },
   {
    "duration": 16,
    "start_time": "2022-01-29T21:22:49.160Z"
   },
   {
    "duration": 136,
    "start_time": "2022-01-29T21:22:50.058Z"
   },
   {
    "duration": 327,
    "start_time": "2022-01-29T21:22:51.092Z"
   },
   {
    "duration": 348,
    "start_time": "2022-01-29T21:28:51.932Z"
   },
   {
    "duration": 338,
    "start_time": "2022-01-29T21:28:57.168Z"
   },
   {
    "duration": 338,
    "start_time": "2022-01-29T21:29:01.310Z"
   },
   {
    "duration": 450,
    "start_time": "2022-01-29T21:29:10.881Z"
   },
   {
    "duration": 335,
    "start_time": "2022-01-29T21:29:21.799Z"
   },
   {
    "duration": 331,
    "start_time": "2022-01-29T21:29:34.041Z"
   },
   {
    "duration": 186,
    "start_time": "2022-01-29T21:38:29.441Z"
   },
   {
    "duration": 2,
    "start_time": "2022-01-29T21:39:05.080Z"
   },
   {
    "duration": 4,
    "start_time": "2022-01-29T21:39:11.670Z"
   },
   {
    "duration": 194,
    "start_time": "2022-01-29T21:39:33.311Z"
   },
   {
    "duration": 13,
    "start_time": "2022-01-29T21:43:14.180Z"
   },
   {
    "duration": 13,
    "start_time": "2022-01-29T21:43:17.650Z"
   },
   {
    "duration": 14,
    "start_time": "2022-01-29T21:43:20.960Z"
   },
   {
    "duration": 14,
    "start_time": "2022-01-29T21:43:24.023Z"
   },
   {
    "duration": 13,
    "start_time": "2022-01-29T21:43:28.225Z"
   },
   {
    "duration": 14,
    "start_time": "2022-01-29T21:43:32.292Z"
   },
   {
    "duration": 14,
    "start_time": "2022-01-29T21:43:35.533Z"
   },
   {
    "duration": 12,
    "start_time": "2022-01-29T21:43:38.963Z"
   },
   {
    "duration": 13,
    "start_time": "2022-01-29T21:43:42.529Z"
   },
   {
    "duration": 13,
    "start_time": "2022-01-29T21:43:45.129Z"
   },
   {
    "duration": 13,
    "start_time": "2022-01-29T21:43:48.622Z"
   },
   {
    "duration": 13,
    "start_time": "2022-01-29T21:43:52.123Z"
   },
   {
    "duration": 17,
    "start_time": "2022-01-29T21:46:31.155Z"
   },
   {
    "duration": 62,
    "start_time": "2022-01-29T22:09:05.777Z"
   },
   {
    "duration": 11,
    "start_time": "2022-01-29T22:12:29.377Z"
   },
   {
    "duration": 4,
    "start_time": "2022-01-29T22:12:30.896Z"
   },
   {
    "duration": 17,
    "start_time": "2022-01-29T22:12:31.894Z"
   },
   {
    "duration": 132,
    "start_time": "2022-01-29T22:12:32.669Z"
   },
   {
    "duration": 540,
    "start_time": "2022-01-29T22:12:33.386Z"
   },
   {
    "duration": 538,
    "start_time": "2022-01-29T22:12:46.224Z"
   },
   {
    "duration": 676,
    "start_time": "2022-01-29T22:12:49.586Z"
   },
   {
    "duration": 541,
    "start_time": "2022-01-29T22:12:55.428Z"
   },
   {
    "duration": 519,
    "start_time": "2022-01-29T22:12:59.373Z"
   },
   {
    "duration": 16,
    "start_time": "2022-01-29T22:13:16.550Z"
   },
   {
    "duration": 16,
    "start_time": "2022-01-29T22:13:41.328Z"
   },
   {
    "duration": 16,
    "start_time": "2022-01-29T22:13:43.003Z"
   },
   {
    "duration": 13,
    "start_time": "2022-01-29T22:13:46.281Z"
   },
   {
    "duration": 5,
    "start_time": "2022-01-29T22:13:46.885Z"
   },
   {
    "duration": 19,
    "start_time": "2022-01-29T22:13:46.893Z"
   },
   {
    "duration": 132,
    "start_time": "2022-01-29T22:13:47.078Z"
   },
   {
    "duration": 319,
    "start_time": "2022-01-29T22:13:47.514Z"
   },
   {
    "duration": 7,
    "start_time": "2022-01-29T22:15:05.720Z"
   },
   {
    "duration": 19,
    "start_time": "2022-01-29T22:15:08.114Z"
   },
   {
    "duration": 10,
    "start_time": "2022-01-29T22:15:32.041Z"
   },
   {
    "duration": 10,
    "start_time": "2022-01-29T22:17:24.064Z"
   },
   {
    "duration": 19,
    "start_time": "2022-01-29T22:17:31.085Z"
   },
   {
    "duration": 10,
    "start_time": "2022-01-29T22:17:34.659Z"
   },
   {
    "duration": 9,
    "start_time": "2022-01-29T22:17:43.183Z"
   },
   {
    "duration": 8,
    "start_time": "2022-01-29T22:17:54.955Z"
   },
   {
    "duration": 8,
    "start_time": "2022-01-29T22:18:13.616Z"
   },
   {
    "duration": 8,
    "start_time": "2022-01-29T22:18:26.660Z"
   },
   {
    "duration": 8,
    "start_time": "2022-01-29T22:19:16.343Z"
   },
   {
    "duration": 9,
    "start_time": "2022-01-29T22:19:24.926Z"
   },
   {
    "duration": 9,
    "start_time": "2022-01-29T22:19:32.032Z"
   },
   {
    "duration": 10,
    "start_time": "2022-01-29T22:19:35.348Z"
   },
   {
    "duration": 10,
    "start_time": "2022-01-29T22:19:47.282Z"
   },
   {
    "duration": 66,
    "start_time": "2022-01-29T22:23:12.108Z"
   },
   {
    "duration": 1191,
    "start_time": "2022-01-29T22:24:18.457Z"
   },
   {
    "duration": 13,
    "start_time": "2022-01-29T22:24:19.650Z"
   },
   {
    "duration": 12,
    "start_time": "2022-01-29T22:24:19.665Z"
   },
   {
    "duration": 23,
    "start_time": "2022-01-29T22:24:19.679Z"
   },
   {
    "duration": 15,
    "start_time": "2022-01-29T22:24:19.704Z"
   },
   {
    "duration": 15,
    "start_time": "2022-01-29T22:24:19.720Z"
   },
   {
    "duration": 12,
    "start_time": "2022-01-29T22:24:19.760Z"
   },
   {
    "duration": 19,
    "start_time": "2022-01-29T22:24:19.774Z"
   },
   {
    "duration": 8,
    "start_time": "2022-01-29T22:24:19.795Z"
   },
   {
    "duration": 229,
    "start_time": "2022-01-29T22:24:19.804Z"
   },
   {
    "duration": 143,
    "start_time": "2022-01-29T22:24:20.035Z"
   },
   {
    "duration": 128,
    "start_time": "2022-01-29T22:24:20.180Z"
   },
   {
    "duration": 14,
    "start_time": "2022-01-29T22:24:20.310Z"
   },
   {
    "duration": 10,
    "start_time": "2022-01-29T22:24:20.325Z"
   },
   {
    "duration": 25,
    "start_time": "2022-01-29T22:24:20.337Z"
   },
   {
    "duration": 9753,
    "start_time": "2022-01-29T22:24:20.364Z"
   },
   {
    "duration": 9,
    "start_time": "2022-01-29T22:24:30.119Z"
   },
   {
    "duration": 207,
    "start_time": "2022-01-29T22:24:30.130Z"
   },
   {
    "duration": 90,
    "start_time": "2022-01-29T22:24:30.339Z"
   },
   {
    "duration": 231,
    "start_time": "2022-01-29T22:24:30.431Z"
   },
   {
    "duration": 14,
    "start_time": "2022-01-29T22:24:30.663Z"
   },
   {
    "duration": 23,
    "start_time": "2022-01-29T22:24:30.679Z"
   },
   {
    "duration": 12,
    "start_time": "2022-01-29T22:24:30.705Z"
   },
   {
    "duration": 13,
    "start_time": "2022-01-29T22:24:30.719Z"
   },
   {
    "duration": 36,
    "start_time": "2022-01-29T22:24:30.734Z"
   },
   {
    "duration": 152,
    "start_time": "2022-01-29T22:24:30.772Z"
   },
   {
    "duration": 434,
    "start_time": "2022-01-29T22:24:30.925Z"
   },
   {
    "duration": 9,
    "start_time": "2022-01-29T22:24:31.361Z"
   },
   {
    "duration": 15,
    "start_time": "2022-01-29T22:24:31.371Z"
   },
   {
    "duration": 27,
    "start_time": "2022-01-29T22:24:31.387Z"
   },
   {
    "duration": 332,
    "start_time": "2022-01-30T08:21:20.613Z"
   },
   {
    "duration": 1483,
    "start_time": "2022-01-30T08:21:23.804Z"
   },
   {
    "duration": 16,
    "start_time": "2022-01-30T08:21:25.290Z"
   },
   {
    "duration": 11,
    "start_time": "2022-01-30T08:21:25.309Z"
   },
   {
    "duration": 45,
    "start_time": "2022-01-30T08:21:25.323Z"
   },
   {
    "duration": 19,
    "start_time": "2022-01-30T08:21:25.370Z"
   },
   {
    "duration": 28,
    "start_time": "2022-01-30T08:21:25.392Z"
   },
   {
    "duration": 44,
    "start_time": "2022-01-30T08:21:25.422Z"
   },
   {
    "duration": 15,
    "start_time": "2022-01-30T08:21:25.468Z"
   },
   {
    "duration": 20,
    "start_time": "2022-01-30T08:21:25.487Z"
   },
   {
    "duration": 9,
    "start_time": "2022-01-30T08:21:25.510Z"
   },
   {
    "duration": 351,
    "start_time": "2022-01-30T08:21:25.521Z"
   },
   {
    "duration": 216,
    "start_time": "2022-01-30T08:21:25.874Z"
   },
   {
    "duration": 225,
    "start_time": "2022-01-30T08:21:26.092Z"
   },
   {
    "duration": 19,
    "start_time": "2022-01-30T08:21:26.319Z"
   },
   {
    "duration": 31,
    "start_time": "2022-01-30T08:21:26.340Z"
   },
   {
    "duration": 9,
    "start_time": "2022-01-30T08:21:26.373Z"
   },
   {
    "duration": 14903,
    "start_time": "2022-01-30T08:21:26.384Z"
   },
   {
    "duration": 23,
    "start_time": "2022-01-30T08:21:41.290Z"
   },
   {
    "duration": 448,
    "start_time": "2022-01-30T08:21:41.316Z"
   },
   {
    "duration": 126,
    "start_time": "2022-01-30T08:21:41.766Z"
   },
   {
    "duration": 329,
    "start_time": "2022-01-30T08:21:41.895Z"
   },
   {
    "duration": 37,
    "start_time": "2022-01-30T08:21:42.227Z"
   },
   {
    "duration": 22,
    "start_time": "2022-01-30T08:21:42.267Z"
   },
   {
    "duration": 16,
    "start_time": "2022-01-30T08:21:42.292Z"
   },
   {
    "duration": 7,
    "start_time": "2022-01-30T08:21:42.311Z"
   },
   {
    "duration": 27,
    "start_time": "2022-01-30T08:21:42.360Z"
   },
   {
    "duration": 238,
    "start_time": "2022-01-30T08:21:42.394Z"
   },
   {
    "duration": 610,
    "start_time": "2022-01-30T08:21:42.636Z"
   },
   {
    "duration": 21,
    "start_time": "2022-01-30T08:21:43.248Z"
   },
   {
    "duration": 11,
    "start_time": "2022-01-30T08:21:43.271Z"
   },
   {
    "duration": 9,
    "start_time": "2022-01-30T08:21:43.284Z"
   },
   {
    "duration": 23,
    "start_time": "2022-01-30T08:21:46.209Z"
   },
   {
    "duration": 33,
    "start_time": "2022-01-30T08:22:54.321Z"
   },
   {
    "duration": 20,
    "start_time": "2022-01-30T08:22:57.600Z"
   },
   {
    "duration": 13,
    "start_time": "2022-01-30T08:25:55.071Z"
   },
   {
    "duration": 23,
    "start_time": "2022-01-30T08:30:40.809Z"
   },
   {
    "duration": 120,
    "start_time": "2022-01-30T08:30:45.675Z"
   },
   {
    "duration": 9433,
    "start_time": "2022-01-30T08:32:57.547Z"
   },
   {
    "duration": -3723,
    "start_time": "2022-01-30T08:33:10.706Z"
   },
   {
    "duration": 17,
    "start_time": "2022-01-30T08:33:08.526Z"
   },
   {
    "duration": 9650,
    "start_time": "2022-01-30T08:33:10.461Z"
   },
   {
    "duration": 360,
    "start_time": "2022-01-30T08:33:31.405Z"
   },
   {
    "duration": 276,
    "start_time": "2022-01-30T08:33:35.461Z"
   },
   {
    "duration": 298,
    "start_time": "2022-01-30T08:34:45.582Z"
   },
   {
    "duration": 16,
    "start_time": "2022-01-30T08:35:05.554Z"
   },
   {
    "duration": 520,
    "start_time": "2022-01-30T08:35:24.188Z"
   },
   {
    "duration": 91,
    "start_time": "2022-01-30T08:37:11.786Z"
   },
   {
    "duration": 286,
    "start_time": "2022-01-30T08:37:44.202Z"
   },
   {
    "duration": 573,
    "start_time": "2022-01-30T08:38:49.320Z"
   },
   {
    "duration": 276,
    "start_time": "2022-01-30T08:38:54.991Z"
   },
   {
    "duration": 276,
    "start_time": "2022-01-30T08:39:14.774Z"
   },
   {
    "duration": 271,
    "start_time": "2022-01-30T08:39:19.234Z"
   },
   {
    "duration": 326,
    "start_time": "2022-01-30T08:39:39.140Z"
   },
   {
    "duration": 312,
    "start_time": "2022-01-30T08:39:55.292Z"
   },
   {
    "duration": 1266,
    "start_time": "2022-01-30T09:22:44.646Z"
   },
   {
    "duration": 14,
    "start_time": "2022-01-30T09:22:48.054Z"
   },
   {
    "duration": 9,
    "start_time": "2022-01-30T09:22:48.899Z"
   },
   {
    "duration": 21,
    "start_time": "2022-01-30T09:22:51.824Z"
   },
   {
    "duration": 6,
    "start_time": "2022-01-30T09:22:58.939Z"
   },
   {
    "duration": 14,
    "start_time": "2022-01-30T09:23:03.308Z"
   },
   {
    "duration": 16,
    "start_time": "2022-01-30T09:23:19.212Z"
   },
   {
    "duration": 17,
    "start_time": "2022-01-30T09:23:44.757Z"
   },
   {
    "duration": 23,
    "start_time": "2022-01-30T09:26:54.302Z"
   },
   {
    "duration": 16,
    "start_time": "2022-01-30T09:27:10.681Z"
   },
   {
    "duration": 25,
    "start_time": "2022-01-30T09:27:24.152Z"
   },
   {
    "duration": 16,
    "start_time": "2022-01-30T09:27:25.253Z"
   },
   {
    "duration": 16,
    "start_time": "2022-01-30T09:27:28.921Z"
   },
   {
    "duration": 15,
    "start_time": "2022-01-30T09:27:30.069Z"
   },
   {
    "duration": 20,
    "start_time": "2022-01-30T09:27:39.953Z"
   },
   {
    "duration": 14,
    "start_time": "2022-01-30T09:28:16.809Z"
   },
   {
    "duration": 390,
    "start_time": "2022-01-30T09:28:40.123Z"
   },
   {
    "duration": 25,
    "start_time": "2022-01-30T09:28:46.055Z"
   },
   {
    "duration": 16,
    "start_time": "2022-01-30T09:28:59.887Z"
   },
   {
    "duration": 15,
    "start_time": "2022-01-30T09:29:00.915Z"
   },
   {
    "duration": 6,
    "start_time": "2022-01-30T09:31:46.160Z"
   },
   {
    "duration": 13,
    "start_time": "2022-01-30T09:31:47.059Z"
   },
   {
    "duration": 1091,
    "start_time": "2022-01-30T09:33:05.776Z"
   },
   {
    "duration": 231,
    "start_time": "2022-01-30T09:40:28.548Z"
   },
   {
    "duration": 239,
    "start_time": "2022-01-30T09:41:11.262Z"
   },
   {
    "duration": 82,
    "start_time": "2022-01-30T09:41:23.845Z"
   },
   {
    "duration": 234,
    "start_time": "2022-01-30T09:41:29.509Z"
   },
   {
    "duration": 14,
    "start_time": "2022-01-30T09:41:32.778Z"
   },
   {
    "duration": 337,
    "start_time": "2022-01-30T09:49:03.964Z"
   },
   {
    "duration": 15,
    "start_time": "2022-01-30T09:49:09.417Z"
   },
   {
    "duration": 12,
    "start_time": "2022-01-30T09:49:09.949Z"
   },
   {
    "duration": 285,
    "start_time": "2022-01-30T09:49:10.425Z"
   },
   {
    "duration": 4,
    "start_time": "2022-01-30T09:49:35.494Z"
   },
   {
    "duration": 7,
    "start_time": "2022-01-30T09:49:39.888Z"
   },
   {
    "duration": 9,
    "start_time": "2022-01-30T09:51:57.384Z"
   },
   {
    "duration": 10,
    "start_time": "2022-01-30T09:52:11.080Z"
   },
   {
    "duration": 9,
    "start_time": "2022-01-30T09:52:11.719Z"
   },
   {
    "duration": 10,
    "start_time": "2022-01-30T09:52:29.750Z"
   },
   {
    "duration": 6,
    "start_time": "2022-01-30T09:52:44.245Z"
   },
   {
    "duration": 11,
    "start_time": "2022-01-30T09:52:50.265Z"
   },
   {
    "duration": 7,
    "start_time": "2022-01-30T09:53:19.389Z"
   },
   {
    "duration": 12,
    "start_time": "2022-01-30T09:53:46.521Z"
   },
   {
    "duration": 13,
    "start_time": "2022-01-30T09:54:03.866Z"
   },
   {
    "duration": 209,
    "start_time": "2022-01-30T09:54:33.565Z"
   },
   {
    "duration": 8,
    "start_time": "2022-01-30T09:54:41.344Z"
   },
   {
    "duration": 15,
    "start_time": "2022-01-30T09:54:45.068Z"
   },
   {
    "duration": 235,
    "start_time": "2022-01-30T10:06:00.763Z"
   },
   {
    "duration": 237,
    "start_time": "2022-01-30T10:06:10.191Z"
   },
   {
    "duration": 2237,
    "start_time": "2022-01-30T10:06:20.644Z"
   },
   {
    "duration": 12,
    "start_time": "2022-01-30T10:08:15.543Z"
   },
   {
    "duration": 17,
    "start_time": "2022-01-30T10:08:23.873Z"
   },
   {
    "duration": 15,
    "start_time": "2022-01-30T10:08:31.860Z"
   },
   {
    "duration": 269,
    "start_time": "2022-01-30T10:08:55.830Z"
   },
   {
    "duration": 273,
    "start_time": "2022-01-30T10:09:16.571Z"
   },
   {
    "duration": 309,
    "start_time": "2022-01-30T10:09:41.445Z"
   },
   {
    "duration": 486,
    "start_time": "2022-01-30T10:10:18.262Z"
   },
   {
    "duration": 306,
    "start_time": "2022-01-30T10:10:30.132Z"
   },
   {
    "duration": 262,
    "start_time": "2022-01-30T10:13:02.003Z"
   },
   {
    "duration": 272,
    "start_time": "2022-01-30T10:13:12.460Z"
   },
   {
    "duration": 284,
    "start_time": "2022-01-30T10:13:20.190Z"
   },
   {
    "duration": 316,
    "start_time": "2022-01-30T10:13:24.500Z"
   },
   {
    "duration": 642,
    "start_time": "2022-01-30T10:14:08.357Z"
   },
   {
    "duration": 437,
    "start_time": "2022-01-30T10:15:42.685Z"
   },
   {
    "duration": 6661,
    "start_time": "2022-01-30T10:17:02.935Z"
   },
   {
    "duration": 21,
    "start_time": "2022-01-30T10:17:23.596Z"
   },
   {
    "duration": 291,
    "start_time": "2022-01-30T10:17:54.963Z"
   },
   {
    "duration": 597,
    "start_time": "2022-01-30T10:17:59.984Z"
   },
   {
    "duration": 19,
    "start_time": "2022-01-30T10:18:32.858Z"
   },
   {
    "duration": 269,
    "start_time": "2022-01-30T10:21:03.629Z"
   },
   {
    "duration": 421,
    "start_time": "2022-01-30T10:21:31.847Z"
   },
   {
    "duration": 270,
    "start_time": "2022-01-30T10:21:57.855Z"
   },
   {
    "duration": 12,
    "start_time": "2022-01-30T10:22:02.961Z"
   },
   {
    "duration": 278,
    "start_time": "2022-01-30T10:22:03.490Z"
   },
   {
    "duration": 1782,
    "start_time": "2022-01-30T10:36:15.164Z"
   },
   {
    "duration": 14,
    "start_time": "2022-01-30T10:36:47.881Z"
   },
   {
    "duration": 17,
    "start_time": "2022-01-30T10:36:56.281Z"
   },
   {
    "duration": 32,
    "start_time": "2022-01-30T10:36:58.008Z"
   },
   {
    "duration": 741,
    "start_time": "2022-01-30T10:38:06.506Z"
   },
   {
    "duration": 882,
    "start_time": "2022-01-30T10:39:39.436Z"
   },
   {
    "duration": 315,
    "start_time": "2022-01-30T10:39:42.610Z"
   },
   {
    "duration": 650,
    "start_time": "2022-01-30T10:40:44.104Z"
   },
   {
    "duration": 263,
    "start_time": "2022-01-30T10:40:55.347Z"
   },
   {
    "duration": 22,
    "start_time": "2022-01-30T10:42:03.790Z"
   },
   {
    "duration": 17,
    "start_time": "2022-01-30T10:42:14.435Z"
   },
   {
    "duration": 17,
    "start_time": "2022-01-30T10:43:34.281Z"
   },
   {
    "duration": 1233,
    "start_time": "2022-01-30T10:46:15.755Z"
   },
   {
    "duration": 12,
    "start_time": "2022-01-30T10:46:16.990Z"
   },
   {
    "duration": 13,
    "start_time": "2022-01-30T10:46:17.005Z"
   },
   {
    "duration": 31,
    "start_time": "2022-01-30T10:46:17.020Z"
   },
   {
    "duration": 16,
    "start_time": "2022-01-30T10:46:17.053Z"
   },
   {
    "duration": 11,
    "start_time": "2022-01-30T10:46:17.071Z"
   },
   {
    "duration": 27,
    "start_time": "2022-01-30T10:46:17.084Z"
   },
   {
    "duration": 15,
    "start_time": "2022-01-30T10:46:17.114Z"
   },
   {
    "duration": 14,
    "start_time": "2022-01-30T10:46:17.131Z"
   },
   {
    "duration": 12,
    "start_time": "2022-01-30T10:46:17.146Z"
   },
   {
    "duration": 41,
    "start_time": "2022-01-30T10:46:17.159Z"
   },
   {
    "duration": 7,
    "start_time": "2022-01-30T10:46:17.202Z"
   },
   {
    "duration": 239,
    "start_time": "2022-01-30T10:46:17.211Z"
   },
   {
    "duration": 160,
    "start_time": "2022-01-30T10:46:17.452Z"
   },
   {
    "duration": 146,
    "start_time": "2022-01-30T10:46:17.614Z"
   },
   {
    "duration": 15,
    "start_time": "2022-01-30T10:46:17.763Z"
   },
   {
    "duration": 27,
    "start_time": "2022-01-30T10:46:17.780Z"
   },
   {
    "duration": 14,
    "start_time": "2022-01-30T10:46:17.810Z"
   },
   {
    "duration": 6,
    "start_time": "2022-01-30T10:46:17.825Z"
   },
   {
    "duration": 13,
    "start_time": "2022-01-30T10:46:17.833Z"
   },
   {
    "duration": 1087,
    "start_time": "2022-01-30T10:46:17.847Z"
   },
   {
    "duration": 13,
    "start_time": "2022-01-30T10:46:18.937Z"
   },
   {
    "duration": 405,
    "start_time": "2022-01-30T10:46:18.954Z"
   },
   {
    "duration": 260,
    "start_time": "2022-01-30T10:46:19.362Z"
   },
   {
    "duration": 234,
    "start_time": "2022-01-30T10:46:19.624Z"
   },
   {
    "duration": 249,
    "start_time": "2022-01-30T10:46:19.861Z"
   },
   {
    "duration": 13,
    "start_time": "2022-01-30T10:46:20.112Z"
   },
   {
    "duration": 461,
    "start_time": "2022-01-30T10:46:20.127Z"
   },
   {
    "duration": 19,
    "start_time": "2022-01-30T10:46:20.590Z"
   },
   {
    "duration": 18,
    "start_time": "2022-01-30T10:46:20.611Z"
   },
   {
    "duration": 57166,
    "start_time": "2022-01-30T10:46:20.631Z"
   },
   {
    "duration": 19,
    "start_time": "2022-01-30T10:47:17.799Z"
   },
   {
    "duration": 747,
    "start_time": "2022-01-30T10:47:17.820Z"
   },
   {
    "duration": 48,
    "start_time": "2022-01-30T10:47:18.569Z"
   },
   {
    "duration": 16,
    "start_time": "2022-01-30T10:47:18.618Z"
   },
   {
    "duration": 20,
    "start_time": "2022-01-30T10:47:18.636Z"
   },
   {
    "duration": 187,
    "start_time": "2022-01-30T10:47:18.658Z"
   },
   {
    "duration": 1646,
    "start_time": "2022-01-30T10:50:01.575Z"
   },
   {
    "duration": 13,
    "start_time": "2022-01-30T10:50:03.223Z"
   },
   {
    "duration": 12,
    "start_time": "2022-01-30T10:50:03.238Z"
   },
   {
    "duration": 29,
    "start_time": "2022-01-30T10:50:03.252Z"
   },
   {
    "duration": 16,
    "start_time": "2022-01-30T10:50:03.282Z"
   },
   {
    "duration": 2,
    "start_time": "2022-01-30T10:50:03.299Z"
   },
   {
    "duration": 19,
    "start_time": "2022-01-30T10:50:03.303Z"
   },
   {
    "duration": 28,
    "start_time": "2022-01-30T10:50:03.324Z"
   },
   {
    "duration": 14,
    "start_time": "2022-01-30T10:50:03.355Z"
   },
   {
    "duration": 12,
    "start_time": "2022-01-30T10:50:03.371Z"
   },
   {
    "duration": 18,
    "start_time": "2022-01-30T10:50:03.386Z"
   },
   {
    "duration": 23,
    "start_time": "2022-01-30T10:50:03.406Z"
   },
   {
    "duration": 245,
    "start_time": "2022-01-30T10:50:03.432Z"
   },
   {
    "duration": 160,
    "start_time": "2022-01-30T10:50:03.679Z"
   },
   {
    "duration": 145,
    "start_time": "2022-01-30T10:50:03.840Z"
   },
   {
    "duration": 19,
    "start_time": "2022-01-30T10:50:03.987Z"
   },
   {
    "duration": 28,
    "start_time": "2022-01-30T10:50:04.008Z"
   },
   {
    "duration": 28,
    "start_time": "2022-01-30T10:50:04.037Z"
   },
   {
    "duration": 27,
    "start_time": "2022-01-30T10:50:04.067Z"
   },
   {
    "duration": 26,
    "start_time": "2022-01-30T10:50:04.096Z"
   },
   {
    "duration": 1475,
    "start_time": "2022-01-30T10:50:04.125Z"
   },
   {
    "duration": 13,
    "start_time": "2022-01-30T10:50:05.602Z"
   },
   {
    "duration": 386,
    "start_time": "2022-01-30T10:50:05.617Z"
   },
   {
    "duration": 271,
    "start_time": "2022-01-30T10:50:06.005Z"
   },
   {
    "duration": 227,
    "start_time": "2022-01-30T10:50:06.278Z"
   },
   {
    "duration": 252,
    "start_time": "2022-01-30T10:50:06.507Z"
   },
   {
    "duration": 16,
    "start_time": "2022-01-30T10:50:06.764Z"
   },
   {
    "duration": 447,
    "start_time": "2022-01-30T10:50:06.799Z"
   },
   {
    "duration": 18,
    "start_time": "2022-01-30T10:50:07.248Z"
   },
   {
    "duration": 15,
    "start_time": "2022-01-30T10:50:07.269Z"
   },
   {
    "duration": 28,
    "start_time": "2022-01-30T10:50:07.286Z"
   },
   {
    "duration": 786,
    "start_time": "2022-01-30T10:50:07.316Z"
   },
   {
    "duration": 19,
    "start_time": "2022-01-30T10:50:08.104Z"
   },
   {
    "duration": 5,
    "start_time": "2022-01-30T10:50:08.125Z"
   },
   {
    "duration": 19,
    "start_time": "2022-01-30T10:50:08.132Z"
   },
   {
    "duration": 186,
    "start_time": "2022-01-30T10:50:08.153Z"
   },
   {
    "duration": 383,
    "start_time": "2022-01-30T10:50:08.341Z"
   },
   {
    "duration": 9,
    "start_time": "2022-01-30T10:50:08.725Z"
   },
   {
    "duration": 11,
    "start_time": "2022-01-30T10:50:08.736Z"
   },
   {
    "duration": 9,
    "start_time": "2022-01-30T10:50:08.749Z"
   },
   {
    "duration": 18,
    "start_time": "2022-01-30T10:50:50.421Z"
   },
   {
    "duration": 2768,
    "start_time": "2022-01-30T10:51:01.159Z"
   },
   {
    "duration": 429,
    "start_time": "2022-01-30T10:52:07.867Z"
   },
   {
    "duration": 299,
    "start_time": "2022-01-30T10:53:28.551Z"
   },
   {
    "duration": 280,
    "start_time": "2022-01-30T10:54:17.613Z"
   },
   {
    "duration": 17,
    "start_time": "2022-01-30T10:54:21.169Z"
   },
   {
    "duration": 24,
    "start_time": "2022-01-30T10:54:41.312Z"
   },
   {
    "duration": 283,
    "start_time": "2022-01-30T10:55:24.199Z"
   },
   {
    "duration": 25,
    "start_time": "2022-01-30T10:55:26.432Z"
   },
   {
    "duration": 289,
    "start_time": "2022-01-30T10:56:35.087Z"
   },
   {
    "duration": 18,
    "start_time": "2022-01-30T10:56:48.500Z"
   },
   {
    "duration": 24,
    "start_time": "2022-01-30T10:56:57.134Z"
   },
   {
    "duration": 284,
    "start_time": "2022-01-30T10:57:16.811Z"
   },
   {
    "duration": 279,
    "start_time": "2022-01-30T10:57:32.087Z"
   },
   {
    "duration": 274,
    "start_time": "2022-01-30T10:57:47.930Z"
   },
   {
    "duration": 272,
    "start_time": "2022-01-30T10:57:57.033Z"
   },
   {
    "duration": 283,
    "start_time": "2022-01-30T10:58:02.628Z"
   },
   {
    "duration": 24,
    "start_time": "2022-01-30T10:58:17.891Z"
   },
   {
    "duration": 20,
    "start_time": "2022-01-30T10:59:30.182Z"
   },
   {
    "duration": 23,
    "start_time": "2022-01-30T10:59:43.437Z"
   },
   {
    "duration": 1045,
    "start_time": "2022-01-30T10:59:54.201Z"
   },
   {
    "duration": 1077,
    "start_time": "2022-01-30T11:00:06.917Z"
   },
   {
    "duration": 24,
    "start_time": "2022-01-30T11:00:11.865Z"
   },
   {
    "duration": 301,
    "start_time": "2022-01-30T11:00:40.783Z"
   },
   {
    "duration": 282,
    "start_time": "2022-01-30T11:00:51.806Z"
   },
   {
    "duration": 274,
    "start_time": "2022-01-30T11:01:01.103Z"
   },
   {
    "duration": 23,
    "start_time": "2022-01-30T11:01:09.098Z"
   },
   {
    "duration": 701,
    "start_time": "2022-01-30T11:03:05.718Z"
   },
   {
    "duration": 18,
    "start_time": "2022-01-30T11:03:08.573Z"
   },
   {
    "duration": 17,
    "start_time": "2022-01-30T11:03:17.887Z"
   },
   {
    "duration": 753,
    "start_time": "2022-01-30T11:03:18.399Z"
   },
   {
    "duration": 58,
    "start_time": "2022-01-30T11:03:19.155Z"
   },
   {
    "duration": 4,
    "start_time": "2022-01-30T11:03:19.450Z"
   },
   {
    "duration": 17,
    "start_time": "2022-01-30T11:03:21.348Z"
   },
   {
    "duration": 22,
    "start_time": "2022-01-30T11:04:04.860Z"
   },
   {
    "duration": 290,
    "start_time": "2022-01-30T11:04:39.426Z"
   },
   {
    "duration": 17,
    "start_time": "2022-01-30T11:04:46.227Z"
   },
   {
    "duration": 475,
    "start_time": "2022-01-30T11:07:28.302Z"
   },
   {
    "duration": 233,
    "start_time": "2022-01-30T11:07:32.774Z"
   },
   {
    "duration": 330,
    "start_time": "2022-01-30T11:07:57.732Z"
   },
   {
    "duration": 180,
    "start_time": "2022-01-30T11:08:04.131Z"
   },
   {
    "duration": 10,
    "start_time": "2022-01-30T11:08:14.848Z"
   },
   {
    "duration": 2,
    "start_time": "2022-01-30T11:08:33.934Z"
   },
   {
    "duration": 16,
    "start_time": "2022-01-30T11:08:34.433Z"
   },
   {
    "duration": 456,
    "start_time": "2022-01-30T11:08:34.985Z"
   },
   {
    "duration": 115,
    "start_time": "2022-01-30T11:08:37.062Z"
   },
   {
    "duration": 99,
    "start_time": "2022-01-30T11:09:51.561Z"
   },
   {
    "duration": 1165,
    "start_time": "2022-01-31T09:04:25.045Z"
   },
   {
    "duration": 9,
    "start_time": "2022-01-31T09:04:26.212Z"
   },
   {
    "duration": 12,
    "start_time": "2022-01-31T09:04:26.223Z"
   },
   {
    "duration": 24,
    "start_time": "2022-01-31T09:04:26.238Z"
   },
   {
    "duration": 16,
    "start_time": "2022-01-31T09:04:26.264Z"
   },
   {
    "duration": 3,
    "start_time": "2022-01-31T09:04:26.281Z"
   },
   {
    "duration": 19,
    "start_time": "2022-01-31T09:04:26.285Z"
   },
   {
    "duration": 37,
    "start_time": "2022-01-31T09:04:26.306Z"
   },
   {
    "duration": 16,
    "start_time": "2022-01-31T09:04:26.346Z"
   },
   {
    "duration": 13,
    "start_time": "2022-01-31T09:04:26.364Z"
   },
   {
    "duration": 16,
    "start_time": "2022-01-31T09:04:26.379Z"
   },
   {
    "duration": 31,
    "start_time": "2022-01-31T09:04:26.397Z"
   },
   {
    "duration": 246,
    "start_time": "2022-01-31T09:04:26.430Z"
   },
   {
    "duration": 172,
    "start_time": "2022-01-31T09:04:26.678Z"
   },
   {
    "duration": 158,
    "start_time": "2022-01-31T09:04:26.851Z"
   },
   {
    "duration": 27,
    "start_time": "2022-01-31T09:04:27.011Z"
   },
   {
    "duration": 12,
    "start_time": "2022-01-31T09:04:27.041Z"
   },
   {
    "duration": 17,
    "start_time": "2022-01-31T09:04:27.055Z"
   },
   {
    "duration": 7,
    "start_time": "2022-01-31T09:04:27.073Z"
   },
   {
    "duration": 13,
    "start_time": "2022-01-31T09:04:27.081Z"
   },
   {
    "duration": 1058,
    "start_time": "2022-01-31T09:04:27.095Z"
   },
   {
    "duration": 10,
    "start_time": "2022-01-31T09:04:28.155Z"
   },
   {
    "duration": 375,
    "start_time": "2022-01-31T09:04:28.167Z"
   },
   {
    "duration": 202,
    "start_time": "2022-01-31T09:04:28.544Z"
   },
   {
    "duration": 226,
    "start_time": "2022-01-31T09:04:28.748Z"
   },
   {
    "duration": 2,
    "start_time": "2022-01-31T09:04:28.976Z"
   },
   {
    "duration": 18,
    "start_time": "2022-01-31T09:04:28.982Z"
   },
   {
    "duration": 357,
    "start_time": "2022-01-31T09:04:29.002Z"
   },
   {
    "duration": 180,
    "start_time": "2022-01-31T09:04:29.361Z"
   },
   {
    "duration": 17,
    "start_time": "2022-01-31T09:04:29.547Z"
   },
   {
    "duration": 17,
    "start_time": "2022-01-31T09:04:29.566Z"
   },
   {
    "duration": 691,
    "start_time": "2022-01-31T09:04:29.584Z"
   },
   {
    "duration": 16,
    "start_time": "2022-01-31T09:04:30.276Z"
   },
   {
    "duration": 38,
    "start_time": "2022-01-31T09:04:30.293Z"
   },
   {
    "duration": 26,
    "start_time": "2022-01-31T09:04:30.334Z"
   },
   {
    "duration": 129,
    "start_time": "2022-01-31T09:04:30.361Z"
   },
   {
    "duration": 318,
    "start_time": "2022-01-31T09:04:30.491Z"
   },
   {
    "duration": 26,
    "start_time": "2022-01-31T09:04:30.811Z"
   },
   {
    "duration": 20,
    "start_time": "2022-01-31T09:04:30.840Z"
   },
   {
    "duration": 11,
    "start_time": "2022-01-31T09:04:30.862Z"
   },
   {
    "duration": 1612,
    "start_time": "2022-02-09T15:30:20.790Z"
   }
  ],
  "kernelspec": {
   "display_name": "Python 3 (ipykernel)",
   "language": "python",
   "name": "python3"
  },
  "language_info": {
   "codemirror_mode": {
    "name": "ipython",
    "version": 3
   },
   "file_extension": ".py",
   "mimetype": "text/x-python",
   "name": "python",
   "nbconvert_exporter": "python",
   "pygments_lexer": "ipython3",
   "version": "3.7.6"
  },
  "toc": {
   "base_numbering": 1,
   "nav_menu": {},
   "number_sections": true,
   "sideBar": true,
   "skip_h1_title": true,
   "title_cell": "Table of Contents",
   "title_sidebar": "Contents",
   "toc_cell": false,
   "toc_position": {},
   "toc_section_display": true,
   "toc_window_display": false
  }
 },
 "nbformat": 4,
 "nbformat_minor": 2
}
